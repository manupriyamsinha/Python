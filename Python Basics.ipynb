{
 "cells": [
  {
   "cell_type": "markdown",
   "id": "73b00833",
   "metadata": {},
   "source": [
    "##### Find power of a number\n",
    "\n",
    "Write a program to find x to the power n (i.e. x^n). Take x and n from the user. You need to print the answer.\n",
    "Note : For this question, you can assume that 0 raised to the power of 0 is 1\n",
    "\n",
    "Input format :\n",
    "Two integers x and n (separated by space)\n",
    "Output Format :\n",
    "x^n (i.e. x raise to the power n)\n",
    "Constraints:\n",
    "0 <= x <= 8 \n",
    "0 <= n <= 9\n",
    "Sample Input 1 :\n",
    " 3 4\n",
    "Sample Output 1 :\n",
    "81\n",
    "Sample Input 2 :\n",
    " 2 5\n",
    "Sample Output 2 :\n",
    "32"
   ]
  },
  {
   "cell_type": "code",
   "execution_count": 8,
   "id": "2378d4b6",
   "metadata": {},
   "outputs": [
    {
     "name": "stdout",
     "output_type": "stream",
     "text": [
      "2 5\n",
      "32\n"
     ]
    }
   ],
   "source": [
    "#first method\n",
    "x,n = map(int,input().split())\n",
    "if x==0 and n==0:\n",
    "    print(1)\n",
    "elif x==0 or n==0:\n",
    "    print(0)\n",
    "else:\n",
    "    print(x**n)"
   ]
  },
  {
   "cell_type": "code",
   "execution_count": 9,
   "id": "f4957220",
   "metadata": {},
   "outputs": [
    {
     "name": "stdout",
     "output_type": "stream",
     "text": [
      "Enter the number0\n",
      "Enter the power for the number123\n",
      "1\n"
     ]
    }
   ],
   "source": [
    "#second method\n",
    "x = int(input(\"Enter the number\"))\n",
    "n = int(input(\"Enter the power for the number\"))\n",
    "#base case\n",
    "if (x==0 or n==0):\n",
    "    print(1)\n",
    "    \n",
    "else:\n",
    "    print(x**n)"
   ]
  },
  {
   "cell_type": "markdown",
   "id": "0d6d771e",
   "metadata": {},
   "source": [
    "##### Alpha Pattern\n",
    "\n",
    "Print the following pattern for the given N number of rows.\n",
    "Pattern for N = 3\n",
    " A\n",
    " BB\n",
    " CCC\n",
    "Input format :\n",
    "Integer N (Total no. of rows)\n",
    "Output format :\n",
    "Pattern in N lines\n",
    "Constraints\n",
    "0 <= N <= 26\n",
    "Sample Input 1:\n",
    "7\n",
    "Sample Output 1:\n",
    "A\n",
    "BB\n",
    "CCC\n",
    "DDDD\n",
    "EEEEE\n",
    "FFFFFF\n",
    "GGGGGGG\n",
    "\n",
    "Sample Input 2:\n",
    "6\n",
    "Sample Output 2:\n",
    "A\n",
    "BB\n",
    "CCC\n",
    "DDDD\n",
    "EEEEE\n",
    "FFFFFF\n",
    "\n",
    "\n"
   ]
  },
  {
   "cell_type": "code",
   "execution_count": 19,
   "id": "7227c992",
   "metadata": {},
   "outputs": [
    {
     "name": "stdout",
     "output_type": "stream",
     "text": [
      "7\n",
      "A\n",
      "BB\n",
      "CCC\n",
      "DDDD\n",
      "EEEEE\n",
      "FFFFFF\n",
      "GGGGGGG\n"
     ]
    }
   ],
   "source": [
    "x = int(input())\n",
    "asci = 65\n",
    "for i in range(1,x+1):\n",
    "    for j in range(1,i+1):\n",
    "        print(chr(i+64),end='')\n",
    "    print()"
   ]
  },
  {
   "cell_type": "markdown",
   "id": "dfe649db",
   "metadata": {},
   "source": [
    "##### All prime numbers\n",
    "\n",
    "Given an integer N, print all the prime numbers that lie in the range 2 to N (both inclusive).\n",
    "\n",
    "Print the prime numbers in different lines.\n",
    "\n",
    "Input Format :\n",
    "\n",
    "Integer N\n",
    "\n",
    "Output Format :\n",
    "\n",
    "Prime numbers in different lines\n",
    "\n",
    "Constraints :\n",
    "\n",
    "1 <= N <= 100\n",
    "\n",
    "Sample Input 1:\n",
    "\n",
    "9\n",
    "\n",
    "Sample Output 1:\n",
    "\n",
    "2\n",
    "\n",
    "3\n",
    "\n",
    "5\n",
    "\n",
    "7\n",
    "\n",
    "\n",
    "\n",
    "\n",
    "\n",
    "\n",
    "\n",
    "\n",
    "\n",
    "Sample Input 2:\n",
    "\n",
    "20\n",
    "\n",
    "Sample Output 2:\n",
    "\n",
    "2\n",
    "\n",
    "3\n",
    "\n",
    "5\n",
    "\n",
    "7\n",
    "\n",
    "11\n",
    "\n",
    "13\n",
    "\n",
    "17\n",
    "\n",
    "19"
   ]
  },
  {
   "cell_type": "code",
   "execution_count": null,
   "id": "8b3ec429",
   "metadata": {},
   "outputs": [],
   "source": []
  },
  {
   "cell_type": "code",
   "execution_count": 23,
   "id": "d220a033",
   "metadata": {},
   "outputs": [
    {
     "name": "stdout",
     "output_type": "stream",
     "text": [
      "9\n",
      "2\n",
      "3\n",
      "5\n",
      "7\n",
      "9\n"
     ]
    }
   ],
   "source": [
    "def isPrime(n):\n",
    "    if n==2 or n==3:\n",
    "        return n\n",
    "    for i in range(2,n):\n",
    "        if n%i ==0:\n",
    "            return False\n",
    "        return True\n",
    "    \n",
    "\n",
    "a = int(input())\n",
    "for i in range(2,a+1):\n",
    "        if isPrime(i):\n",
    "            print(i)\n",
    "        "
   ]
  },
  {
   "cell_type": "markdown",
   "id": "bf0192b6",
   "metadata": {},
   "source": [
    "##### Arithmetic Progression\n",
    "\n",
    "You are given first three entries of an arithmetic progression. You have to calculate the common difference and print it.\n",
    "Input format:\n",
    "The first line of input contains an integer a (1 <= a <= 100)\n",
    "The second line of input contains an integer b (1 <= b <= 100) \n",
    "The third line of input contains an integer c (1 <= c <= 100) \n",
    "Constraints:\n",
    "Time Limit: 1 second\n",
    "Output format:\n",
    "The first and only line of output contains the result.  \n",
    "Sample Input:\n",
    "1\n",
    "3\n",
    "5\n",
    "Sample Output:\n",
    "2"
   ]
  },
  {
   "cell_type": "code",
   "execution_count": 29,
   "id": "cd31e511",
   "metadata": {},
   "outputs": [
    {
     "name": "stdout",
     "output_type": "stream",
     "text": [
      "5\n",
      "10\n",
      "15\n",
      "5\n"
     ]
    }
   ],
   "source": [
    "\n",
    "def ap(a,b,c):\n",
    "    x = b-a\n",
    "    y = c-b\n",
    "    if x == y:\n",
    "        return x\n",
    "    \n",
    "    \n",
    "a = int(input())\n",
    "b = int(input())\n",
    "c = int(input())\n",
    "\n",
    "print(ap(a,b,c))\n",
    "\n"
   ]
  },
  {
   "cell_type": "markdown",
   "id": "321c5ad7",
   "metadata": {},
   "source": [
    "##### Rectangular Area\n",
    "\n",
    "You are given a rectangle in a plane. The corner coordinates of this rectangle is provided to you. You have to print the amount of area of the plane covered by this rectangles.\n",
    "The end coordinates are provided as four integral values: x1, y1, x2, y2. It is given that x1 < x2 and y1 < y2.\n",
    "Input format:\n",
    "The first line of input contains an integer x1 (1 <= x1 <= 10)\n",
    "The second line of input contains an integer y1 (1 <= y1 <= 10) \n",
    "The third line of input contains an integer x2 (1 <= x2 <= 10)\n",
    "The fourth line of input contains an integer y2 (1 <= y2 <= 10) \n",
    "Constraints:\n",
    "Time Limit: 1 second\n",
    "Output format:\n",
    "The first and only line of output contains the result.  \n",
    "Sample Input:\n",
    "1\n",
    "1\n",
    "3\n",
    "3\n",
    "Sample Output:\n",
    "4\n"
   ]
  },
  {
   "cell_type": "code",
   "execution_count": 32,
   "id": "53697039",
   "metadata": {},
   "outputs": [
    {
     "name": "stdout",
     "output_type": "stream",
     "text": [
      "3\n",
      "10\n",
      "8\n",
      "15\n",
      "25\n"
     ]
    }
   ],
   "source": [
    "def rect(a,b,c,d):\n",
    "    length = c-a\n",
    "    breadth = d-b\n",
    "    return length*breadth\n",
    "\n",
    "x1 = int(input())\n",
    "y1 = int(input())\n",
    "x2 = int(input())\n",
    "y2 = int(input())\n",
    "print(rect(x1,y1,x2,y2))"
   ]
  },
  {
   "cell_type": "markdown",
   "id": "aa4f2e41",
   "metadata": {},
   "source": [
    "##### Sum of n numbers\n",
    "\n",
    "Given an integer n, find and print the sum of numbers from 1 to n.\n",
    "Note : Use while loop only.\n",
    "Input Format :\n",
    "Integer n\n",
    "Output Format :\n",
    "Sum\n",
    "Constraints :\n",
    "1 <= n <= 100\n",
    "Sample Input :\n",
    "10\n",
    "Sample Output :\n",
    "55"
   ]
  },
  {
   "cell_type": "code",
   "execution_count": 34,
   "id": "8ae15d4f",
   "metadata": {},
   "outputs": [
    {
     "name": "stdout",
     "output_type": "stream",
     "text": [
      "10\n",
      "55\n"
     ]
    }
   ],
   "source": [
    "def sumof(n):\n",
    "    total = 0\n",
    "    i=1\n",
    "    while i<=n:\n",
    "        total+=i\n",
    "        i+=1\n",
    "    return total\n",
    "\n",
    "x = int(input())\n",
    "print(sumof(x))"
   ]
  },
  {
   "cell_type": "markdown",
   "id": "85f72047",
   "metadata": {},
   "source": [
    "##### Sum of Even Numbers\n",
    "\n",
    "Given a number N, print sum of all even numbers from 1 to N.\n",
    "Input Format :\n",
    "Integer N\n",
    "Output Format :\n",
    "Required Sum \n",
    "Sample Input 1 :\n",
    " 6\n",
    "Sample Output 1 :\n",
    "12\n"
   ]
  },
  {
   "cell_type": "code",
   "execution_count": 36,
   "id": "9a3c6881",
   "metadata": {},
   "outputs": [
    {
     "name": "stdout",
     "output_type": "stream",
     "text": [
      "6\n",
      "12\n"
     ]
    }
   ],
   "source": [
    "def evenSum(n):\n",
    "    total = 0\n",
    "    for i in range(n+1):\n",
    "        if i%2==0:\n",
    "            total+=i\n",
    "    return total\n",
    "\n",
    "x = int(input())\n",
    "print(evenSum(x))"
   ]
  },
  {
   "cell_type": "markdown",
   "id": "63bc7e59",
   "metadata": {},
   "source": [
    "##### Fahrenheit to Celsius\n",
    "\n",
    "Given three values - Start Fahrenheit Value (S), End Fahrenheit value (E) and Step Size (W), you need to convert \n",
    "all Fahrenheit values from Start to End at the gap of W, into their corresponding Celsius values and print the \n",
    "table.\n",
    "\n",
    "Input Format :\n",
    "\n",
    "3 integers - S, E and W respectively \n",
    "\n",
    "Output Format :\n",
    "\n",
    "Fahrenheit to Celsius conversion table. One line for every Fahrenheit and corresponding Celsius value. On \n",
    "Fahrenheit value and its corresponding Celsius value should be separate by tab (\"\\t\")\n",
    "\n",
    "Constraints :\n",
    "\n",
    "0 <= S <= 80\n",
    "\n",
    "S <= E <=  900\n",
    "\n",
    "0 <= W <= 40 \n",
    "\n",
    "Sample Input 1:\n",
    "\n",
    "0 \n",
    "\n",
    "100 \n",
    "\n",
    "20\n",
    "\n",
    "Sample Output 1:\n",
    "\n",
    "0   -17\n",
    "\n",
    "20  -6\n",
    "\n",
    "40  4\n",
    "\n",
    "60  15\n",
    "\n",
    "80  26\n",
    "\n",
    "100 37\n",
    "\n",
    "Sample Input 2:\n",
    "\n",
    "20\n",
    "\n",
    "119\n",
    "\n",
    "13\n",
    "\n",
    "Sample Output 2:\n",
    "\n",
    "20  -6\n",
    "\n",
    "33  0 \n",
    "\n",
    "46  7\n",
    "\n",
    "59  15\n",
    "\n",
    "72  22\n",
    "\n",
    "85  29\n",
    "\n",
    "98  36\n",
    "\n",
    "111 43\n",
    "\n",
    "Explanation For Input 2:\n",
    "\n",
    "We need need to start calculating the Celsius values for each of the Fahrenheit Value which starts from 20. \n",
    "So starting from 20 which is the given Fahrenheit start value, we need to compute its corresponding Celsius \n",
    "value which computes to -6. We print this information as <Fahrenheit Value> a tab space\"\\t\" <Celsius Value> on \n",
    "each line for each step of 13 we take to get the next value of Fahrenheit and extend this idea till we reach \n",
    "the end that is till 119 in this case. You may or may not exactly land on the end value depending on the \n",
    "steps you are taking."
   ]
  },
  {
   "cell_type": "code",
   "execution_count": 50,
   "id": "d8a93533",
   "metadata": {},
   "outputs": [
    {
     "name": "stdout",
     "output_type": "stream",
     "text": [
      "20\n",
      "119\n",
      "13\n",
      "20 \t -6.666666666666667\n",
      "33 \t 0.5555555555555556\n",
      "46 \t 7.777777777777778\n",
      "59 \t 15.0\n",
      "72 \t 22.22222222222222\n",
      "85 \t 29.444444444444443\n",
      "98 \t 36.666666666666664\n",
      "111 \t 43.888888888888886\n"
     ]
    }
   ],
   "source": [
    "def tempConversion(S,E,W):\n",
    "    for i in range(S,E+1,W):\n",
    "        celsius = ((i-32)*5)/9\n",
    "        #celsius = ((i-32))/1.8\n",
    "        print(i,\"\\t\",(celsius))\n",
    "\n",
    "s = int(input())\n",
    "e = int(input())\n",
    "w = int(input())\n",
    "tempConversion(s,e,w)"
   ]
  },
  {
   "cell_type": "markdown",
   "id": "37fa37a3",
   "metadata": {},
   "source": [
    "##### Sum of n numbers\n",
    "\n",
    "Given an integer n, find and print the sum of numbers from 1 to n.\n",
    "Note : Use while loop only.\n",
    "Input Format :\n",
    "Integer n\n",
    "Output Format :\n",
    "Sum\n",
    "Constraints :\n",
    "1 <= n <= 100\n",
    "Sample Input :\n",
    "10\n",
    "Sample Output :\n",
    "55\n",
    "\n"
   ]
  },
  {
   "cell_type": "code",
   "execution_count": 4,
   "id": "2c250144",
   "metadata": {},
   "outputs": [
    {
     "data": {
      "text/plain": [
       "5050"
      ]
     },
     "execution_count": 4,
     "metadata": {},
     "output_type": "execute_result"
    }
   ],
   "source": [
    "def sum_n(n):\n",
    "    res = 0\n",
    "    i=0\n",
    "    while i<= n:\n",
    "        res +=i\n",
    "        i+=1\n",
    "    return res\n",
    "\n",
    "result = sum_n(100)\n",
    "result"
   ]
  },
  {
   "cell_type": "markdown",
   "id": "0483e2e2",
   "metadata": {},
   "source": [
    "##### Sum of n even numbers"
   ]
  },
  {
   "cell_type": "code",
   "execution_count": 8,
   "id": "e3d95798",
   "metadata": {},
   "outputs": [
    {
     "data": {
      "text/plain": [
       "12"
      ]
     },
     "execution_count": 8,
     "metadata": {},
     "output_type": "execute_result"
    }
   ],
   "source": [
    "def evenSum(n):\n",
    "    res = 0\n",
    "    i = 1\n",
    "    while i<=n:\n",
    "        if i%2==0:\n",
    "            res+=i\n",
    "            i+=1\n",
    "        else:\n",
    "            i+=1\n",
    "    return res\n",
    "\n",
    "result = evenSum(6)\n",
    "result"
   ]
  },
  {
   "cell_type": "markdown",
   "id": "357d0255",
   "metadata": {},
   "source": [
    "##### Primality Checking"
   ]
  },
  {
   "cell_type": "code",
   "execution_count": 20,
   "id": "74eaaf98",
   "metadata": {},
   "outputs": [
    {
     "name": "stdout",
     "output_type": "stream",
     "text": [
      "Not Prime\n"
     ]
    }
   ],
   "source": [
    "def checkPrime(n):\n",
    "    if n>2:\n",
    "        d = 2\n",
    "        flag = False\n",
    "        while d<n:\n",
    "            if n%d==0:\n",
    "                flag=True\n",
    "            d+=1\n",
    "        if flag:\n",
    "            print(\"Not Prime\")\n",
    "        else:\n",
    "            print(\"Prime\")\n",
    "    \n",
    "    else:\n",
    "        if (n==2 or n==1):\n",
    "            print(\"Prime \")\n",
    "            \n",
    "checkPrime(10)"
   ]
  },
  {
   "cell_type": "code",
   "execution_count": 16,
   "id": "ebc1ca42",
   "metadata": {},
   "outputs": [
    {
     "data": {
      "text/plain": [
       "'Not Prime'"
      ]
     },
     "execution_count": 16,
     "metadata": {},
     "output_type": "execute_result"
    }
   ],
   "source": [
    "def primality(num):\n",
    "    if num==1 or num==2 or num==3:\n",
    "        return 'Prime Number'\n",
    "    else:\n",
    "        if (num%2==0) or (num%3==0) or (num%15==0):\n",
    "            return 'Not Prime'\n",
    "        else:\n",
    "            return 'Prime Number'\n",
    "    \n",
    "    \n",
    "result = primality(15)\n",
    "result"
   ]
  },
  {
   "cell_type": "markdown",
   "id": "6ff2f054",
   "metadata": {},
   "source": [
    "##### Calculator\n",
    "\n",
    "Write a program that performs the tasks of a simple calculator. The program should first take an integer as \n",
    "input and then based on that integer perform the task as given below.\n",
    "\n",
    "1. If the input is 1, then 2 integers are taken from the user and their sum is printed.\n",
    "\n",
    "2. If the input is 2, then 2 integers are taken from the user and their difference(1st number - 2nd number) is \n",
    "printed.\n",
    "\n",
    "3. If the input is 3, then 2 integers are taken from the user and their product is printed.\n",
    "\n",
    "4. If the input is 4, then 2 integers are taken from the user and the quotient obtained (on dividing 1st number \n",
    "   by 2nd number) is printed.\n",
    "\n",
    "5. If the input is 5, then 2 integers are taken from the user and their remainder(1st number mod 2nd number) is    printed.\n",
    "\n",
    "6. If the input is 6, then the program exits.\n",
    "\n",
    "7. For any other input, then print \"Invalid Operation\".\n",
    "\n",
    "Note: Each answer in next line.\n",
    "\n",
    "Input format:\n",
    "\n",
    "Take integers as input, in accordance to the description of the question. \n",
    "\n",
    "Constraints:\n",
    "\n",
    "Time Limit: 1 second\n",
    "\n",
    "Output format:\n",
    "\n",
    "The output lines must be as prescribed in the description of the question.\n",
    "\n",
    "Sample Input:\n",
    "\n",
    "3\n",
    "\n",
    "1\n",
    "\n",
    "2\n",
    "\n",
    "4\n",
    "\n",
    "4\n",
    "\n",
    "2\n",
    "\n",
    "1\n",
    "\n",
    "3\n",
    "\n",
    "2\n",
    "\n",
    "7\n",
    "\n",
    "6\n",
    "\n",
    "Sample Output:\n",
    "\n",
    "2\n",
    "\n",
    "2\n",
    "\n",
    "5\n",
    "\n",
    "Invalid Operation\n",
    "\n",
    "Explanation of the sample input\n",
    "\n",
    "The first number given is 3, so that means two more numbers will be given and we'll have to multiply them and \n",
    "show the result. The two numbers are 1 and 2. Their product is 2, so 2 is displayed first in the output. \n",
    "Similarly, all the numbers are processed in groups of three. The first number tells the operation and the next \n",
    "two numbers tell on which numbers the operation is done. This applies to numbers from 1 to 5. If the input is 6 \n",
    "(like it is at the end), two more numbers will NOT be provided, you simply have to exit the program. Also, if \n",
    "the input is any number except 1 to 6 (like 7 which is at the second last), then you simply have to print \n",
    "\"Invalid Operation\"\n",
    "\n"
   ]
  },
  {
   "cell_type": "code",
   "execution_count": 32,
   "id": "bb2b9869",
   "metadata": {},
   "outputs": [],
   "source": [
    "\n",
    "def calc(a,b,c):\n",
    "    if (a==1):\n",
    "        print(b+c)\n",
    "    elif (a==2):\n",
    "        print(b-c)\n",
    "    elif (a==3):\n",
    "        print(b*c)\n",
    "    elif (a==4):\n",
    "        print(b//c)\n",
    "    elif (a==5):\n",
    "        print(b%c)\n",
    "    elif (a==6):\n",
    "        return\n",
    "    else:\n",
    "        print(\"Invalid Operation\")"
   ]
  },
  {
   "cell_type": "code",
   "execution_count": 35,
   "id": "430d10cc",
   "metadata": {},
   "outputs": [
    {
     "name": "stdout",
     "output_type": "stream",
     "text": [
      "Enter the number as per below:\n",
      "        1: sum\n",
      "     2:difference\n",
      "     3:multiply\n",
      "     4: quotient\n",
      "     5: remainder\n",
      "     6: exit1\n",
      "First number: 2\n",
      "Second number: 2\n",
      "4\n"
     ]
    }
   ],
   "source": [
    "n = int(input(\"\"\"Enter the number as per below:\n",
    "        1: sum\n",
    "     2:difference\n",
    "     3:multiply\n",
    "     4: quotient\n",
    "     5: remainder\n",
    "     6: exit\"\"\"))\n",
    "a = int(input(\"First number: \"))\n",
    "b = int(input(\"Second number: \"))\n",
    "calc(n,a,b)"
   ]
  },
  {
   "cell_type": "markdown",
   "id": "9a222326",
   "metadata": {},
   "source": [
    "##### Reverse of a number\n",
    "\n",
    "Write a program to generate the reverse of a given number N. Print the corresponding reverse number.\n",
    "Note : If a number has trailing zeros, then its reverse will not include them. For e.g., reverse of 10400 will \n",
    "be 401 instead of 00401.\n",
    "\n",
    "Input format :\n",
    "Integer N\n",
    "Output format :\n",
    "Corresponding reverse number\n",
    "Constraints:\n",
    "0 <= N < 10^8\n",
    "Sample Input 1 :\n",
    "1234\n",
    "Sample Output 1 :\n",
    "4321\n",
    "Sample Input 2 :\n",
    "1980\n",
    "Sample Output 2 :\n",
    "891\n",
    "\n"
   ]
  },
  {
   "cell_type": "code",
   "execution_count": 2,
   "id": "2af7377e",
   "metadata": {},
   "outputs": [
    {
     "name": "stdout",
     "output_type": "stream",
     "text": [
      "1900100\n",
      "10091\n"
     ]
    }
   ],
   "source": [
    "def reverse(n):\n",
    "    result=0\n",
    "    temp = n\n",
    "    while temp>0:\n",
    "        lastdigit=temp%10\n",
    "        temp=temp//10\n",
    "        result = result*10+lastdigit\n",
    "    print(result)\n",
    "\n",
    "num = int(input())\n",
    "reverse(num)"
   ]
  },
  {
   "cell_type": "markdown",
   "id": "8fd4fb26",
   "metadata": {},
   "source": [
    "##### Remove Character (Practice) "
   ]
  },
  {
   "cell_type": "code",
   "execution_count": 9,
   "id": "eb1509ce",
   "metadata": {},
   "outputs": [],
   "source": [
    "def removeChar(a,x):\n",
    "    \n",
    "    if(len(a)==0):\n",
    "        return a\n",
    "    new = removeChar(a[1:],x)\n",
    "    if a[0]==x:\n",
    "        return \"\"+new\n",
    "    else:\n",
    "        return a[0]+new\n"
   ]
  },
  {
   "cell_type": "code",
   "execution_count": 12,
   "id": "ce623eb5",
   "metadata": {},
   "outputs": [
    {
     "data": {
      "text/plain": [
       "'bnmui'"
      ]
     },
     "execution_count": 12,
     "metadata": {},
     "output_type": "execute_result"
    }
   ],
   "source": [
    "removeChar(\"abanamauaia\",\"a\")"
   ]
  },
  {
   "cell_type": "code",
   "execution_count": 16,
   "id": "00de6ead",
   "metadata": {},
   "outputs": [
    {
     "data": {
      "text/plain": [
       "'nmol bnsl'"
      ]
     },
     "execution_count": 16,
     "metadata": {},
     "output_type": "execute_result"
    }
   ],
   "source": [
    "def throw(a,x):\n",
    "    if len(a)==0:\n",
    "        return a\n",
    "    new = \"\"\n",
    "    for i in range(len(a)):\n",
    "        if a[i]==x:\n",
    "            new+=\"\"\n",
    "        else:\n",
    "            new+=a[i]\n",
    "    return new\n",
    "\n",
    "a=\"anmol bansal\"\n",
    "result = throw(a,\"a\")\n",
    "result"
   ]
  },
  {
   "cell_type": "markdown",
   "id": "5bb8ed05",
   "metadata": {},
   "source": [
    "##### Palindrome checker\n",
    "\n",
    "Write a program to determine if given number is palindrome or not. Print true if it is palindrome, false otherwise.\n",
    "Palindrome are the numbers for which reverse is exactly same as the original one. For eg. 121\n",
    "Sample Input 1 :\n",
    "121\n",
    "Sample Output 1 :\n",
    "true\n",
    "Sample Input 2 :\n",
    "1032\n",
    "Sample Output 2 :\n",
    "false\n",
    "\n"
   ]
  },
  {
   "cell_type": "code",
   "execution_count": 31,
   "id": "84ad9285",
   "metadata": {},
   "outputs": [],
   "source": [
    "#created a reverse copy of the num and then compared it with the original num\n",
    "def isPalindrome(n):\n",
    "    rev=\"\"\n",
    "    for i in range(len(n)-1,-1,-1):\n",
    "        rev+=n[i]\n",
    "    if rev == n:\n",
    "        return True\n",
    "    else:\n",
    "        return False"
   ]
  },
  {
   "cell_type": "code",
   "execution_count": 37,
   "id": "0b8791fc",
   "metadata": {},
   "outputs": [
    {
     "data": {
      "text/plain": [
       "False"
      ]
     },
     "execution_count": 37,
     "metadata": {},
     "output_type": "execute_result"
    }
   ],
   "source": [
    "isPalindrome(\"123021\")"
   ]
  },
  {
   "cell_type": "markdown",
   "id": "a2a8f352",
   "metadata": {},
   "source": [
    "##### Sum of even & odd\n",
    "\n",
    "Write a program to input an integer N and print the sum of all its even digits and sum of all its odd digits separately.\n",
    "Digits mean numbers, not the places! That is, if the given integer is \"13245\", even digits are 2 & 4 and odd digits are 1, 3 & 5.\n",
    "Input format :\n",
    " Integer N\n",
    "Output format :\n",
    "Sum_of_Even_Digits Sum_of_Odd_Digits\n",
    "(Print first even sum and then odd sum separated by space)\n",
    "Constraints\n",
    "0 <= N <= 10^8\n",
    "Sample Input 1:\n",
    "1234\n",
    "Sample Output 1:\n",
    "6 4\n",
    "Sample Input 2:\n",
    "552245\n",
    "Sample Output 2:\n",
    "8 15\n",
    "Explanation for Input 2:\n",
    "For the given input, the even digits are 2, 2 and 4 and if we take the sum of these digits it will come out to be 8(2 + 2 + 4) and similarly, if we look at the odd digits, they are, 5, 5 and 5 which makes a sum of 15(5 + 5 + 5). Hence the answer would be, 8(evenSum) <single space> 15(oddSum)\n",
    "\n"
   ]
  },
  {
   "cell_type": "code",
   "execution_count": 40,
   "id": "69086370",
   "metadata": {},
   "outputs": [],
   "source": [
    "def Even_Odd(n):\n",
    "    even=0\n",
    "    odd=0\n",
    "    temp = n\n",
    "    num=''\n",
    "    while temp>0:\n",
    "        num = temp%10\n",
    "        temp=temp//10\n",
    "        if num%2==0:\n",
    "            even+=num\n",
    "        else:\n",
    "            odd+=num\n",
    "    return even, odd"
   ]
  },
  {
   "cell_type": "code",
   "execution_count": 42,
   "id": "8fbf4a3b",
   "metadata": {},
   "outputs": [
    {
     "data": {
      "text/plain": [
       "(6, 9)"
      ]
     },
     "execution_count": 42,
     "metadata": {},
     "output_type": "execute_result"
    }
   ],
   "source": [
    "Even_Odd(12345)"
   ]
  },
  {
   "cell_type": "markdown",
   "id": "db18d33c",
   "metadata": {},
   "source": [
    "##### Nth Fibonacci number\n",
    "\n",
    "Nth term of fibonacci series F(n) is calculated using following formula -\n",
    "    F(n) = F(n-1) + F(n-2), \n",
    "    Where, F(1) = F(2) = 1\n",
    "Provided N you have to find out the Nth Fibonacci Number.\n",
    "Input Format :\n",
    "Integer n\n",
    "Output Format :\n",
    "Nth Fibonacci term i.e. F(n)\n",
    "Constraints:\n",
    "1 <= n <= 25\n",
    "Sample Input 1:\n",
    "4\n",
    "Sample Output 2:\n",
    "3 \n",
    "Sample Input 1:\n",
    "6\n",
    "Sample Output 2:\n",
    "8\n"
   ]
  },
  {
   "cell_type": "code",
   "execution_count": 56,
   "id": "afc1ee9d",
   "metadata": {},
   "outputs": [
    {
     "name": "stdout",
     "output_type": "stream",
     "text": [
      "7\n"
     ]
    },
    {
     "data": {
      "text/plain": [
       "13"
      ]
     },
     "execution_count": 56,
     "metadata": {},
     "output_type": "execute_result"
    }
   ],
   "source": [
    "def NthFib(n):\n",
    "    if n==1 or n==2:\n",
    "        return 1\n",
    "    elif n<=0:\n",
    "        return \n",
    "    #finding nth fib using recursion\n",
    "    a = NthFib(n-1)\n",
    "    b = NthFib(n-2)\n",
    "    return a+b\n",
    "\n",
    "NthFib(int(input()))"
   ]
  },
  {
   "cell_type": "code",
   "execution_count": 63,
   "id": "f8752889",
   "metadata": {},
   "outputs": [
    {
     "data": {
      "text/plain": [
       "13"
      ]
     },
     "execution_count": 63,
     "metadata": {},
     "output_type": "execute_result"
    }
   ],
   "source": [
    "#without recursion\n",
    "def nFib(n):\n",
    "    a = 1 \n",
    "    b=1\n",
    "    for i in range(1,n):\n",
    "        c=a+b\n",
    "        a=b\n",
    "        b=c\n",
    "    return a\n",
    "\n",
    "nFib(7)"
   ]
  },
  {
   "cell_type": "markdown",
   "id": "5a9a625d",
   "metadata": {},
   "source": [
    "##### Code : Square Pattern\n",
    "\n",
    "Print the following pattern for the given N number of rows.\n",
    "Pattern for N = 4\n",
    "4444\n",
    "4444\n",
    "4444\n",
    "4444\n",
    "Input format :\n",
    "Integer N (Total no. of rows)\n",
    "Output format :\n",
    "Pattern in N lines\n",
    "Constraints\n",
    "0 <= N <= 50\n",
    "Sample Input 1:\n",
    "7\n",
    "Sample Output 1:\n",
    "7777777\n",
    "7777777\n",
    "7777777\n",
    "7777777\n",
    "7777777\n",
    "7777777\n",
    "7777777\n",
    "Sample Input 1:\n",
    "6\n",
    "Sample Output 1:\n",
    "666666\n",
    "666666\n",
    "666666\n",
    "666666\n",
    "666666\n",
    "666666\n"
   ]
  },
  {
   "cell_type": "code",
   "execution_count": 3,
   "id": "92cf5a18",
   "metadata": {},
   "outputs": [
    {
     "name": "stdout",
     "output_type": "stream",
     "text": [
      "4\n",
      "4444\n",
      "4444\n",
      "4444\n",
      "4444\n"
     ]
    }
   ],
   "source": [
    "n=int(input())\n",
    "for i in range(n):\n",
    "    for j in range(n):\n",
    "        print(n,end='')\n",
    "    print()"
   ]
  },
  {
   "cell_type": "markdown",
   "id": "f9610258",
   "metadata": {},
   "source": [
    "1\n",
    "\n",
    "12\n",
    "\n",
    "123\n",
    "\n",
    "1234"
   ]
  },
  {
   "cell_type": "code",
   "execution_count": 8,
   "id": "58c3aa39",
   "metadata": {},
   "outputs": [
    {
     "name": "stdout",
     "output_type": "stream",
     "text": [
      "4\n",
      "1\n",
      "12\n",
      "123\n",
      "1234\n"
     ]
    }
   ],
   "source": [
    "n=int(input())\n",
    "for i in range(1,n+1):\n",
    "    for j in range(1,i+1):\n",
    "        print(j,end='')\n",
    "    print()"
   ]
  },
  {
   "cell_type": "markdown",
   "id": "6dc7598e",
   "metadata": {},
   "source": [
    "1\n",
    "\n",
    "23\n",
    "\n",
    "345\n",
    "\n",
    "4567"
   ]
  },
  {
   "cell_type": "code",
   "execution_count": 9,
   "id": "03f7a43b",
   "metadata": {},
   "outputs": [
    {
     "name": "stdout",
     "output_type": "stream",
     "text": [
      "4\n",
      "1\n",
      "23\n",
      "345\n",
      "4567\n"
     ]
    }
   ],
   "source": [
    "n=int(input())\n",
    "for i in range(1,n+1):\n",
    "    for j in range(i):\n",
    "        print(i+j,end='')\n",
    "    print()"
   ]
  },
  {
   "cell_type": "markdown",
   "id": "302d115a",
   "metadata": {},
   "source": [
    "1\n",
    "\n",
    "23\n",
    "\n",
    "456\n",
    "\n",
    "78910"
   ]
  },
  {
   "cell_type": "code",
   "execution_count": 10,
   "id": "5bd17c48",
   "metadata": {},
   "outputs": [
    {
     "name": "stdout",
     "output_type": "stream",
     "text": [
      "4\n",
      "1\n",
      "23\n",
      "456\n",
      "78910\n"
     ]
    }
   ],
   "source": [
    "n=int(input())\n",
    "num=1\n",
    "for i in range(1,n+1):\n",
    "    for j in range(1,i+1):\n",
    "        print(num,end='')\n",
    "        num+=1\n",
    "    print()"
   ]
  },
  {
   "cell_type": "markdown",
   "id": "7a723f2c",
   "metadata": {},
   "source": [
    "##### Code : Triangular Star Pattern\n",
    "\n",
    "Print the following pattern for the given N number of rows.\n",
    "Pattern for N = 4\n",
    "\n",
    "*\n",
    "\n",
    "**\n",
    "\n",
    "***\n",
    "\n",
    "****\n",
    "\n",
    "Note : There are no spaces between the stars (*).\n",
    "Input format :\n",
    "Integer N (Total no. of rows)\n",
    "Output format :\n",
    "Pattern in N lines\n",
    "Constraints\n",
    "0 <= N <= 50\n",
    "Sample Input 1:\n",
    "5\n",
    "\n",
    "Sample Output 1:\n",
    "\n",
    "*\n",
    "\n",
    "**\n",
    "\n",
    "***\n",
    "\n",
    "****\n",
    "\n",
    "*****\n",
    "\n",
    "Sample Input 2:\n",
    "6\n",
    "Sample Output 2:\n",
    "\n",
    "*\n",
    "\n",
    "**\n",
    "\n",
    "***\n",
    "\n",
    "****\n",
    "\n",
    "*****\n",
    "\n",
    "******"
   ]
  },
  {
   "cell_type": "code",
   "execution_count": 15,
   "id": "ceeb78f8",
   "metadata": {},
   "outputs": [
    {
     "name": "stdout",
     "output_type": "stream",
     "text": [
      "6\n",
      "*\n",
      "**\n",
      "***\n",
      "****\n",
      "*****\n",
      "******\n"
     ]
    }
   ],
   "source": [
    "n=int(input())\n",
    "for i in range(1,n+1):\n",
    "    for j in range(1,i+1):\n",
    "        print(\"*\",end='')\n",
    "    print()"
   ]
  },
  {
   "cell_type": "code",
   "execution_count": 16,
   "id": "347e9e74",
   "metadata": {},
   "outputs": [
    {
     "name": "stdout",
     "output_type": "stream",
     "text": [
      "4\n",
      "1\n",
      "22\n",
      "333\n",
      "4444\n"
     ]
    }
   ],
   "source": [
    "n=int(input())\n",
    "for i in range(1,n+1):\n",
    "    for j in range(1,i+1):\n",
    "        print(i,end='')\n",
    "    print()"
   ]
  },
  {
   "cell_type": "markdown",
   "id": "b2024a11",
   "metadata": {},
   "source": [
    "##### Code : Reverse Number Pattern\n",
    "\n",
    "Print the following pattern for the given N number of rows.\n",
    "Pattern for N = 4\n",
    "1\n",
    "21\n",
    "321\n",
    "4321\n",
    "Input format :\n",
    "Integer N (Total no. of rows)\n",
    "Output format :\n",
    "Pattern in N lines\n",
    "Constraints\n",
    "0 <= N <= 50\n",
    "Sample Input 1:\n",
    "5\n",
    "Sample Output 1:\n",
    "1\n",
    "21\n",
    "321\n",
    "4321\n",
    "54321\n",
    "Sample Input 2:\n",
    "6\n",
    "Sample Output 2:\n",
    "1\n",
    "21\n",
    "321\n",
    "4321\n",
    "54321\n",
    "654321\n"
   ]
  },
  {
   "cell_type": "code",
   "execution_count": 18,
   "id": "37aeda7c",
   "metadata": {},
   "outputs": [
    {
     "name": "stdout",
     "output_type": "stream",
     "text": [
      "4\n",
      "1\n",
      "21\n",
      "321\n",
      "4321\n"
     ]
    }
   ],
   "source": [
    "n=int(input())\n",
    "for i in range(1,n+1):\n",
    "    for j in range(1,i+1):\n",
    "        print(i-j+1,end='')\n",
    "    print()"
   ]
  },
  {
   "cell_type": "markdown",
   "id": "c324fcb3",
   "metadata": {},
   "source": [
    "#### Character Patterns"
   ]
  },
  {
   "cell_type": "code",
   "execution_count": 19,
   "id": "5a278fd9",
   "metadata": {},
   "outputs": [
    {
     "name": "stdout",
     "output_type": "stream",
     "text": [
      "4\n",
      "ABCD\n",
      "ABCD\n",
      "ABCD\n",
      "ABCD\n"
     ]
    }
   ],
   "source": [
    "n=int(input())\n",
    "x=ord(\"A\")\n",
    "for i in range(1,n+1):\n",
    "    for j in range(1,n+1):\n",
    "        print(chr(x+j-1),end='')\n",
    "    print()"
   ]
  },
  {
   "cell_type": "code",
   "execution_count": 33,
   "id": "9ae04f89",
   "metadata": {},
   "outputs": [
    {
     "name": "stdout",
     "output_type": "stream",
     "text": [
      "4\n",
      "ABCD\n",
      "BCDE\n",
      "CDEF\n",
      "DEFG\n"
     ]
    }
   ],
   "source": [
    "n=int(input())\n",
    "x=ord(\"A\")\n",
    "for i in range(1,n+1):\n",
    "    for j in range(1,n+1):\n",
    "        print(chr(x+i+j-2),end='')\n",
    "    print()"
   ]
  },
  {
   "cell_type": "code",
   "execution_count": 36,
   "id": "63ef439b",
   "metadata": {},
   "outputs": [
    {
     "name": "stdout",
     "output_type": "stream",
     "text": [
      "4\n",
      "ABCD\n",
      "BCDE\n",
      "CDEF\n",
      "DEFG\n"
     ]
    }
   ],
   "source": [
    "n=int(input())\n",
    "i=1\n",
    "while i<=n:\n",
    "    startChar=chr(ord(\"A\")+i-1)\n",
    "    j=1\n",
    "    while j<=n:\n",
    "        print(chr(ord(startChar)+j-1),end='')\n",
    "        j+=1\n",
    "    i+=1\n",
    "    print()"
   ]
  },
  {
   "cell_type": "markdown",
   "id": "ee42d4da",
   "metadata": {},
   "source": [
    "##### Code : Character Pattern\n",
    "\n",
    "Print the following pattern for the given N number of rows.\n",
    "Pattern for N = 4\n",
    "A\n",
    "BC\n",
    "CDE\n",
    "DEFG\n",
    "Input format :\n",
    "Integer N (Total no. of rows)\n",
    "Output format :\n",
    "Pattern in N lines\n",
    "Constraints\n",
    "0 <= N <= 13\n",
    "Sample Input 1:\n",
    "5\n",
    "Sample Output 1:\n",
    "A\n",
    "BC\n",
    "CDE\n",
    "DEFG\n",
    "EFGHI\n",
    "Sample Input 2:\n",
    "6\n",
    "Sample Output 2:\n",
    "A\n",
    "BC\n",
    "CDE\n",
    "DEFG\n",
    "EFGHI\n",
    "FGHIJK\n"
   ]
  },
  {
   "cell_type": "code",
   "execution_count": 11,
   "id": "d37b0786",
   "metadata": {},
   "outputs": [
    {
     "name": "stdout",
     "output_type": "stream",
     "text": [
      "5\n",
      "A\n",
      "BC\n",
      "CDE\n",
      "DEFG\n",
      "EFGHI\n"
     ]
    }
   ],
   "source": [
    "n=int(input())\n",
    "for i in range(1,n+1):\n",
    "    for j in range(1,i+1):\n",
    "        print(chr(ord(\"A\")+i+j-2),end='')\n",
    "    print()"
   ]
  },
  {
   "cell_type": "markdown",
   "id": "14f7aa61",
   "metadata": {},
   "source": [
    "##### Code : Interesting Alphabets\n",
    "\n",
    "Print the following pattern for the given number of rows.\n",
    "Pattern for N = 5\n",
    "E\n",
    "DE\n",
    "CDE\n",
    "BCDE\n",
    "ABCDE\n",
    "Input format :\n",
    "N (Total no. of rows)\n",
    "Output format :\n",
    "Pattern in N lines\n",
    "Constraints\n",
    "0 <= N <= 26\n",
    "\n",
    "\n",
    "\n",
    "\n",
    "\n",
    "\n",
    "\n",
    "\n",
    "\n",
    "\n",
    "\n",
    "\n",
    "\n",
    "\n",
    "Sample Input 1:\n",
    "8\n",
    "Sample Output 1:\n",
    "H\n",
    "GH\n",
    "FGH\n",
    "EFGH\n",
    "DEFGH\n",
    "CDEFGH\n",
    "BCDEFGH\n",
    "ABCDEFGH\n",
    "Sample Input 2:\n",
    "7\n",
    "Sample Output 2:\n",
    "G\n",
    "FG\n",
    "EFG\n",
    "DEFG\n",
    "CDEFG\n",
    "BCDEFG\n",
    "ABCDEFG"
   ]
  },
  {
   "cell_type": "code",
   "execution_count": 4,
   "id": "cfff3579",
   "metadata": {},
   "outputs": [
    {
     "name": "stdout",
     "output_type": "stream",
     "text": [
      "5\n",
      "E\n",
      "DE\n",
      "CDE\n",
      "BCDE\n",
      "ABCDE\n"
     ]
    }
   ],
   "source": [
    "n=int(input())\n",
    "for i in range(1,n+1):\n",
    "    for j in range(n-i+1,n+1):\n",
    "        print(chr(ord(\"A\")+j-1),end='')\n",
    "    print()"
   ]
  },
  {
   "cell_type": "markdown",
   "id": "19981a93",
   "metadata": {},
   "source": [
    "##### Number Pattern 1\n",
    "\n",
    "Print the following pattern for the given N number of rows.\n",
    "Pattern for N = 4\n",
    "\n",
    "1\n",
    "\n",
    "11\n",
    "\n",
    "111\n",
    "\n",
    "1111\n",
    "\n",
    "Input format :\n",
    "Integer N (Total no. of rows)\n",
    "Output format :\n",
    "Pattern in N lines\n",
    "Sample Input :\n",
    "5\n",
    "Sample Output :\n",
    "\n",
    "1\n",
    "\n",
    "11\n",
    "\n",
    "111\n",
    "\n",
    "1111\n",
    "\n",
    "11111\n",
    "\n"
   ]
  },
  {
   "cell_type": "code",
   "execution_count": 10,
   "id": "4017a80b",
   "metadata": {},
   "outputs": [
    {
     "name": "stdout",
     "output_type": "stream",
     "text": [
      "5\n",
      "1\n",
      "11\n",
      "111\n",
      "1111\n",
      "11111\n"
     ]
    }
   ],
   "source": [
    "n=int(input())\n",
    "for i in range(1,n+1):\n",
    "    for j in range(1,i+1):\n",
    "        print(1,end='')\n",
    "    print()"
   ]
  },
  {
   "cell_type": "markdown",
   "id": "6e63bfb1",
   "metadata": {},
   "source": [
    "##### Number Pattern 2\n",
    "\n",
    "Print the following pattern for the given N number of rows.\n",
    "Pattern for N = 4\n",
    "\n",
    "1\n",
    "\n",
    "11\n",
    "\n",
    "202\n",
    "\n",
    "3003\n",
    "\n",
    "Input format :\n",
    "Integer N (Total no. of rows)\n",
    "Contraints:\n",
    "1 <= n <= 50\n",
    "Output format :\n",
    "Pattern in N lines\n",
    "Sample Input :\n",
    "5\n",
    "Sample Output :\n",
    "\n",
    "1\n",
    "\n",
    "11\n",
    "\n",
    "\n",
    "202\n",
    "\n",
    "3003\n",
    "\n",
    "40004\n",
    "\n"
   ]
  },
  {
   "cell_type": "code",
   "execution_count": 21,
   "id": "39a8dfef",
   "metadata": {},
   "outputs": [
    {
     "name": "stdout",
     "output_type": "stream",
     "text": [
      "5\n",
      "1\n",
      "11\n",
      "202\n",
      "3003\n",
      "40004\n"
     ]
    }
   ],
   "source": [
    "n=int(input())\n",
    "for i in range(0,n):\n",
    "    if i==0:\n",
    "        #to print 1 at the first line\n",
    "        print(1,end='')\n",
    "    else:\n",
    "        print(i,end='')\n",
    "        #to print 0s\n",
    "        for j in range(0,i-1):\n",
    "            print(0,end='')\n",
    "        #to print i at the last \n",
    "        for k in range(i-1,i):\n",
    "            print(i,end='')\n",
    "    print()"
   ]
  },
  {
   "cell_type": "markdown",
   "id": "4030432c",
   "metadata": {},
   "source": [
    "##### Number Pattern 3\n",
    "\n",
    "Print the following pattern for the given N number of rows.\n",
    "Pattern for N = 4\n",
    "\n",
    "1\n",
    "\n",
    "11\n",
    "\n",
    "121\n",
    "\n",
    "1221\n",
    "\n",
    "Input format :\n",
    "Integer N (Total no. of rows)\n",
    "Output format :\n",
    "Pattern in N lines\n",
    "Sample Input :\n",
    "5\n",
    "Sample Output :\n",
    "\n",
    "1\n",
    "\n",
    "11\n",
    "\n",
    "121\n",
    "\n",
    "1221\n",
    "\n",
    "12221\n",
    "\n"
   ]
  },
  {
   "cell_type": "code",
   "execution_count": 20,
   "id": "5a05c01b",
   "metadata": {},
   "outputs": [
    {
     "name": "stdout",
     "output_type": "stream",
     "text": [
      "5\n",
      "1\n",
      "11\n",
      "121\n",
      "1221\n",
      "12221\n"
     ]
    }
   ],
   "source": [
    "n=int(input())\n",
    "for i in range(0,n):\n",
    "    if i==0:\n",
    "        #to print just 1 at the first line\n",
    "        print(1,end='')\n",
    "    else:\n",
    "        print(1,end='')\n",
    "        #printing 2s\n",
    "        for j in range(0,i-1):\n",
    "            print(2,end='')\n",
    "        #printing 1 at the last \n",
    "        for k in range(i-1,i):\n",
    "            print(1,end='')\n",
    "    print()"
   ]
  },
  {
   "cell_type": "markdown",
   "id": "604b8c62",
   "metadata": {},
   "source": [
    "##### Number Pattern\n",
    "\n",
    "Print the following pattern for the given N number of rows.\n",
    "Pattern for N = 4\n",
    "\n",
    "1234\n",
    "\n",
    "123\n",
    "\n",
    "12\n",
    "\n",
    "1\n",
    "\n",
    "Input format :\n",
    "Integer N (Total no. of rows)\n",
    "Output format :\n",
    "Pattern in N lines\n",
    "Sample Input :\n",
    "5\n",
    "Sample Output :\n",
    "\n",
    "12345\n",
    "\n",
    "1234\n",
    "\n",
    "123\n",
    "\n",
    "12\n",
    "\n",
    "1\n"
   ]
  },
  {
   "cell_type": "code",
   "execution_count": 25,
   "id": "aa898254",
   "metadata": {},
   "outputs": [
    {
     "name": "stdout",
     "output_type": "stream",
     "text": [
      "5\n",
      "12345\n",
      "1234\n",
      "123\n",
      "12\n",
      "1\n"
     ]
    }
   ],
   "source": [
    "n=int(input())\n",
    "for i in range(0,n):\n",
    "    for j in range(1,n-i+1):\n",
    "        print(j,end='')\n",
    "    print()"
   ]
  },
  {
   "cell_type": "markdown",
   "id": "69f8eec0",
   "metadata": {},
   "source": [
    "##### Alpha Pattern\n",
    "\n",
    "Print the following pattern for the given N number of rows.\n",
    "Pattern for N = 3\n",
    "\n",
    "A\n",
    "\n",
    "BB\n",
    "\n",
    "CCC\n",
    "\n",
    "Input format :\n",
    "Integer N (Total no. of rows)\n",
    "Output format :\n",
    "Pattern in N lines\n",
    "Constraints\n",
    "0 <= N <= 26\n",
    "Sample Input 1:\n",
    "7\n",
    "Sample Output 1:\n",
    "\n",
    "A\n",
    "\n",
    "BB\n",
    "\n",
    "CCC\n",
    "\n",
    "DDDD\n",
    "\n",
    "EEEEE\n",
    "\n",
    "FFFFFF\n",
    "\n",
    "GGGGGGG\n",
    "\n",
    "Sample Input 2:\n",
    "6\n",
    "Sample Output 2:\n",
    "\n",
    "A\n",
    "\n",
    "BB\n",
    "\n",
    "CCC\n",
    "\n",
    "DDDD\n",
    "\n",
    "EEEEE\n",
    "\n",
    "FFFFFF\n"
   ]
  },
  {
   "cell_type": "code",
   "execution_count": 1,
   "id": "02422502",
   "metadata": {},
   "outputs": [
    {
     "name": "stdout",
     "output_type": "stream",
     "text": [
      "5\n",
      "A\n",
      "BB\n",
      "CCC\n",
      "DDDD\n",
      "EEEEE\n"
     ]
    }
   ],
   "source": [
    "n=int(input())\n",
    "for i in range(0,n):\n",
    "    for j in range(0,i+1):\n",
    "        print(chr(ord(\"A\")+i),end='')\n",
    "    print()"
   ]
  },
  {
   "cell_type": "code",
   "execution_count": 2,
   "id": "b2c4d255",
   "metadata": {},
   "outputs": [
    {
     "name": "stdout",
     "output_type": "stream",
     "text": [
      "5\n",
      "****\n",
      "***\n",
      "**\n",
      "*\n",
      "\n"
     ]
    }
   ],
   "source": [
    "n=int(input())\n",
    "for i in range(1,n+1):\n",
    "    for j in range(1,n-i+1):\n",
    "        print(\"*\",end='')\n",
    "    print()"
   ]
  },
  {
   "cell_type": "code",
   "execution_count": 8,
   "id": "44733422",
   "metadata": {},
   "outputs": [
    {
     "name": "stdout",
     "output_type": "stream",
     "text": [
      "4\n",
      "   *\n",
      "  **\n",
      " ***\n",
      "****\n"
     ]
    }
   ],
   "source": [
    "#Mirror pattern using for loop\n",
    "n=int(input())\n",
    "for i in range(1,n+1):\n",
    "    #for spaces\n",
    "    for j in range(1,n-i+1):\n",
    "        print(\" \",end='')\n",
    "    #for stars\n",
    "    for k in range(1,i+1):\n",
    "        print(\"*\",end='')\n",
    "    print()"
   ]
  },
  {
   "cell_type": "code",
   "execution_count": 13,
   "id": "0845e353",
   "metadata": {},
   "outputs": [
    {
     "name": "stdout",
     "output_type": "stream",
     "text": [
      "4\n",
      "   *\n",
      "  **\n",
      " ***\n",
      "****\n"
     ]
    }
   ],
   "source": [
    "#Mirror pattern using while loop\n",
    "n=int(input())\n",
    "i=1\n",
    "while i<=n:\n",
    "    spaces=1\n",
    "    while spaces<=n-i:\n",
    "        print(\" \",end='')\n",
    "        spaces+=1;\n",
    "    stars=1\n",
    "    while stars<=i:\n",
    "        print(\"*\",end='')\n",
    "        stars+=1;\n",
    "    print()\n",
    "    i+=1"
   ]
  },
  {
   "cell_type": "code",
   "execution_count": 29,
   "id": "aafb3910",
   "metadata": {},
   "outputs": [
    {
     "name": "stdout",
     "output_type": "stream",
     "text": [
      "5\n",
      "    1\n",
      "   121\n",
      "  12321\n",
      " 1234321\n",
      "123454321\n"
     ]
    }
   ],
   "source": [
    "#Isosceles Triangle\n",
    "n=int(input())\n",
    "for i in range(1,n+1):\n",
    "    #spaces\n",
    "    for spc in range(1,n-i+1):\n",
    "        print(\" \",end='')\n",
    "    #increasing number\n",
    "    for inc in range(1,i+1):\n",
    "        print(inc,end='')\n",
    "    #decreasing number\n",
    "    for dec in range(1,i):\n",
    "        print(i-dec,end='')\n",
    "    print()\n"
   ]
  },
  {
   "cell_type": "code",
   "execution_count": 25,
   "id": "bf003400",
   "metadata": {},
   "outputs": [
    {
     "name": "stdout",
     "output_type": "stream",
     "text": [
      "5\n",
      "    1\n",
      "   121\n",
      "  12321\n",
      " 1234321\n",
      "123454321\n"
     ]
    }
   ],
   "source": [
    "#Isosceles Triangle While loop\n",
    "\n",
    "n=int(input())\n",
    "i=1\n",
    "while i<=n:\n",
    "    spaces=1\n",
    "    while spaces<=n-i:\n",
    "        print(\" \",end='')\n",
    "        spaces+=1\n",
    "    increasing_num =1\n",
    "    while increasing_num<=i:\n",
    "        print(increasing_num,end='')\n",
    "        increasing_num+=1\n",
    "    decreasing_num=1\n",
    "    while decreasing_num<i:\n",
    "        print(i-decreasing_num,end='')\n",
    "        decreasing_num+=1\n",
    "    print()\n",
    "    i+=1"
   ]
  },
  {
   "cell_type": "code",
   "execution_count": 26,
   "id": "19556350",
   "metadata": {},
   "outputs": [
    {
     "name": "stdout",
     "output_type": "stream",
     "text": [
      "1 2 3 4 5 6 7 8 9 10 11 12 13 14 15 16 17 18 19 20 21 22 23 24 25 26 27 28 29 30 31 32 33 34 35 36 37 38 39 40 41 42 43 44 45 46 47 48 49 50 51 52 53 54 55 56 57 58 59 60 61 62 63 64 65 66 67 68 69 70 71 72 73 74 75 76 77 78 79 80 81 82 83 84 85 86 87 88 89 90 91 92 93 94 95 96 97 98 99 "
     ]
    }
   ],
   "source": [
    "for i in range(1,100):\n",
    "    if i%2==0:\n",
    "        pass\n",
    "        print(i,end=' ')\n",
    "    else:\n",
    "        print(i,end=' ')"
   ]
  },
  {
   "cell_type": "markdown",
   "id": "3d16fd2f",
   "metadata": {},
   "source": [
    "##### Fahrenheit to Celsius Function\n",
    "\n",
    "Given three values - Start Fahrenheit Value (S), End Fahrenheit value (E) and Step Size (W), you need to convert all Fahrenheit values from Start to End at the gap of W, into their corresponding Celsius values and print the table.\n",
    "Input Format :\n",
    "3 integers - S, E and W respectively\n",
    "Output Format :\n",
    "Fahrenheit to Celsius conversion table. One line for every Fahrenheit and Celsius Fahrenheit value. Fahrenheit value and its corresponding Celsius value should be separate by tab (\"\\t\")\n",
    "Constraints :\n",
    "0 <= S <= 1000\n",
    "0 <= E <= 1000\n",
    "0 <= W <= 1000\n",
    "Sample Input 1:\n",
    "0 \n",
    "100 \n",
    "20\n",
    "Sample Output 1:\n",
    "0   -17\n",
    "20  -6\n",
    "40  4\n",
    "60  15\n",
    "80  26\n",
    "100 37\n",
    "Sample Input 2:\n",
    "120 \n",
    "200 \n",
    "40\n",
    "Sample Output 2:\n",
    "120 48\n",
    "160 71\n",
    "200 93\n",
    "Explanation for Sample Output 2 :\n",
    "Start value is 120, end value is 200 and step size is 40. Therefore, the values we need to convert are 120, 120 + 40 = 160, and 160 + 40 = 200. \n",
    "\n",
    "\n",
    "\n",
    "The formula for converting Fahrenheit to Celsius is:\n",
    "##### Celsius Value = (5/9)*(Fahrenheit Value - 32)  \n",
    "Plugging 120 into the formula, the celsius value will be (5 / 9)*(120 - 32) => (5 / 9) * 88 => (5 * 88) / 9 => 440 / 9 => 48.88\n",
    "But we'll only print 48 because we are only interested in the integral part of the value.\n"
   ]
  },
  {
   "cell_type": "code",
   "execution_count": 8,
   "id": "e9f2b2fc",
   "metadata": {},
   "outputs": [
    {
     "name": "stdout",
     "output_type": "stream",
     "text": [
      "-17.77777777777778 \t 0\n",
      "-6.666666666666667 \t 20\n",
      "4.444444444444445 \t 40\n",
      "15.555555555555557 \t 60\n",
      "26.666666666666668 \t 80\n"
     ]
    }
   ],
   "source": [
    "def FahrenToCel(s,e,w):\n",
    "    for i in range(s,e,w):\n",
    "        celsius = (5/9)*(i-32)\n",
    "        print(celsius,\"\\t\",i)\n",
    "\n",
    "FahrenToCel(0,100,20)"
   ]
  },
  {
   "cell_type": "markdown",
   "id": "0bc9e3e3",
   "metadata": {},
   "source": [
    "##### Fibonacci Member\n",
    "\n",
    "Given a number N, figure out if it is a member of fibonacci series or not. Return true if the number is member of fibonacci series else false.\n",
    "Fibonacci Series is defined by the recurrence\n",
    "    F(n) = F(n-1) + F(n-2)\n",
    "where F(0) = 0 and F(1) = 1\n",
    "\n",
    "Input Format :\n",
    "Integer N\n",
    "Output Format :\n",
    "true or false\n",
    "Constraints :\n",
    "0 <= n <= 10^4\n",
    "Sample Input 1 :\n",
    "5\n",
    "Sample Output 1 :\n",
    "true\n",
    "Sample Input 2 :\n",
    "14\n",
    "Sample Output 2 :\n",
    "false    \n",
    "\n"
   ]
  },
  {
   "cell_type": "code",
   "execution_count": 17,
   "id": "ee8b40a9",
   "metadata": {},
   "outputs": [
    {
     "name": "stdout",
     "output_type": "stream",
     "text": [
      "1\n",
      "True\n"
     ]
    }
   ],
   "source": [
    "def checkFibonacci(n):\n",
    "    if n>0:\n",
    "        if n==1 or n==2:\n",
    "            print(True)\n",
    "            \n",
    "        else:\n",
    "            a=0\n",
    "            b=1\n",
    "            summ=0\n",
    "            while a<n:\n",
    "                summ=a+b\n",
    "                a=b\n",
    "                b=summ\n",
    "            if a==n:\n",
    "                print(True)\n",
    "            else:\n",
    "                print(False)\n",
    "    else:\n",
    "        print(\"Enter value greater than 0\")\n",
    "        \n",
    "checkFibonacci(int(input())) "
   ]
  },
  {
   "cell_type": "code",
   "execution_count": 46,
   "id": "139aa27b",
   "metadata": {},
   "outputs": [
    {
     "name": "stdout",
     "output_type": "stream",
     "text": [
      "5\n"
     ]
    },
    {
     "data": {
      "text/plain": [
       "5"
      ]
     },
     "execution_count": 46,
     "metadata": {},
     "output_type": "execute_result"
    }
   ],
   "source": [
    "# using recursion\n",
    "\n",
    "def FibRecursion(n):\n",
    "    if n<1:\n",
    "        return n\n",
    "    else:\n",
    "        return (checkFib(n-1) + checkFib(n-2))\n",
    "    \n",
    "FibRecursion(int(input()))\n"
   ]
  },
  {
   "cell_type": "markdown",
   "id": "7bd0af5f",
   "metadata": {},
   "source": [
    "##### Palindrome number\n",
    "\n",
    "Write a program to determine if given number is palindrome or not. Print true if it is palindrome, false otherwise.\n",
    "Palindrome are the numbers for which reverse is exactly same as the original one. For eg. 121\n",
    "Sample Input 1 :\n",
    "121\n",
    "Sample Output 1 :\n",
    "true\n",
    "Sample Input 2 :\n",
    "1032\n",
    "Sample Output 2 :\n",
    "false\n",
    "\n"
   ]
  },
  {
   "cell_type": "code",
   "execution_count": 2,
   "id": "3dd76150",
   "metadata": {},
   "outputs": [
    {
     "name": "stdout",
     "output_type": "stream",
     "text": [
      "121\n",
      "Yes\n"
     ]
    }
   ],
   "source": [
    "def palindromeNumber(num):\n",
    "    temp=num\n",
    "    res=0\n",
    "    while temp>0:\n",
    "        div=temp%10\n",
    "        res=res*10+div\n",
    "        temp=temp//10\n",
    "    if num == res:\n",
    "        print(\"Yes\")\n",
    "    else:\n",
    "        print(\"No\")\n",
    "\n",
    "number=int(input())\n",
    "palindromeNumber(number)"
   ]
  },
  {
   "cell_type": "code",
   "execution_count": 19,
   "id": "da36b17a",
   "metadata": {},
   "outputs": [
    {
     "name": "stdout",
     "output_type": "stream",
     "text": [
      "Not\n"
     ]
    }
   ],
   "source": [
    "def recursive_palindrome(temp, res):\n",
    "    if temp==0:\n",
    "        return res\n",
    "    \n",
    "    res=res*10+(temp%10)\n",
    "    temp=temp//10\n",
    "    return recursive_palindrome(temp,res)\n",
    "    \n",
    "num=1234543210\n",
    "result=recursive_palindrome(num,0)\n",
    "if result==num:\n",
    "    print(\"Palindrome\")\n",
    "else:\n",
    "    print(\"Not\")"
   ]
  },
  {
   "cell_type": "markdown",
   "id": "c6275d48",
   "metadata": {},
   "source": [
    "##### Check Armstrong\n",
    "\n",
    "Write a Program to determine if the given number is Armstrong number or not. Print true if number is armstrong, otherwise print false.\n",
    "An Armstrong number is a number (with digits n) such that the sum of its digits raised to nth power is equal to the number itself.\n",
    "For example,\n",
    "371, as 3^3 + 7^3 + 1^3 = 371\n",
    "1634, as 1^4 + 6^4 + 3^4 + 4^4 = 1634\n",
    "Input Format :\n",
    "Integer n\n",
    "Output Format :\n",
    "true or false\n",
    "Sample Input 1 :\n",
    "1\n",
    "Sample Output 1 :\n",
    "true\n",
    "Sample Input 2 :\n",
    "103\n",
    "Sample Output 2 :\n",
    "false"
   ]
  },
  {
   "cell_type": "code",
   "execution_count": 6,
   "id": "04d9a1c0",
   "metadata": {},
   "outputs": [
    {
     "name": "stdout",
     "output_type": "stream",
     "text": [
      "103\n",
      "3\n",
      "Not\n"
     ]
    }
   ],
   "source": [
    "def armstrong(num,n):\n",
    "    summ=0\n",
    "    while num>0:\n",
    "        a=num%10\n",
    "        summ += a**n\n",
    "        num = num//10\n",
    "    return summ\n",
    "\n",
    "number=int(input())\n",
    "x=int(input())\n",
    "result = armstrong(number,x)\n",
    "if number == result:\n",
    "    print(\"Armstrong\")\n",
    "else:\n",
    "    print(\"Not\")"
   ]
  },
  {
   "cell_type": "code",
   "execution_count": 13,
   "id": "690fa34f",
   "metadata": {},
   "outputs": [
    {
     "name": "stdout",
     "output_type": "stream",
     "text": [
      "3\n",
      "1\n",
      "2\n",
      "3\n",
      "['1', '2', '3']\n"
     ]
    }
   ],
   "source": [
    "#\n",
    "li=[]\n",
    "for i in range(int(input())):\n",
    "    li.append(input())\n",
    "print(li)"
   ]
  },
  {
   "cell_type": "code",
   "execution_count": 25,
   "id": "a68dd829",
   "metadata": {},
   "outputs": [
    {
     "name": "stdout",
     "output_type": "stream",
     "text": [
      "1 2 3 4\n"
     ]
    },
    {
     "data": {
      "text/plain": [
       "[1, 2, 3, 4]"
      ]
     },
     "execution_count": 25,
     "metadata": {},
     "output_type": "execute_result"
    }
   ],
   "source": [
    "li=[int(x) for x in input().split()]\n",
    "li"
   ]
  },
  {
   "cell_type": "markdown",
   "id": "fabaca37",
   "metadata": {},
   "source": [
    "Linear Search in list"
   ]
  },
  {
   "cell_type": "code",
   "execution_count": 33,
   "id": "8982f00d",
   "metadata": {},
   "outputs": [
    {
     "name": "stdout",
     "output_type": "stream",
     "text": [
      "5\n",
      "1 2 3 9 0\n",
      "Find1\n",
      "0\n"
     ]
    }
   ],
   "source": [
    "def linear_search(li,n):\n",
    "    for i in range(n):\n",
    "        if li[i] == find:\n",
    "            return i\n",
    "    return -1\n",
    "\n",
    "\n",
    "n=int(input())\n",
    "li=[int(x) for x in input().split()]\n",
    "find=int(input(\"Find\"))\n",
    "result=linear_search(li,n)\n",
    "print(result)"
   ]
  },
  {
   "cell_type": "markdown",
   "id": "765ebdf8",
   "metadata": {},
   "source": [
    "##### Swap Alternate\n",
    "\n",
    "You have been given an array/list(ARR) of size N. You need to swap every pair of alternate elements in the array/list.\n",
    "You don't need to print or return anything, just change in the input array itself.\n",
    "Input Format :\n",
    "The first line contains an Integer 't' which denotes the number of test cases or queries to be run. Then the test cases follow.\n",
    "\n",
    "First line of each test case or query contains an integer 'N' representing the size of the array/list.\n",
    "\n",
    "Second line contains 'N' single space separated integers representing the elements in the array/list.\n",
    "Output Format :\n",
    "For each test case, print the elements of the resulting array in a single row separated by a single space.\n",
    "\n",
    "Output for every test case will be printed in a separate line.\n",
    "Constraints :\n",
    "1 <= t <= 10^2\n",
    "0 <= N <= 10^5\n",
    "Time Limit: 1sec\n",
    "Sample Input 1:\n",
    "1\n",
    "6\n",
    "9 3 6 12 4 32\n",
    "Sample Output 1 :\n",
    "3 9 12 6 32 4\n",
    "Sample Input 2:\n",
    "2\n",
    "9\n",
    "9 3 6 12 4 32 5 11 19\n",
    "4\n",
    "1 2 3 4\n",
    "Sample Output 2 :\n",
    "3 9 12 6 32 4 11 5 19 \n",
    "2 1 4 3 \n",
    "\n"
   ]
  },
  {
   "cell_type": "code",
   "execution_count": 4,
   "id": "26442fa7",
   "metadata": {},
   "outputs": [
    {
     "name": "stdout",
     "output_type": "stream",
     "text": [
      "Test cases: 2\n",
      "array size: 2\n",
      "1 2\n",
      "[2, 1]\n",
      "array size: 2\n",
      "3 4\n",
      "[4, 3]\n"
     ]
    }
   ],
   "source": [
    "def swap_alternate(li,n):\n",
    "    for i in range(0,n,2):\n",
    "        temp = li[i]\n",
    "        li[i]=li[i+1]\n",
    "        li[i+1]=temp\n",
    "    return\n",
    "\n",
    "\n",
    "\n",
    "t=int(input(\"Test cases: \"))\n",
    "while t>0:\n",
    "    n=int(input(\"array size: \"))\n",
    "    li = [int(x) for x in input().split()]\n",
    "    swap_alternate(li,n)\n",
    "    print(li)\n",
    "    t-=1"
   ]
  },
  {
   "cell_type": "markdown",
   "id": "9a80968b",
   "metadata": {},
   "source": [
    "##### Reverse List"
   ]
  },
  {
   "cell_type": "code",
   "execution_count": 9,
   "id": "8869c923",
   "metadata": {},
   "outputs": [
    {
     "name": "stdout",
     "output_type": "stream",
     "text": [
      "8\n",
      "[8, 7, 6, 5, 4, 3, 2, 1]\n"
     ]
    }
   ],
   "source": [
    "def reverse(li):\n",
    "    length = len(li)\n",
    "    for i in range(length//2):\n",
    "        li[i],li[length-i-1]=li[length-i-1],li[i]\n",
    "        #using negative indexing\n",
    "        #li[i],li[-i-1]=li[-i-1],li[i]1\n",
    "    return li\n",
    "\n",
    "li=[1,2,3,4,5,6,7,8]\n",
    "li=reverse(li)\n",
    "print(len(li))\n",
    "print(li)"
   ]
  },
  {
   "cell_type": "markdown",
   "id": "69e9bb1c",
   "metadata": {},
   "source": [
    "##### Find Unique\n",
    "\n",
    "You have been given an integer array/list(ARR) of size N. Where N is equal to [2M + 1].\n",
    "Now, in the given array/list, 'M' numbers are present twice and one number is present only once.\n",
    "You need to find and return that number which is unique in the array/list.\n",
    " Note:\n",
    "Unique element is always present in the array/list according to the given condition.\n",
    "Input format :\n",
    "The first line contains an Integer 't' which denotes the number of test cases or queries to be run. Then the test cases follow.\n",
    "\n",
    "First line of each test case or query contains an integer 'N' representing the size of the array/list.\n",
    "\n",
    "Second line contains 'N' single space separated integers representing the elements in the array/list.\n",
    "Output Format :\n",
    "For each test case, print the unique element present in the array.\n",
    "\n",
    "Output for every test case will be printed in a separate line.\n",
    "Constraints :\n",
    "1 <= t <= 10^2\n",
    "0 <= N <= 10^3\n",
    "Time Limit: 1 sec\n",
    "Sample Input 1:\n",
    "1\n",
    "7\n",
    "2 3 1 6 3 6 2\n",
    "Sample Output 1:\n",
    "1\n",
    "Sample Input 2:\n",
    "2\n",
    "5\n",
    "2 4 7 2 7\n",
    "9\n",
    "1 3 1 3 6 6 7 10 7\n",
    "Sample Output 2:\n",
    "4\n",
    "10"
   ]
  },
  {
   "cell_type": "code",
   "execution_count": 22,
   "id": "0047a4a4",
   "metadata": {},
   "outputs": [
    {
     "name": "stdout",
     "output_type": "stream",
     "text": [
      "Size of array: 5\n",
      "2 4 7 2 7\n",
      "4\n"
     ]
    }
   ],
   "source": [
    "def find_unique(li,n):\n",
    "    for i in range(n):\n",
    "        flag = False\n",
    "        for j in range(n):\n",
    "            if (i!=j): \n",
    "                if li[i]==li[j]:\n",
    "                    flag=True\n",
    "                    break\n",
    "        if (flag is False):\n",
    "            return li[i]\n",
    "    \n",
    "N=int(input(\"Size of array: \"))\n",
    "li=[ int(x) for x in input().split()]\n",
    "result = find_unique(li,N)\n",
    "print(result)"
   ]
  },
  {
   "cell_type": "code",
   "execution_count": 3,
   "id": "b2c61064",
   "metadata": {},
   "outputs": [
    {
     "data": {
      "text/plain": [
       "2"
      ]
     },
     "execution_count": 3,
     "metadata": {},
     "output_type": "execute_result"
    }
   ],
   "source": [
    "#USING HASHMAPS\n",
    "def find_unique(arr):\n",
    "    frequency={}\n",
    "    for ele in arr:\n",
    "        frequency[ele]=frequency.get(ele,0)+1\n",
    "    for key,value in frequency.items():\n",
    "        if value==1:\n",
    "            return key\n",
    "    return -1\n",
    "\n",
    "find_unique([2,4,7,4,7])"
   ]
  },
  {
   "cell_type": "markdown",
   "id": "dd54abbd",
   "metadata": {},
   "source": [
    "##### Find Duplicate\n",
    "\n",
    "You have been given an integer array/list(ARR) of size N which contains numbers from 0 to (N - 2). Each number is present at least once. That is, if N = 5, the array/list constitutes values ranging from 0 to 3 and among these, there is a single integer value that is present twice. You need to find and return that duplicate number present in the array.\n",
    "Note :\n",
    "Duplicate number is always present in the given array/list.\n",
    "Input format :\n",
    "The first line contains an Integer 't' which denotes the number of test cases or queries to be run. Then the test cases follow.\n",
    "\n",
    "First line of each test case or query contains an integer 'N' representing the size of the array/list.\n",
    "\n",
    "Second line contains 'N' single space separated integers representing the elements in the array/list.\n",
    "Output Format :\n",
    "For each test case, print the duplicate element in the array/list.\n",
    "\n",
    "Output for every test case will be printed in a separate line.\n",
    "Constraints :\n",
    "1 <= t <= 10^2\n",
    "0 <= N <= 10^3\n",
    "Time Limit: 1 sec\n",
    "Sample Input 1:\n",
    "1\n",
    "9\n",
    "0 7 2 5 4 7 1 3 6\n",
    "Sample Output 1:\n",
    "7\n",
    "Sample Input 2:\n",
    "2\n",
    "5\n",
    "0 2 1 3 1\n",
    "7\n",
    "0 3 1 5 4 3 2\n",
    "Sample Output 2:\n",
    "1\n",
    "3"
   ]
  },
  {
   "cell_type": "code",
   "execution_count": 28,
   "id": "3f833502",
   "metadata": {},
   "outputs": [
    {
     "name": "stdout",
     "output_type": "stream",
     "text": [
      "Size: 7\n",
      "0 3 1 5 4 3 2\n",
      "3\n"
     ]
    }
   ],
   "source": [
    "def find_duplicate(li,n):\n",
    "    for i in range(n):\n",
    "        for j in range(n):\n",
    "            if i != j:\n",
    "                if li[i]==li[j]:\n",
    "                    return li[i]\n",
    "\n",
    "\n",
    "N=int(input(\"Size: \"))\n",
    "li = [ int(x) for x in input().split()]\n",
    "result = find_duplicate(li,N)\n",
    "print(result)"
   ]
  },
  {
   "cell_type": "code",
   "execution_count": 4,
   "id": "b56167fe",
   "metadata": {},
   "outputs": [
    {
     "data": {
      "text/plain": [
       "3"
      ]
     },
     "execution_count": 4,
     "metadata": {},
     "output_type": "execute_result"
    }
   ],
   "source": [
    "#USING HASHMAP\n",
    "def findDup(arr):\n",
    "    freq={}\n",
    "    for ele in arr:\n",
    "        freq[ele]=freq.get(ele,0)+1\n",
    "    for key,value in freq.items():\n",
    "        if value>1:\n",
    "            return key\n",
    "    return -1\n",
    "\n",
    "findDup([0,3,1,5,4,3,2])"
   ]
  },
  {
   "cell_type": "markdown",
   "id": "8fb04c25",
   "metadata": {},
   "source": [
    "##### Array Intersection\n",
    "\n",
    "You have been given two integer arrays/list(ARR1 and ARR2) of size M and N, respectively. You need to print their intersection; An intersection for this problem can be defined when both the arrays/lists contain a particular value or to put it in other words, when there is a common value that exists in both the arrays/lists.\n",
    "Note :\n",
    "Input arrays/lists can contain duplicate elements.\n",
    "\n",
    "The intersection elements printed would be in the order they appear in the first array/list(ARR1)\n",
    "\n",
    "Input format :\n",
    "The first line contains an Integer 't' which denotes the number of test cases or queries to be run. Then the test cases follow.\n",
    "\n",
    "First line of each test case or query contains an integer 'N' representing the size of the first array/list.\n",
    "\n",
    "Second line contains 'N' single space separated integers representing the elements of the first the array/list.\n",
    "\n",
    "Third line contains an integer 'M' representing the size of the second array/list.\n",
    "\n",
    "Fourth line contains 'M' single space separated integers representing the elements of the second array/list.\n",
    "Output format :\n",
    "For each test case, print the intersection elements in a row, separated by a single space.\n",
    "\n",
    "Output for every test case will be printed in a separate line.\n",
    "Constraints :\n",
    "1 <= t <= 10^2\n",
    "0 <= N <= 10^5\n",
    "0 <= M <= 10^5\n",
    "Time Limit: 1 sec \n",
    "Sample Input 1 :\n",
    "2\n",
    "6\n",
    "2 6 8 5 4 3\n",
    "4\n",
    "2 3 4 7 \n",
    "2\n",
    "10 10\n",
    "1\n",
    "10\n",
    "Sample Output 1 :\n",
    "2 4 3\n"
   ]
  },
  {
   "cell_type": "code",
   "execution_count": 32,
   "id": "0a880d52",
   "metadata": {},
   "outputs": [
    {
     "name": "stdout",
     "output_type": "stream",
     "text": [
      "Size of array 1: 4\n",
      "2 6 1 6\n",
      "Size of array 2: 5\n",
      "1 2 3 4 6\n",
      "2 6 1 6 "
     ]
    }
   ],
   "source": [
    "def intersection(l1,n,l2,m):\n",
    "    res=[]\n",
    "    for ele in l1:\n",
    "        for elem in l2:\n",
    "            if ele == elem:\n",
    "                res.append(ele)\n",
    "                break\n",
    "    return res\n",
    "    \n",
    "\n",
    "N=int(input(\"Size of array 1: \"))\n",
    "l1=[int(x) for x in input().split()]\n",
    "M=int(input(\"Size of array 2: \"))\n",
    "l2=[int(x) for x in input().split()]\n",
    "result = intersection(l1,N,l2,M)\n",
    "for ele in result:\n",
    "    print(ele, end=' ')"
   ]
  },
  {
   "cell_type": "markdown",
   "id": "6507aa80",
   "metadata": {},
   "source": [
    "##### Pair Sum\n",
    "\n",
    "You have been given an integer array/list(ARR) and a number X. Find and return the total number of pairs in the array/list which sum to X.\n",
    "Note:\n",
    "Given array/list can contain duplicate elements. \n",
    "Input format :\n",
    "The first line contains an Integer 't' which denotes the number of test cases or queries to be run. Then the test cases follow.\n",
    "\n",
    "First line of each test case or query contains an integer 'N' representing the size of the first array/list.\n",
    "\n",
    "Second line contains 'N' single space separated integers representing the elements in the array/list.\n",
    "\n",
    "Third line contains an integer 'X'.\n",
    "Output format :\n",
    "For each test case, print the total number of pairs present in the array/list.\n",
    "\n",
    "Output for every test case will be printed in a separate line.\n",
    "Constraints :\n",
    "1 <= t <= 10^2\n",
    "0 <= N <= 10^3\n",
    "0 <= X <= 10^9\n",
    "Time Limit: 1 sec\n",
    "Sample Input 1:\n",
    "1\n",
    "9\n",
    "1 3 6 2 5 4 3 2 4\n",
    "7\n",
    "Sample Output 1:\n",
    "7\n",
    "Sample Input 2:\n",
    "2\n",
    "9\n",
    "1 3 6 2 5 4 3 2 4\n",
    "12\n",
    "6\n",
    "2 8 10 5 -2 5\n",
    "10\n",
    "Sample Output 2:\n",
    "0\n",
    "2\n",
    "\n",
    " Explanation for Input 2:\n",
    "Since there doesn't exist any pair with sum equal to 12 for the first query, we print 0.\n",
    "\n",
    "For the second query, we have 2 pairs in total that sum up to 10. They are, (2, 8) and (5, 5).\n"
   ]
  },
  {
   "cell_type": "code",
   "execution_count": 35,
   "id": "36224b0d",
   "metadata": {},
   "outputs": [
    {
     "name": "stdout",
     "output_type": "stream",
     "text": [
      "Enter size of array: 9\n",
      "1 3 6 2 5 4 3 2 4\n",
      "Enter the sum: 7\n",
      "7\n"
     ]
    }
   ],
   "source": [
    "def pairsum(li,n,x):\n",
    "    count=0\n",
    "    for i in range(n):\n",
    "        for j in range(i+1,n):\n",
    "            if li[i]+li[j]== x:\n",
    "                count+=1\n",
    "    return count\n",
    "\n",
    "\n",
    "N=int(input(\"Enter size of array: \"))\n",
    "ar=[int(x) for x in input().split()]\n",
    "X=int(input(\"Enter the sum: \"))\n",
    "result=pairsum(ar,N,X)\n",
    "print(result)"
   ]
  },
  {
   "cell_type": "markdown",
   "id": "2a1fe410",
   "metadata": {},
   "source": [
    "##### Triplet Sum\n",
    "\n",
    "You have been given a random integer array/list(ARR) and a number X. Find and return the number of triplets in the array/list which sum to X.\n",
    "Note :\n",
    "Given array/list can contain duplicate elements.\n",
    "Input format :\n",
    "The first line contains an Integer 't' which denotes the number of test cases or queries to be run. Then the test cases follow.\n",
    "\n",
    "First line of each test case or query contains an integer 'N' representing the size of the first array/list.\n",
    "\n",
    "Second line contains 'N' single space separated integers representing the elements in the array/list.\n",
    "\n",
    "Third line contains an integer 'X'.\n",
    "Output format :\n",
    "For each test case, print the total number of triplets present in the array/list.\n",
    "\n",
    "Output for every test case will be printed in a separate line.\n",
    "Constraints :\n",
    "1 <= t <= 50\n",
    "0 <= N <= 10^2\n",
    "0 <= X <= 10^9\n",
    "Time Limit: 1 sec\n",
    "Sample Input 1:\n",
    "1\n",
    "7\n",
    "1 2 3 4 5 6 7 \n",
    "12\n",
    "Sample Output 1:\n",
    "5\n",
    "Sample Input 2:\n",
    "2\n",
    "7\n",
    "1 2 3 4 5 6 7 \n",
    "19\n",
    "9\n",
    "2 -5 8 -6 0 5 10 11 -3\n",
    "10\n",
    "Sample Output 2:\n",
    "0\n",
    "5\n",
    "\n",
    " \n",
    "\n",
    "\n",
    "\n",
    "\n",
    "\n",
    "Explanation for Input 2:\n",
    "Since there doesn't exist any triplet with sum equal to 19 for the first query, we print 0.\n",
    "\n",
    "For the second query, we have 5 triplets in total that sum up to 10. They are, (2, 8, 0), (2, 11, -3), (-5, 5, 10), (8, 5, -3) and (-6, 5, 11)\n",
    "\n"
   ]
  },
  {
   "cell_type": "code",
   "execution_count": 38,
   "id": "6267ceda",
   "metadata": {},
   "outputs": [
    {
     "name": "stdout",
     "output_type": "stream",
     "text": [
      "Enter array size: 7\n",
      "1 2 3 4 5 6 7 \n",
      "Target sum: 12\n",
      "5\n"
     ]
    }
   ],
   "source": [
    "def tripletsum(ar,n,x):\n",
    "    count=0\n",
    "    for i in range(n):\n",
    "        for j in range(i+1,n):\n",
    "            for k in range(j+1,n):\n",
    "                if ar[i]+ar[j]+ar[k]==x:\n",
    "                    count+=1\n",
    "    return count\n",
    "\n",
    "\n",
    "N=int(input(\"Enter array size: \"))\n",
    "ar=[int(x) for x in input().split()]\n",
    "X=int(input(\"Target sum: \"))\n",
    "result=tripletsum(ar,N,X)\n",
    "print(result)"
   ]
  },
  {
   "cell_type": "markdown",
   "id": "eb30ee41",
   "metadata": {},
   "source": [
    "##### Sort 0 1\n",
    "\n",
    "You have been given an integer array/list(ARR) of size N that contains only integers, 0 and 1. Write a function to sort this array/list. Think of a solution which scans the array/list only once and don't require use of an extra array/list.\n",
    "Note:\n",
    "You need to change in the given array/list itself. Hence, no need to return or print anything. \n",
    "Input format :\n",
    "The first line contains an Integer 't' which denotes the number of test cases or queries to be run. Then the test cases follow.\n",
    "\n",
    "First line of each test case or query contains an integer 'N' representing the size of the array/list.\n",
    "\n",
    "Second line contains 'N' single space separated integers(all 0s and 1s) representing the elements in the array/list.\n",
    "Output format :\n",
    "For each test case, print the sorted array/list elements in a row separated by a single space.\n",
    "\n",
    "Output for every test case will be printed in a separate line.\n",
    "Constraints :\n",
    "1 <= t <= 10^2\n",
    "0 <= N <= 10^5\n",
    "Time Limit: 1 sec\n",
    "Sample Input 1:\n",
    "1\n",
    "7\n",
    "0 1 1 0 1 0 1\n",
    "Sample Output 1:\n",
    "0 0 0 1 1 1 1\n",
    "Sample Input 2:\n",
    "2\n",
    "8\n",
    "1 0 1 1 0 1 0 1\n",
    "5\n",
    "0 1 0 1 0\n",
    "Sample Output 2:\n",
    "0 0 0 1 1 1 1 1\n",
    "0 0 0 1 1 \n",
    "\n"
   ]
  },
  {
   "cell_type": "code",
   "execution_count": 42,
   "id": "34c9466f",
   "metadata": {},
   "outputs": [
    {
     "name": "stdout",
     "output_type": "stream",
     "text": [
      "Array Size: 8\n",
      "1 0 1 1 0 1 0 1\n",
      "[0, 0, 0, 1, 1, 1, 1, 1]\n"
     ]
    }
   ],
   "source": [
    "def sort01(ar,n):\n",
    "    for i in range(n):\n",
    "        if ar[i]==1:\n",
    "            for j in range(i+1,n):\n",
    "                if ar[j]==0:\n",
    "                    ar[i],ar[j]=ar[j],ar[i]\n",
    "    return ar\n",
    "\n",
    "n=int(input(\"Array Size: \"))\n",
    "ar=[int(x) for x in input().split()]\n",
    "result=sort01(ar,n)\n",
    "print(result)"
   ]
  },
  {
   "cell_type": "code",
   "execution_count": 5,
   "id": "5acc41a2",
   "metadata": {},
   "outputs": [
    {
     "name": "stdout",
     "output_type": "stream",
     "text": [
      "1 0 1 1 0 1 0 1\n"
     ]
    },
    {
     "data": {
      "text/plain": [
       "[0, 0, 0, 1, 1, 1, 1, 1]"
      ]
     },
     "execution_count": 5,
     "metadata": {},
     "output_type": "execute_result"
    }
   ],
   "source": [
    "def sort_0_1(arr):\n",
    "    for one in range(len(arr)//2):\n",
    "        if arr[one]==1:\n",
    "            for zero in range(len(arr)-1,(len(arr)//2)-1,-1):\n",
    "                if arr[zero]==0:\n",
    "                    arr[one],arr[zero]=arr[zero],arr[one]\n",
    "    return arr\n",
    "\n",
    "sort_0_1(list(map(int,input().split())))"
   ]
  },
  {
   "cell_type": "code",
   "execution_count": 52,
   "id": "b835a05f",
   "metadata": {},
   "outputs": [
    {
     "name": "stdout",
     "output_type": "stream",
     "text": [
      "1 0 1 1 0 1 0 1\n",
      "[0, 0, 0, 1, 1, 1, 1, 1]\n"
     ]
    }
   ],
   "source": [
    "#using while loop\n",
    "def sort_01(arr):\n",
    "    currPos=0\n",
    "    zeroPos=0\n",
    "    while (currPos<len(arr)):\n",
    "        if (arr[currPos]==0):\n",
    "            arr[currPos],arr[zeroPos]=arr[zeroPos],arr[currPos]\n",
    "            zeroPos+=1\n",
    "        currPos+=1\n",
    "    return arr\n",
    "    \n",
    "\n",
    "li=[int(x) for x in input().split()]\n",
    "li = sort_01(li)\n",
    "print(li)"
   ]
  },
  {
   "cell_type": "markdown",
   "id": "a07867ea",
   "metadata": {},
   "source": [
    "##### Code Binary Search\n",
    "\n",
    "You have been given a sorted(in ascending order) integer array/list(ARR) of size N and an element X. Write a function to search this element in the given input array/list using 'Binary Search'. Return the index of the element in the input array/list. In case the element is not present in the array/list, then return -1.\n",
    "Input format :\n",
    "The first line contains an Integer 'N' which denotes the size of the array/list.\n",
    "\n",
    "Second line contains 'N' single space separated integers representing the elements in the array/list.\n",
    "\n",
    "Third line contains an Integer 't' which denotes the number of test cases or queries to be run. Then the test cases follow..\n",
    "\n",
    "All the 't' lines henceforth, will take the value of X to be searched for in the array/list.\n",
    "Output Format :\n",
    "For each test case, print the index at which X is present, -1 otherwise.\n",
    "\n",
    "Output for every test case will be printed in a separate line.\n",
    "Constraints :\n",
    "1 <= t <= 10^4\n",
    "0 <= N <= 10^6\n",
    "0 <= X <= 10^9\n",
    "Time Limit: 1 sec\n",
    "Sample Input 1:\n",
    "7\n",
    "1 3 7 9 11 12 45\n",
    "1\n",
    "3\n",
    "Sample Output 1:\n",
    "1\n",
    "Sample Input 2:\n",
    "7\n",
    "1 2 3 4 5 6 7\n",
    "2\n",
    "9\n",
    "7\n",
    "Sample Output 2:\n",
    "-1\n",
    "6\n",
    "\n"
   ]
  },
  {
   "cell_type": "code",
   "execution_count": 55,
   "id": "a71d51d5",
   "metadata": {},
   "outputs": [
    {
     "name": "stdout",
     "output_type": "stream",
     "text": [
      "Array size: 7\n",
      "1 3 7 9 11 12 45\n",
      "1\n",
      "0\n"
     ]
    }
   ],
   "source": [
    "def binarySearch(arr,n,x):\n",
    "    start=0\n",
    "    end=n-1\n",
    "\n",
    "    while start<=end:\n",
    "        mid=(start+end)//2\n",
    "        if arr[mid]>x:\n",
    "            end=mid-1\n",
    "        elif arr[mid]<x:\n",
    "            start=mid+1\n",
    "        elif arr[mid]==x:\n",
    "            return mid\n",
    "    return -1\n",
    "\n",
    "N=int(input(\"Array size: \"))\n",
    "li=[int(x) for x in input().split()]\n",
    "X=int(input())\n",
    "result=binarySearch(li,N,X)\n",
    "print(result)"
   ]
  },
  {
   "cell_type": "markdown",
   "id": "29af326c",
   "metadata": {},
   "source": [
    "##### Selection Sort"
   ]
  },
  {
   "cell_type": "code",
   "execution_count": 57,
   "id": "236f3148",
   "metadata": {},
   "outputs": [
    {
     "name": "stdout",
     "output_type": "stream",
     "text": [
      "1 3 2 4 0 6 8\n",
      "[0, 1, 2, 3, 4, 6, 8]\n"
     ]
    }
   ],
   "source": [
    "def SelSort(arr):\n",
    "    i=0\n",
    "    while (i<len(arr)):\n",
    "        j=i+1\n",
    "        while (j<len(arr)):\n",
    "            if arr[i]>arr[j]:\n",
    "                arr[i],arr[j]=arr[j],arr[i]\n",
    "            j+=1\n",
    "        i+=1\n",
    "    return arr\n",
    "\n",
    "arr=[int(x) for x in input().split()]\n",
    "result=SelSort(arr)\n",
    "print(result)"
   ]
  },
  {
   "cell_type": "markdown",
   "id": "6abfbede",
   "metadata": {},
   "source": [
    "##### Code Bubble Sort\n",
    "\n",
    "Provided with a random integer array/list(ARR) of size N, you have been required to sort this array using 'Bubble Sort'.\n",
    "Note:\n",
    "Change in the input array/list itself. You don't need to return or print the elements.\n",
    "Input format :\n",
    "The first line contains an Integer 't' which denotes the number of test cases or queries to be run. Then the test cases follow.\n",
    "\n",
    "First line of each test case or query contains an integer 'N' representing the size of the array/list.\n",
    "\n",
    "Second line contains 'N' single space separated integers representing the elements in the array/list.\n",
    "Output format :\n",
    "For each test case, print the elements of the array/list in sorted order separated by a single space.\n",
    "\n",
    "Output for every test case will be printed in a separate line.\n",
    "Constraints :\n",
    "1 <= t <= 10^2\n",
    "0 <= N <= 10^3\n",
    "Time Limit: 1 sec\n",
    "Sample Input 1:\n",
    "1\n",
    "7\n",
    "2 13 4 1 3 6 28\n",
    "Sample Output 1:\n",
    "1 2 3 4 6 13 28\n",
    "Sample Input 2:\n",
    "2\n",
    "5\n",
    "9 3 6 2 0\n",
    "4\n",
    "4 3 2 1\n",
    "Sample Output 2:\n",
    "0 2 3 6 9\n",
    "1 2 3 4\n",
    "\n"
   ]
  },
  {
   "cell_type": "code",
   "execution_count": 62,
   "id": "53466ea0",
   "metadata": {},
   "outputs": [
    {
     "name": "stdout",
     "output_type": "stream",
     "text": [
      "size7\n",
      "2 13 4 1 3 6 28\n",
      "[1, 2, 3, 4, 6, 13, 28]\n"
     ]
    }
   ],
   "source": [
    "def bubblesort(ar,n):\n",
    "    for i in range(n-1):\n",
    "        for j in range(n-i-1):\n",
    "            if ar[j]>ar[j+1]:\n",
    "                ar[j],ar[j+1]=ar[j+1],ar[j]\n",
    "    return ar\n",
    "\n",
    "n=int(input(\"size\"))\n",
    "ar=[int(x) for x in input().split()]\n",
    "res=bubblesort(ar,n)\n",
    "print(res)\n"
   ]
  },
  {
   "cell_type": "markdown",
   "id": "dbfef36b",
   "metadata": {},
   "source": [
    "##### Code Insertion Sort\n",
    "\n",
    "Provided with a random integer array/list(ARR) of size N, you have been required to sort this array using 'Insertion Sort'.\n",
    " Note:\n",
    "Change in the input array/list itself. You don't need to return or print the elements.\n",
    " Input format :\n",
    "The first line contains an Integer 't' which denotes the number of test cases or queries to be run. Then the test cases follow.\n",
    "\n",
    "First line of each test case or query contains an integer 'N' representing the size of the array/list.\n",
    "\n",
    "Second line contains 'N' single space separated integers representing the elements in the array/list.\n",
    "Output Format :\n",
    "For each test case, print the elements of the array/list in sorted order separated by a single space.\n",
    "\n",
    "Output for every test case will be printed in a separate line.\n",
    "Constraints :\n",
    "1 <= t <= 10^2\n",
    "0 <= N <= 10^3\n",
    "Time Limit: 1 sec\n",
    "Sample Input 1:\n",
    "1\n",
    "7\n",
    "2 13 4 1 3 6 28\n",
    "Sample Output 1:\n",
    "1 2 3 4 6 13 28\n",
    "Sample Input 2:\n",
    "2\n",
    "5\n",
    "9 3 6 2 0\n",
    "4\n",
    "4 3 2 1\n",
    "Sample Output 2:\n",
    "0 2 3 6 9\n",
    "1 2 3 4 \n",
    "\n"
   ]
  },
  {
   "cell_type": "code",
   "execution_count": 4,
   "id": "314e9d9d",
   "metadata": {},
   "outputs": [
    {
     "name": "stdout",
     "output_type": "stream",
     "text": [
      "9 3 6 2 0\n",
      "[0, 2, 3, 6, 9]\n"
     ]
    }
   ],
   "source": [
    "def insertion_sort(arr):\n",
    "    #starting from 2nd element in the array, so that we\n",
    "    #may compare it with the previous ones.\n",
    "    for i in range(1,len(arr)):\n",
    "        temp=arr[i]\n",
    "        j=i-1\n",
    "        while (j>=0 and arr[j]>temp):\n",
    "            arr[j+1]=arr[j]\n",
    "            j-=1\n",
    "        arr[j+1]=temp\n",
    "    return arr\n",
    "\n",
    "arr=[int(x) for x in input().split()]\n",
    "result = insertion_sort(arr)\n",
    "print(result)"
   ]
  },
  {
   "cell_type": "markdown",
   "id": "13715d04",
   "metadata": {},
   "source": [
    "##### Code Merge Two Sorted Arrays\n",
    "\n",
    "You have been given two sorted arrays/lists(ARR1 and ARR2) of size N and M respectively, merge them into a third array/list such that the third array is also sorted.\n",
    "Input Format :\n",
    "The first line contains an Integer 't' which denotes the number of test cases or queries to be run. Then the test cases follow.\n",
    "\n",
    "First line of each test case or query contains an integer 'N' representing the size of the first array/list.\n",
    "\n",
    "Second line contains 'N' single space separated integers representing the elements of the first array/list.\n",
    "\n",
    "Third line contains an integer 'M' representing the size of the second array/list.\n",
    "\n",
    "Fourth line contains 'M' single space separated integers representing the elements of the second array/list.\n",
    "Output Format :\n",
    "For each test case, print the sorted array/list(of size N + M) in a single row, separated by a single space.\n",
    "\n",
    "Output for every test case will be printed in a separate line.\n",
    "Constraints :\n",
    "1 <= t <= 10^2\n",
    "0 <= N <= 10^5\n",
    "0 <= M <= 10^5\n",
    "Time Limit: 1 sec \n",
    "Sample Input 1 :\n",
    "1\n",
    "5\n",
    "1 3 4 7 11\n",
    "4\n",
    "2 4 6 13\n",
    "Sample Output 1 :\n",
    "1 2 3 4 4 6 7 11 13 \n",
    "Sample Input 2 :\n",
    "2\n",
    "3\n",
    "10 100 500\n",
    "7\n",
    "4 7 9 25 30 300 450\n",
    "4\n",
    "7 45 89 90\n",
    "0\n",
    "Sample Output 2 :\n",
    "4 7 9 10 25 30 100 300 450 500\n",
    "7 45 89 90\n",
    "\n"
   ]
  },
  {
   "cell_type": "code",
   "execution_count": 11,
   "id": "ff089876",
   "metadata": {},
   "outputs": [
    {
     "name": "stdout",
     "output_type": "stream",
     "text": [
      "1 3 4 7 11\n",
      "2 4 6 13 \n",
      "[1, 2, 3, 4, 4, 6, 7, 11, 13]\n"
     ]
    }
   ],
   "source": [
    "def merge_arr(a,b):\n",
    "    i=0\n",
    "    j=0\n",
    "    res=[]\n",
    "    #iterating through both the sorted arrays, comparing the elements and then adding the smallest element of \n",
    "    #the two to the resultant array.\n",
    "    while (i<len(a) and j<len(b)):\n",
    "        if (a[i]<b[j]):\n",
    "            res.append(a[i])\n",
    "            i+=1\n",
    "        elif (a[i]>b[j]):\n",
    "            res.append(b[j])\n",
    "            j+=1\n",
    "        elif (a[i]==b[j]):\n",
    "            res.append(a[i])\n",
    "            res.append(b[j])\n",
    "            i+=1\n",
    "            j+=1\n",
    "    \n",
    "    #to add any leftover elements in either of the two sorted arrays , if array length is not same.\n",
    "    while i<len(a):\n",
    "        res.append(a[i])\n",
    "        i+=1\n",
    "        \n",
    "    while j<len(b):\n",
    "        res.append(b[j])\n",
    "        j+=1\n",
    "        \n",
    "    return res\n",
    "\n",
    "l1=[int(x) for x in input().split()]\n",
    "l2=[int(x) for x in input().split()]\n",
    "result=merge_arr(l1,l2)\n",
    "print(result)"
   ]
  },
  {
   "cell_type": "markdown",
   "id": "c90abdad",
   "metadata": {},
   "source": [
    "##### Push Zeros to end\n",
    "\n",
    "You have been given a random integer array/list(ARR) of size N. You have been required to push all the zeros that are present in the array/list to the end of it. Also, make sure to maintain the relative order of the non-zero elements.\n",
    "Note:\n",
    "Change in the input array/list itself. You don't need to return or print the elements.\n",
    "\n",
    "You need to do this in one scan of array only. Don't use extra space.\n",
    "\n",
    "Input format :\n",
    "The first line contains an Integer 't' which denotes the number of test cases or queries to be run. Then the test cases follow.\n",
    "\n",
    "First line of each test case or query contains an integer 'N' representing the size of the array/list.\n",
    "\n",
    "Second line contains 'N' single space separated integers representing the elements in the array/list.\n",
    "Output Format :\n",
    "For each test case, print the elements of the array/list in the desired order separated by a single space.\n",
    "\n",
    "Output for every test case will be printed in a separate line.\n",
    "Constraints :\n",
    "1 <= t <= 10^2\n",
    "0 <= N <= 10^5\n",
    "Time Limit: 1 sec\n",
    "Sample Input 1:\n",
    "1\n",
    "7\n",
    "2 0 0 1 3 0 0\n",
    "Sample Output 1:\n",
    "2 1 3 0 0 0 0\n",
    " Explanation for the Sample Input 1 :\n",
    "All the zeros have been pushed towards the end of the array/list. Another important fact is that the order of the non-zero elements have been maintained as they appear in the input array/list.\n",
    "Sample Input 2:\n",
    "2\n",
    "5\n",
    "0 3 0 2 0\n",
    "4\n",
    "9 0 0 8 2\n",
    "Sample Output 2:\n",
    "3 2 0 0 0\n",
    "9 8 2 0 0 \n",
    "\n"
   ]
  },
  {
   "cell_type": "code",
   "execution_count": 14,
   "id": "0061cd52",
   "metadata": {},
   "outputs": [
    {
     "name": "stdout",
     "output_type": "stream",
     "text": [
      "9 0 0 8 2\n",
      "[9, 2, 8, 0, 0]\n"
     ]
    }
   ],
   "source": [
    "def pushZeroToEnd(arr):\n",
    "    for i in range(len(arr)):\n",
    "        if arr[i]==0:\n",
    "            for j in range(i+1,len(arr)):\n",
    "                if arr[j]!=0:\n",
    "                    arr[i],arr[j]=arr[j],arr[i]\n",
    "    return arr\n",
    "\n",
    "arr=[int(x) for x in input().split()]\n",
    "result = pushZeroToEnd(arr)\n",
    "print(result)"
   ]
  },
  {
   "cell_type": "markdown",
   "id": "c2c945a9",
   "metadata": {},
   "source": [
    "##### Rotate array\n",
    "\n",
    "You have been given a random integer array/list(ARR) of size N. Write a function that rotates the given array/list by D elements(towards the left).\n",
    " Note:\n",
    "Change in the input array/list itself. You don't need to return or print the elements.\n",
    "Input format :\n",
    "The first line contains an Integer 't' which denotes the number of test cases or queries to be run. Then the test cases follow.\n",
    "\n",
    "First line of each test case or query contains an integer 'N' representing the size of the array/list.\n",
    "\n",
    "Second line contains 'N' single space separated integers representing the elements in the array/list.\n",
    "\n",
    "Third line contains the value of 'D' by which the array/list needs to be rotated.\n",
    "Output Format :\n",
    "For each test case, print the rotated array/list in a row separated by a single space.\n",
    "\n",
    "Output for every test case will be printed in a separate line.\n",
    "Constraints :\n",
    "1 <= t <= 10^4\n",
    "0 <= N <= 10^6\n",
    "0 <= D <= N\n",
    "Time Limit: 1 sec\n",
    "Sample Input 1:\n",
    "1\n",
    "7\n",
    "1 2 3 4 5 6 7\n",
    "2\n",
    "Sample Output 1:\n",
    "3 4 5 6 7 1 2\n",
    "Sample Input 2:\n",
    "2\n",
    "7\n",
    "1 2 3 4 5 6 7\n",
    "0\n",
    "4\n",
    "1 2 3 4\n",
    "2\n",
    "Sample Output 2:\n",
    "1 2 3 4 5 6 7\n",
    "3 4 1 2\n"
   ]
  },
  {
   "cell_type": "code",
   "execution_count": 7,
   "id": "5fb47a7f",
   "metadata": {},
   "outputs": [
    {
     "name": "stdout",
     "output_type": "stream",
     "text": [
      "[5, 6, 1, 2, 3, 4]\n"
     ]
    }
   ],
   "source": [
    "def rotate_array(arr,x):\n",
    "    #temp array to store the elements\n",
    "    temp=[]\n",
    "    #loop to store the elements from x by which array is to be rotated\n",
    "    for i in range(x,len(arr)):\n",
    "        temp.append(arr[i])\n",
    "    #loop to store the starting elements till x at the last\n",
    "    for i in range(x):\n",
    "        temp.append(arr[i])\n",
    "    #making main array equal to the temp, as the temp has the arrays rotated accordingly\n",
    "    arr=temp\n",
    "    return arr\n",
    "\n",
    "arr=[1,2,3,4,5,6]\n",
    "result=rotate_array(arr,4)\n",
    "print(result)"
   ]
  },
  {
   "cell_type": "markdown",
   "id": "7e00d06e",
   "metadata": {},
   "source": [
    "##### Second Largest in array\n",
    "Send Feedback\n",
    "You have been given a random integer array/list(ARR) of size N. You are required to find and return the second largest element present in the array/list.\n",
    "If N <= 1 or all the elements are same in the array/list then return -2147483648 or -2 ^ 31(It is the smallest value for the range of Integer)\n",
    "Input format :\n",
    "The first line contains an Integer 't' which denotes the number of test cases or queries to be run. Then the test cases follow.\n",
    "\n",
    "The first line of each test case or query contains an integer 'N' representing the size of the array/list.\n",
    "\n",
    "The second line contains 'N' single space separated integers representing the elements in the array/list.\n",
    "Output Format :\n",
    "For each test case, print the second largest in the array/list if exists, -2147483648 otherwise.\n",
    "\n",
    "Output for every test case will be printed in a separate line.\n",
    "Constraints :\n",
    "1 <= t <= 10^2\n",
    "0 <= N <= 10^5\n",
    "\n",
    "Time Limit: 1 sec\n",
    "Sample Input 1:\n",
    "1\n",
    "7\n",
    "2 13 4 1 3 6 28\n",
    "Sample Output 1:\n",
    "13\n",
    "Sample Input 2:\n",
    "1\n",
    "5\n",
    "9 3 6 2 9\n",
    "Sample Output 2:\n",
    "6\n",
    "Sample Input 3:\n",
    "2\n",
    "2\n",
    "6 6\n",
    "4\n",
    "90 8 90 5\n",
    "Sample Output 3:\n",
    "-2147483648\n",
    "8\n",
    "\n",
    "\n"
   ]
  },
  {
   "cell_type": "code",
   "execution_count": 11,
   "id": "594c1cd5",
   "metadata": {},
   "outputs": [
    {
     "name": "stdout",
     "output_type": "stream",
     "text": [
      "2 13 4 1 3 6 28 100 99 49 190\n",
      "100\n"
     ]
    }
   ],
   "source": [
    "def nextmax(arr):\n",
    "    larg=0\n",
    "    second=0\n",
    "    for i in range(len(arr)):\n",
    "        if (arr[i]>larg):\n",
    "            second=larg\n",
    "            larg=arr[i]\n",
    "        elif (second<arr[i]<larg):\n",
    "            second=arr[i]\n",
    "    return second\n",
    "            \n",
    "\n",
    "arr=[int(x) for x in input().split()]\n",
    "result = nextmax(arr)\n",
    "print(result)"
   ]
  },
  {
   "cell_type": "markdown",
   "id": "4cda93c2",
   "metadata": {},
   "source": [
    "##### Check Array Rotation\n",
    "Send Feedback\n",
    "You have been given an integer array/list(ARR) of size N. It has been sorted(in increasing order) and then rotated by some number 'K' in the clockwise direction.\n",
    "Your task is to write a function that returns the value of 'K', that means, the index from which the array/list has been rotated.\n",
    "Input format :\n",
    "The first line contains an Integer 't' which denotes the number of test cases or queries to be run. Then the test cases follow.\n",
    "\n",
    "First line of each test case or query contains an integer 'N' representing the size of the array/list.\n",
    "\n",
    "Second line contains 'N' single space separated integers representing the elements in the array/list.\n",
    "Output Format :\n",
    "For each test case, print the value of 'K' or the index from which which the array/list has been rotated.\n",
    "\n",
    "Output for every test case will be printed in a separate line.\n",
    "Constraints :\n",
    "1 <= t <= 10^2\n",
    "0 <= N <= 10^5\n",
    "Time Limit: 1 sec\n",
    "Sample Input 1:\n",
    "1\n",
    "6\n",
    "5 6 1 2 3 4\n",
    "Sample Output 1:\n",
    "2\n",
    "Sample Input 2:\n",
    "2\n",
    "5\n",
    "3 6 8 9 10\n",
    "4\n",
    "10 20 30 1\n",
    "Sample Output 2:\n",
    "0\n",
    "3\n",
    "\n",
    "\n",
    "\n",
    "\n",
    "\n"
   ]
  },
  {
   "cell_type": "code",
   "execution_count": 21,
   "id": "eaea44c4",
   "metadata": {},
   "outputs": [
    {
     "name": "stdout",
     "output_type": "stream",
     "text": [
      "10 20 30 40 50 1 2 3\n",
      "5\n"
     ]
    }
   ],
   "source": [
    "def checkArrayRotation(arr):\n",
    "    for i in range(len(arr)):\n",
    "        if arr[i]>arr[i+1]:\n",
    "            return i+1\n",
    "    return 0\n",
    "        \n",
    "arr=[int(x) for x in input().split()]\n",
    "result=checkArrayRotation(arr)\n",
    "print(result)"
   ]
  },
  {
   "cell_type": "markdown",
   "id": "1e9254d3",
   "metadata": {},
   "source": [
    "##### Sort 0 1 2\n",
    "Send Feedback\n",
    "You are given an integer array/list(ARR) of size N. It contains only 0s, 1s and 2s. Write a solution to sort this array/list in a 'single scan'.\n",
    "'Single Scan' refers to iterating over the array/list just once or to put it in other words, you will be visiting each element in the array/list just once.\n",
    "Note:\n",
    "You need to change in the given array/list itself. Hence, no need to return or print anything. \n",
    "Input format :\n",
    "The first line contains an Integer 't' which denotes the number of test cases or queries to be run. Then the test cases follow.\n",
    "\n",
    "First line of each test case or query contains an integer 'N' representing the size of the array/list.\n",
    "\n",
    "Second line contains 'N' single space separated integers(all 0s, 1s and 2s) representing the elements in the array/list.\n",
    "Output Format :\n",
    "For each test case, print the sorted array/list elements in a row separated by a single space.\n",
    "\n",
    "Output for every test case will be printed in a separate line.\n",
    "Constraints :\n",
    "1 <= t <= 10^2\n",
    "0 <= N <= 10^5\n",
    "Time Limit: 1 sec\n",
    "Sample Input 1:\n",
    "1\n",
    "7\n",
    "0 1 2 0 2 0 1\n",
    "Sample Output 1:\n",
    "0 0 0 1 1 2 2 \n",
    "Sample Input 2:\n",
    "2\n",
    "5\n",
    "2 2 0 1 1\n",
    "7\n",
    "0 1 2 0 1 2 0\n",
    "Sample Output 2:\n",
    "0 1 1 2 2 \n",
    "0 0 0 1 1 2 2\n",
    "\n",
    "\n",
    "\n"
   ]
  },
  {
   "cell_type": "code",
   "execution_count": 31,
   "id": "2a7dd386",
   "metadata": {},
   "outputs": [
    {
     "name": "stdout",
     "output_type": "stream",
     "text": [
      "0 1 2 0 2 0 1\n",
      "[0, 0, 0, 1, 1, 2, 2]\n"
     ]
    }
   ],
   "source": [
    "def dutch_flag_problem(arr):\n",
    "    i=0\n",
    "    mid=0\n",
    "    low=0\n",
    "    high=len(arr)-1\n",
    "    while (mid<=high):\n",
    "        if (arr[mid]==0):\n",
    "            arr[mid],arr[low]=arr[low],arr[mid]\n",
    "            mid+=1\n",
    "            low+=1\n",
    "        elif (arr[mid]==2):\n",
    "            arr[mid],arr[high]=arr[high],arr[mid]\n",
    "            high-=1\n",
    "        else:\n",
    "            mid+=1\n",
    "        i+=1\n",
    "    return arr\n",
    "\n",
    "array=[int(x) for x in input().split()]\n",
    "result=dutch_flag_problem(array)\n",
    "print(result)"
   ]
  },
  {
   "cell_type": "markdown",
   "id": "bb439fa7",
   "metadata": {},
   "source": [
    "##### Sum of Two Arrays\n",
    "Send Feedback\n",
    "Two random integer arrays/lists have been given as ARR1 and ARR2 of size N and M respectively. Both the arrays/lists contain numbers from 0 to 9(i.e. single digit integer is present at every index). The idea here is to represent each array/list as an integer in itself of digits N and M.\n",
    "You need to find the sum of both the input arrays/list treating them as two integers and put the result in another array/list i.e. output array/list will also contain only single digit at every index.\n",
    "Note:\n",
    "The sizes N and M can be different. \n",
    "\n",
    "Output array/list(of all 0s) has been provided as a function argument. Its size will always be one more than the size of the bigger array/list. Place 0 at the 0th index if there is no carry. \n",
    "\n",
    "No need to print the elements of the output array/list.\n",
    "Input format :\n",
    "The first line contains an Integer 't' which denotes the number of test cases or queries to be run. Then the test cases follow.\n",
    "\n",
    "First line of each test case or query contains an integer 'N' representing the size of the first array/list.\n",
    "\n",
    "Second line contains 'N' single space separated integers representing the elements of the first array/list.\n",
    "\n",
    "Third line contains an integer 'M' representing the size of the second array/list.\n",
    "\n",
    "Fourth line contains 'M' single space separated integers representing the elements of the second array/list.\n",
    "Output Format :\n",
    "For each test case, print the required sum of the arrays/list in a row, separated by a single space.\n",
    "\n",
    "Output for every test case will be printed in a separate line.\n",
    "Constraints :\n",
    "1 <= t <= 10^2\n",
    "0 <= N <= 10^5\n",
    "0 <= M <= 10^5\n",
    "Time Limit: 1 sec \n",
    "Sample Input 1:\n",
    "1\n",
    "3\n",
    "6 2 4\n",
    "3\n",
    "7 5 6\n",
    "Sample Output 1:\n",
    "1 3 8 0\n",
    "Sample Input 2:\n",
    "2\n",
    "3\n",
    "8 5 2\n",
    "2\n",
    "1 3\n",
    "4\n",
    "9 7 6 1\n",
    "3\n",
    "4 5 9\n",
    "Sample Output 2:\n",
    "0 8 6 5\n",
    "1 0 2 2 0 "
   ]
  },
  {
   "cell_type": "code",
   "execution_count": 32,
   "id": "c7458693",
   "metadata": {},
   "outputs": [
    {
     "name": "stdout",
     "output_type": "stream",
     "text": [
      "[1, 0, 0, 9, 8]\n"
     ]
    }
   ],
   "source": [
    "def arraySum(a,b,n,m):\n",
    "    #empty array to store the result\n",
    "    summ=[0]*(n+1) \n",
    "    \n",
    "    result=0\n",
    "    carry=0\n",
    "    i=n-1\n",
    "    j=m-1\n",
    "    #sum array should be created with size greater than the largest array\n",
    "    k=n\n",
    "    \n",
    "    #since j (array B) is of smaller length , so going through it first\n",
    "    while i>=0 and j>=0:\n",
    "        result=a[i]+b[j]+carry\n",
    "        summ[k]+=result%10\n",
    "        carry=result//10\n",
    "        i-=1\n",
    "        j-=1\n",
    "        k-=1\n",
    "        \n",
    "    #adding the leftover of larger array(a)\n",
    "    while i>=0:\n",
    "        result=a[i]+carry\n",
    "        summ[k]+=result%10\n",
    "        carry=result//10\n",
    "        i-=1\n",
    "        k-=1\n",
    "    \n",
    "\n",
    "    #checking if there is any carrry for the last element processed( first element of the list)\n",
    "    if carry >0:\n",
    "        summ[k]+=carry\n",
    "        k-=1\n",
    "        \n",
    "    return summ\n",
    "\n",
    "        \n",
    "\n",
    "a1=[9,9,9,9]\n",
    "n=4\n",
    "b2=[9,9]\n",
    "m=2\n",
    "if m<n:\n",
    "    result=arraySum(a1,b2,n,m)\n",
    "else:\n",
    "    result=arraySum(b2,a1,m,n)\n",
    "print(result)"
   ]
  },
  {
   "cell_type": "markdown",
   "id": "06170bb0",
   "metadata": {},
   "source": [
    "### Strings"
   ]
  },
  {
   "cell_type": "code",
   "execution_count": 2,
   "id": "b96c0d95",
   "metadata": {},
   "outputs": [
    {
     "name": "stdout",
     "output_type": "stream",
     "text": [
      "queue\n",
      "Which char to replace? e\n",
      "To replace with? 1\n",
      "qu1u1\n"
     ]
    }
   ],
   "source": [
    "#replace a character in the string\n",
    "def replace(strng,char,x):\n",
    "    new=''\n",
    "    for ele in strng:\n",
    "        if (ele==char):\n",
    "            new+=str(x)\n",
    "        else:\n",
    "            new+=str(ele)\n",
    "    return new\n",
    "\n",
    "strng=input()\n",
    "a=input(\"Which char to replace? \")\n",
    "p=input(\"To replace with? \")\n",
    "strng=replace(strng,a,p)\n",
    "print(strng)"
   ]
  },
  {
   "cell_type": "markdown",
   "id": "eaca7fb6",
   "metadata": {},
   "source": [
    "##### Find vowels, consonents,digits & special characters"
   ]
  },
  {
   "cell_type": "code",
   "execution_count": 13,
   "id": "242c1ef8",
   "metadata": {
    "scrolled": true
   },
   "outputs": [
    {
     "name": "stdout",
     "output_type": "stream",
     "text": [
      "11\n",
      "20\n",
      "0\n",
      "8\n"
     ]
    }
   ],
   "source": [
    "def countInString(st):\n",
    "    vow=0\n",
    "    const=0\n",
    "    dig=0\n",
    "    spcl=0\n",
    "    for ele in st:\n",
    "        if ((\"a\"<=ele<=\"z\") or (\"A\"<=ele<=\"z\")):\n",
    "            ele=ele.lower()\n",
    "            if ele in ('a','e','i','o','u'):\n",
    "                vow+=1\n",
    "            else:\n",
    "                const+=1\n",
    "        elif ('0'<=ele<='9'):\n",
    "            dig+=1\n",
    "        else:\n",
    "            spcl+=1\n",
    "    return vow, const,dig,spcl\n",
    "\n",
    "\n",
    "a,b,c,d=countInString(\"a quick brown fox jumps upon a lazy dog\")\n",
    "print(a)\n",
    "print(b)\n",
    "print(c)\n",
    "print(d)"
   ]
  },
  {
   "cell_type": "markdown",
   "id": "27083cf9",
   "metadata": {},
   "source": [
    "##### Check Permutation\n",
    "Send Feedback\n",
    "For a given two strings, 'str1' and 'str2', check whether they are a permutation of each other or not.\n",
    "Permutations of each other\n",
    "Two strings are said to be a permutation of each other when either of the string's characters can be rearranged so that it becomes identical to the other one.\n",
    "\n",
    "Example: \n",
    "str1= \"sinrtg\" \n",
    "str2 = \"string\"\n",
    "\n",
    "The character of the first string(str1) can be rearranged to form str2 and hence we can say that the given strings are a permutation of each other.\n",
    "Input Format:\n",
    "The first line of input contains a string without any leading and trailing spaces, representing the first string 'str1'.\n",
    "\n",
    "The second line of input contains a string without any leading and trailing spaces, representing the second string 'str2'.\n",
    "Note:\n",
    "All the characters in the input strings would be in lower case.\n",
    "Output Format:\n",
    "The only line of output prints either 'true' or 'false', denoting whether the two strings are a permutation of each other or not.\n",
    "\n",
    "You are not required to print anything. It has already been taken care of. Just implement the function. \n",
    "Constraints:\n",
    "0 <= N <= 10^6\n",
    "Where N is the length of the input string.\n",
    "\n",
    "Time Limit: 1 second\n",
    "Sample Input 1:\n",
    "abcde\n",
    "baedc\n",
    "Sample Output 1:\n",
    "true\n",
    "Sample Input 2:\n",
    "abc\n",
    "cbd\n",
    "Sample Output 2:\n",
    "false\n",
    "\n",
    "\n",
    "\n"
   ]
  },
  {
   "cell_type": "code",
   "execution_count": 21,
   "id": "8811154e",
   "metadata": {},
   "outputs": [
    {
     "name": "stdout",
     "output_type": "stream",
     "text": [
      "abcdef\n",
      "fedgcb\n",
      "False\n"
     ]
    }
   ],
   "source": [
    "def checkPermutation(a,b):\n",
    "    if len(a)!=len(b):\n",
    "        return False\n",
    "    freq=[0]*256\n",
    "    for ele in a:\n",
    "        freq[ord(ele)]+=1\n",
    "    for ele in b:\n",
    "        freq[ord(ele)]-=1\n",
    "    for ele in freq:\n",
    "        if (ele!=0):\n",
    "            return False\n",
    "    return True\n",
    "        \n",
    "    \n",
    "a=input()\n",
    "b=input()\n",
    "result=checkPermutation(a,b)\n",
    "print(result)"
   ]
  },
  {
   "cell_type": "markdown",
   "id": "a85bd9d9",
   "metadata": {},
   "source": [
    "##### Remove Consecutive Duplicates\n",
    "Send Feedback\n",
    "For a given string(str), remove all the consecutive duplicate characters.\n",
    "Example:\n",
    "Input String: \"aaaa\"\n",
    "Expected Output: \"a\"\n",
    "\n",
    "Input String: \"aabbbcc\"\n",
    "Expected Output: \"abc\"\n",
    " Input Format:\n",
    "The first and only line of input contains a string without any leading and trailing spaces. All the characters in the string would be in lower case.\n",
    "Output Format:\n",
    "The only line of output prints the updated string.\n",
    "Note:\n",
    "You are not required to print anything. It has already been taken care of.\n",
    "Constraints:\n",
    "0 <= N <= 10^6\n",
    "Where N is the length of the input string.\n",
    "\n",
    "Time Limit: 1 second\n",
    "Sample Input 1:\n",
    "aabccbaa\n",
    "Sample Output 1:\n",
    "abcba\n",
    "Sample Input 2:\n",
    "xxyyzxx\n",
    "Sample Output 2:\n",
    "xyzx\n",
    "\n",
    "\n"
   ]
  },
  {
   "cell_type": "code",
   "execution_count": 21,
   "id": "9fb00ff9",
   "metadata": {},
   "outputs": [
    {
     "name": "stdout",
     "output_type": "stream",
     "text": [
      "xyzx\n"
     ]
    }
   ],
   "source": [
    "def remove(s):\n",
    "    i=0\n",
    "    j=1\n",
    "    res=''\n",
    "    while(j<(len(s))):\n",
    "            if s[i]==s[j]:\n",
    "                j+=1\n",
    "            else:\n",
    "                res+=s[i]\n",
    "                i=j\n",
    "    #this below res+=s[i] is required to add the last element of the string to the resultant\n",
    "    #string because the loop breaks at the last and this doesn't get added inside the loop.\n",
    "    res+=s[i]\n",
    "    return res\n",
    "\n",
    "string=\"xxyyzxx\"\n",
    "result=remove(string)\n",
    "print(result)"
   ]
  },
  {
   "cell_type": "markdown",
   "id": "7b12d42c",
   "metadata": {},
   "source": [
    "##### Reverse Each Word\n",
    "\n",
    "\n",
    "Aadil has been provided with a sentence in the form of a string as a function parameter. The task is to implement a function so as to print the sentence such that each word in the sentence is reversed.\n",
    "Example:\n",
    "Input Sentence: \"Hello, I am Aadil!\"\n",
    "The expected output will print, \",olleH I ma !lidaA\".\n",
    "Input Format:\n",
    "The first and only line of input contains a string without any leading and trailing spaces. The input string represents the sentence given to Aadil.\n",
    "Output Format:\n",
    "The only line of output prints the sentence(string) such that each word in the sentence is reversed. \n",
    "Constraints:\n",
    "0 <= N <= 10^6\n",
    "Where N is the length of the input string.\n",
    "\n",
    "Time Limit: 1 second\n",
    "Sample Input 1:\n",
    "Welcome to Coding Ninjas\n",
    "Sample Output 1:\n",
    "emocleW ot gnidoC sajniN\n",
    "Sample Input 2:\n",
    "Always indent your code\n",
    "Sample Output 2:\n",
    "syawlA tnedni ruoy edoc\n",
    "\n",
    "\n",
    "\n",
    "\n"
   ]
  },
  {
   "cell_type": "code",
   "execution_count": 33,
   "id": "fb8b04e4",
   "metadata": {},
   "outputs": [
    {
     "name": "stdout",
     "output_type": "stream",
     "text": [
      "s'teL ekat edoCteeL tsetnoc \n"
     ]
    }
   ],
   "source": [
    "def reverse(s):\n",
    "    res=[]\n",
    "    new=s.split()\n",
    "    for ele in new:\n",
    "        res+=ele[::-1]+' '\n",
    "    return ''.join(res)\n",
    "\n",
    "print(reverse(\"Let's take LeetCode contest\"))"
   ]
  },
  {
   "cell_type": "markdown",
   "id": "1501edb3",
   "metadata": {},
   "source": [
    "##### Remove character\n",
    "Send Feedback\n",
    "For a given a string(str) and a character X, write a function to remove all the occurrences of X from the given string.\n",
    "The input string will remain unchanged if the given character(X) doesn't exist in the input string.\n",
    "Input Format:\n",
    "The first line of input contains a string without any leading and trailing spaces.\n",
    "\n",
    "The second line of input contains a character(X) without any leading and trailing spaces.\n",
    "Output Format:\n",
    "The only line of output prints the updated string. \n",
    "Note:\n",
    "You are not required to print anything explicitly. It has already been taken care of.\n",
    "Constraints:\n",
    "0 <= N <= 10^6\n",
    "Where N is the length of the input string.\n",
    "\n",
    "Time Limit: 1 second\n",
    "Sample Input 1:\n",
    "aabccbaa\n",
    "a\n",
    "Sample Output 1:\n",
    "bccb\n",
    "Sample Input 2:\n",
    "xxyyzxx\n",
    "y\n",
    "Sample Output 2:\n",
    "xxzxx\n",
    "\n"
   ]
  },
  {
   "cell_type": "code",
   "execution_count": 4,
   "id": "ed64aee9",
   "metadata": {},
   "outputs": [
    {
     "name": "stdout",
     "output_type": "stream",
     "text": [
      " quick brown fox jumps upon  lzy dog\n"
     ]
    }
   ],
   "source": [
    "def remove(s,x):\n",
    "    res=''\n",
    "    for ele in s:\n",
    "        if (ele != x):\n",
    "            res+=ele\n",
    "    return res\n",
    "\n",
    "print(remove(\"a quick brown fox jumps upon a lazy dog\",\"a\"))"
   ]
  },
  {
   "cell_type": "markdown",
   "id": "21975deb",
   "metadata": {},
   "source": [
    "##### Highest Occuring Character\n",
    "Send Feedback\n",
    "For a given a string(str), find and return the highest occurring character.\n",
    "Example:\n",
    "Input String: \"abcdeapapqarr\"\n",
    "Expected Output: 'a'\n",
    "Since 'a' has appeared four times in the string which happens to be the highest frequency character, the answer would be 'a'.\n",
    "If there are two characters in the input string with the same frequency, return the character which comes first.\n",
    "Consider:\n",
    "Assume all the characters in the given string to be in lowercase always.\n",
    "Input Format:\n",
    "The first and only line of input contains a string without any leading and trailing spaces.\n",
    "Output Format:\n",
    "The only line of output prints the updated string. \n",
    "Note:\n",
    "You are not required to print anything explicitly. It has already been taken care of.\n",
    "Constraints:\n",
    "0 <= N <= 10^6\n",
    "Where N is the length of the input string.\n",
    "\n",
    "Time Limit: 1 second\n",
    "Sample Input 1:\n",
    "abdefgbabfba\n",
    "Sample Output 1:\n",
    "b\n",
    "Sample Input 2:\n",
    "xy\n",
    "Sample Output 2:\n",
    "x\n",
    "\n",
    "\n"
   ]
  },
  {
   "cell_type": "code",
   "execution_count": 11,
   "id": "c69b8b8d",
   "metadata": {},
   "outputs": [
    {
     "name": "stdout",
     "output_type": "stream",
     "text": [
      "('x', 1)\n"
     ]
    }
   ],
   "source": [
    "def occurence(s):\n",
    "    maxx=0\n",
    "    index=0\n",
    "    for i in range(len(s)):\n",
    "        count=0\n",
    "        for j in range(len(s)):\n",
    "            if(s[i]==s[j]):\n",
    "                 count+=1\n",
    "        if count>maxx:\n",
    "            maxx=count\n",
    "            index=s[i]\n",
    "    return index, maxx\n",
    "print(occurence(\"xy\"))"
   ]
  },
  {
   "cell_type": "markdown",
   "id": "b4d1d0ca",
   "metadata": {},
   "source": [
    "##### Compress the String\n",
    "Send Feedback\n",
    "Write a program to do basic string compression. For a character which is consecutively repeated more than once, replace consecutive duplicate occurrences with the count of repetitions.\n",
    "Exmple:\n",
    "If a string has 'x' repeated 5 times, replace this \"xxxxx\" with \"x5\".\n",
    "\n",
    "The string is compressed only when the repeated character count is more than 1.\n",
    "Note :\n",
    "Consecutive count of every character in the input string is less than or equal to 9.\n",
    "Input Format:\n",
    "The first and only line of input contains a string without any leading and trailing spaces.\n",
    "Output Format:\n",
    "The only line of output prints the updated string.\n",
    "Note:\n",
    "You are not required to print anything. It has already been taken care of.\n",
    "Constraints:\n",
    "0 <= N <= 10^6\n",
    "Where N is the length of the input string.\n",
    "\n",
    "Time Limit: 1 second\n",
    "Sample Input 1:\n",
    "aaabbccdsa\n",
    "Sample Output 1:\n",
    "a3b2c2dsa\n",
    "Sample Input 2:\n",
    "aaabbcddeeeee\n",
    "Sample Output 2:\n",
    "a3b2cd2e5\n",
    "\n",
    "\n",
    "\n",
    "\n",
    "\n"
   ]
  },
  {
   "cell_type": "code",
   "execution_count": 18,
   "id": "7eb0bd84",
   "metadata": {},
   "outputs": [
    {
     "name": "stdout",
     "output_type": "stream",
     "text": [
      "a3b2cd2e5 \n"
     ]
    }
   ],
   "source": [
    "def compress(s):\n",
    "    res=''\n",
    "    i=0\n",
    "    while i<len(s):\n",
    "        count=1\n",
    "        for j in range(i+1,len(s)):\n",
    "            if(s[i]!=s[j]):\n",
    "                break\n",
    "            else:\n",
    "                count+=1\n",
    "        if(count>1):\n",
    "            res+=s[i]+str(count)\n",
    "        else:\n",
    "            res+=s[i]\n",
    "        i+=count\n",
    "    return res\n",
    "\n",
    "print(compress(\"aaabbcddeeeee \"))"
   ]
  },
  {
   "cell_type": "markdown",
   "id": "c5e99fd7",
   "metadata": {},
   "source": [
    "### 2D list"
   ]
  },
  {
   "cell_type": "code",
   "execution_count": 24,
   "id": "c8699622",
   "metadata": {},
   "outputs": [
    {
     "name": "stdout",
     "output_type": "stream",
     "text": [
      "[['H', 'e', 'l', 'l', 'o'], ['w', 'o', 'r', 'l', 'd'], ['H', 'e', 'l', 'l', 'o']]\n"
     ]
    }
   ],
   "source": [
    "li=[\"Hello\",\"world\",\"Hello\"]\n",
    "new=[ [char for char in ele] for ele in li]\n",
    "print(new)"
   ]
  },
  {
   "cell_type": "code",
   "execution_count": 30,
   "id": "ce9fd560",
   "metadata": {},
   "outputs": [
    {
     "name": "stdout",
     "output_type": "stream",
     "text": [
      "2 3\n",
      "1 2 3\n",
      "0 0 0\n",
      "[[1, 2, 3], [0, 0, 0]]\n"
     ]
    }
   ],
   "source": [
    "s=input().split()\n",
    "n,m=s[0],s[1]\n",
    "lst=[ [int(j) for j in input().split()] for i in range(int(n))]\n",
    "print(lst)"
   ]
  },
  {
   "cell_type": "code",
   "execution_count": 41,
   "id": "29e955d2",
   "metadata": {},
   "outputs": [
    {
     "name": "stdout",
     "output_type": "stream",
     "text": [
      "2 2 1 2 3 4\n"
     ]
    }
   ],
   "source": [
    "str1=input().split()\n",
    "n,m=int(str[0]),int(str[1])\n",
    "b=str[2:]\n",
    "result=[ [ b[m*i+j] for j in range(m)] for i in range(n)]"
   ]
  },
  {
   "cell_type": "code",
   "execution_count": 32,
   "id": "d295b89e",
   "metadata": {},
   "outputs": [
    {
     "name": "stdout",
     "output_type": "stream",
     "text": [
      "[['0', '1'], ['0', '2']]\n"
     ]
    }
   ],
   "source": [
    "print(result)"
   ]
  },
  {
   "cell_type": "code",
   "execution_count": 4,
   "id": "63709b85",
   "metadata": {},
   "outputs": [
    {
     "name": "stdout",
     "output_type": "stream",
     "text": [
      "1 2 3 4\n",
      "4 5 6 7\n",
      "9 0 0 0\n"
     ]
    }
   ],
   "source": [
    "li22=[[1,2,3,4],[4,5,6,7],[9,0,0,0]]\n",
    "n=3\n",
    "for ele in li22:\n",
    "    output= ' '.join([str(element) for element in ele])\n",
    "    print(output)"
   ]
  },
  {
   "cell_type": "markdown",
   "id": "db4ac365",
   "metadata": {},
   "source": [
    "##### Row Wise Sum\n",
    "Send Feedback\n",
    "For a given two-dimensional integer array/list of size (N x M), find and print the sum of each of the row elements in a single line, separated by a single space.\n",
    "Input Format :\n",
    "The first line contains an Integer 't' which denotes the number of test cases or queries to be run. Then the test cases follow.\n",
    "\n",
    "First line of each test case or query contains two integer values, 'N' and 'M', separated by a single space. They represent the 'rows' and 'columns' respectively, for the two-dimensional array/list.\n",
    "\n",
    "Second line onwards, the next 'N' lines or rows represent the ith row values.\n",
    "\n",
    "Each of the ith row constitutes 'M' column values separated by a single space.\n",
    "Output Format :\n",
    "For each test case, print the sum of every ith row elements in a single line separated by a single space.\n",
    "\n",
    "Output for every test case will be printed in a seperate line.\n",
    "Constraints :\n",
    "1 <= t <= 10^2\n",
    "0 <= N <= 10^3\n",
    "0 <= M <= 10^3\n",
    "Time Limit: 1sec\n",
    "Sample Input 1:\n",
    "1\n",
    "4 2 \n",
    "1 2 \n",
    "3 4 \n",
    "5 6 \n",
    "7 8\n",
    "Sample Output 1:\n",
    "3 7 11 15 \n",
    "Sample Input 2:\n",
    "2\n",
    "2 5 \n",
    "4 5 3 2 6 \n",
    "7 5 3 8 9\n",
    "4 4\n",
    "1 2 3 4\n",
    "9 8 7 6\n",
    "3 4 5 6\n",
    "-1 1 -10 5\n",
    "Sample Output 2:\n",
    "20 32 \n",
    "10 30 18 -5 \n",
    "\n",
    "\n"
   ]
  },
  {
   "cell_type": "code",
   "execution_count": 19,
   "id": "62475ad9",
   "metadata": {},
   "outputs": [
    {
     "name": "stdout",
     "output_type": "stream",
     "text": [
      "2 3\n",
      "1 2 3 4 5 6 7 8 9\n",
      "1 2 3 4 5 6 7 8 9 None\n"
     ]
    }
   ],
   "source": [
    "def rowsum(s):\n",
    "    for ele in s:\n",
    "        count=0\n",
    "        for element in ele:\n",
    "            count+=int(element)\n",
    "        print(count,end=' ')\n",
    "    return\n",
    "\n",
    "s=input().split()\n",
    "n,m=int(s[0]),int(s[1])\n",
    "b=input().split()\n",
    "arr=[[int(b[m*i+j]) for j in range(m)] for i in range(int(n))]\n",
    "print(rowsum(b))\n",
    "        \n",
    "        "
   ]
  },
  {
   "cell_type": "markdown",
   "id": "214e8f4f",
   "metadata": {},
   "source": [
    "##### Max Column Sum"
   ]
  },
  {
   "cell_type": "code",
   "execution_count": 4,
   "id": "14d31525",
   "metadata": {},
   "outputs": [
    {
     "name": "stdout",
     "output_type": "stream",
     "text": [
      "1\n"
     ]
    }
   ],
   "source": [
    "def max_col_sum(arr,n,m):\n",
    "    max_col=-1\n",
    "    index=-1\n",
    "    for j in range(m):\n",
    "        add=0\n",
    "        for i in range(n):\n",
    "            add+=arr[i][j]\n",
    "        if add>max_col:\n",
    "            max_col=add\n",
    "            index=j\n",
    "    return index\n",
    "\n",
    "arr=[[1,2,3,4],[5,9,7,8],[0,9,2,6]]\n",
    "max_col_index=max_col_sum(arr,3,4)\n",
    "print(max_col_index)"
   ]
  },
  {
   "cell_type": "code",
   "execution_count": 5,
   "id": "4cae4fca",
   "metadata": {},
   "outputs": [
    {
     "name": "stdout",
     "output_type": "stream",
     "text": [
      "1\n"
     ]
    }
   ],
   "source": [
    "#SECOND METHOD\n",
    "def max_col_sum(arr,n,m):\n",
    "    max_col=-1\n",
    "    index=-1\n",
    "    for j in range(m):\n",
    "        add=0\n",
    "        for ele in arr:\n",
    "            add+=ele[j]\n",
    "        if add>max_col:\n",
    "            max_col=add\n",
    "            index=j\n",
    "    return index\n",
    "\n",
    "arr=[[1,2,3,4],[5,9,7,8],[0,9,2,6]]\n",
    "max_col_index=max_col_sum(arr,3,4)\n",
    "print(max_col_index)"
   ]
  },
  {
   "cell_type": "markdown",
   "id": "c7ef48bd",
   "metadata": {},
   "source": [
    "##### Largest Row or Column\n",
    "Send Feedback\n",
    "For a given two-dimensional integer array/list of size (N x M), you need to find out which row or column has the largest sum(sum of all the elements in a row/column) amongst all the rows and columns.\n",
    "Note :\n",
    "If there are more than one rows/columns with maximum sum, consider the row/column that comes first. And if ith row and jth column has the same largest sum, consider the ith row as answer.\n",
    "Input Format :\n",
    "The first line contains an Integer 't' which denotes the number of test cases or queries to be run. Then the test cases follow.\n",
    "\n",
    "First line of each test case or query contains two integer values, 'N' and 'M', separated by a single space. They represent the 'rows' and 'columns' respectively, for the two-dimensional array/list.\n",
    "\n",
    "Second line onwards, the next 'N' lines or rows represent the ith row values.\n",
    "\n",
    "Each of the ith row constitutes 'M' column values separated by a single space.\n",
    "Output Format :\n",
    "For each test case, If row sum is maximum, then print: \"row\" <row_index> <row_sum>\n",
    "OR\n",
    "If column sum is maximum, then print: \"column\" <col_index> <col_sum>\n",
    "It will be printed in a single line separated by a single space between each piece of information.\n",
    "\n",
    "Output for every test case will be printed in a seperate line.\n",
    " Consider :\n",
    "If there doesn't exist a sum at all then print \"row 0 -2147483648\", where -2147483648 or -2^31 is the smallest value for the range of Integer.\n",
    "Constraints :\n",
    "1 <= t <= 10^2\n",
    "0 <= N <= 10^3\n",
    "0 <= M <= 10^3\n",
    "Time Limit: 1sec\n",
    "Sample Input 1 :\n",
    "1\n",
    "2 2 \n",
    "1 1 \n",
    "1 1\n",
    "Sample Output 1 :\n",
    "row 0 2\n",
    "Sample Input 2 :\n",
    "2\n",
    "3 3\n",
    "3 6 9 \n",
    "1 4 7 \n",
    "2 8 9\n",
    "4 2\n",
    "1 2\n",
    "90 100\n",
    "3 40\n",
    "-10 200\n",
    "Sample Output 2 :\n",
    "column 2 25\n",
    "column 1 342\n",
    "\n",
    "\n",
    "\n",
    "\n",
    "\n",
    "\n",
    "\n",
    "\n",
    "\n",
    "\n",
    "\n"
   ]
  },
  {
   "cell_type": "code",
   "execution_count": 16,
   "id": "9c566c3c",
   "metadata": {},
   "outputs": [
    {
     "name": "stdout",
     "output_type": "stream",
     "text": [
      "4 2\n",
      "1 2\n",
      "90 100\n",
      "3 40\n",
      "-10 200\n",
      "Column  1 \t 342\n"
     ]
    }
   ],
   "source": [
    "def col_or_row_sum(arr):\n",
    "    n=len(arr)\n",
    "    m=len(arr[0])\n",
    "    \n",
    "    max_col=-1\n",
    "    index_col=-1\n",
    "    for j in range(m):\n",
    "        add=0\n",
    "        for i in range(n):\n",
    "            add+=arr[i][j]\n",
    "        if add>max_col:\n",
    "            max_col=add\n",
    "            index_col=j\n",
    "    \n",
    "    max_row=-1\n",
    "    index_row=-1\n",
    "    for i in range(n):\n",
    "        add=0\n",
    "        for j in range(m):\n",
    "            add+=arr[i][j]\n",
    "        if add>max_row:\n",
    "            max_row=add\n",
    "            index_row=i\n",
    "    \n",
    "    if max_row == max_col:\n",
    "        print(\"Row \", index_row,\"\\t\",max_row)\n",
    "    elif max_row>max_col:\n",
    "        print(\"Row \", index_row,\"\\t\",max_row)\n",
    "    else:\n",
    "        print(\"Column \", index_col,\"\\t\",max_col)\n",
    "        \n",
    "\n",
    "    \n",
    "n,m=input().split()    \n",
    "arr=[[int(j) for j in input().split()] for i in range(int(n))]\n",
    "col_or_row_sum(arr)"
   ]
  },
  {
   "cell_type": "markdown",
   "id": "33598b31",
   "metadata": {},
   "source": [
    "###### Wave Print\n",
    "Send Feedback\n",
    "For a given two-dimensional integer array/list of size (N x M), print the array/list in a sine wave order, i.e, print the first column top to bottom, next column bottom to top and so on.\n",
    "Input format :\n",
    "The first line contains an Integer 't' which denotes the number of test cases or queries to be run. Then the test cases follow.\n",
    "\n",
    "First line of each test case or query contains two integer values, 'N' and 'M', separated by a single space. They represent the 'rows' and 'columns' respectively, for the two-dimensional array/list.\n",
    "\n",
    "Second line onwards, the next 'N' lines or rows represent the ith row values.\n",
    "\n",
    "Each of the ith row constitutes 'M' column values separated by a single space.\n",
    "Output format :\n",
    "For each test case, print the elements of the two-dimensional array/list in the sine wave order in a single line, separated by a single space.\n",
    "\n",
    "Output for every test case will be printed in a seperate line.\n",
    "Constraints :\n",
    "1 <= t <= 10^2\n",
    "0 <= N <= 10^3\n",
    "0 <= M <= 10^3\n",
    "Time Limit: 1sec\n",
    "Sample Input 1:\n",
    "1\n",
    "3 4 \n",
    "1  2  3  4 \n",
    "5  6  7  8 \n",
    "9 10 11 12\n",
    "Sample Output 1:\n",
    "1 5 9 10 6 2 3 7 11 12 8 4\n",
    "Sample Input 2:\n",
    "2\n",
    "5 3 \n",
    "1 2 3 \n",
    "4 5 6 \n",
    "7 8 9 \n",
    "10 11 12 \n",
    "13 14 15\n",
    "3 3\n",
    "10 20 30 \n",
    "40 50 60\n",
    "70 80 90\n",
    "Sample Output 2:\n",
    "1 4 7 10 13 14 11 8 5 2 3 6 9 12 15 \n",
    "10 40 70 80 50 20 30 60 90 \n",
    "\n",
    "\n"
   ]
  },
  {
   "cell_type": "code",
   "execution_count": 19,
   "id": "e898d6aa",
   "metadata": {},
   "outputs": [
    {
     "name": "stdout",
     "output_type": "stream",
     "text": [
      "1 5 9 10 6 2 3 7 11 12 8 4 "
     ]
    }
   ],
   "source": [
    "def sine_wave(arr):\n",
    "    n=len(arr)\n",
    "    m=len(arr[0])\n",
    "    for j in range(m):\n",
    "        if (j%2==0):\n",
    "            for i in range(n):\n",
    "                print(arr[i][j],end=' ')\n",
    "        else:\n",
    "            for i in range(n-1,-1,-1):\n",
    "                print(arr[i][j],end=' ')\n",
    "\n",
    "arr=[[1,2,3,4],[5,6,7,8],[9,10,11,12]]\n",
    "sine_wave(arr)"
   ]
  },
  {
   "cell_type": "markdown",
   "id": "98d9ed58",
   "metadata": {},
   "source": [
    "##### Spiral Print\n",
    "Send Feedback\n",
    "For a given two-dimensional integer array/list of size (N x M), print it in a spiral form. That is, you need to print in the order followed for every iteration:\n",
    "a. First row(left to right)\n",
    "b. Last column(top to bottom)\n",
    "c. Last row(right to left)\n",
    "d. First column(bottom to top)\n",
    " Mind that every element will be printed only once.\n",
    "Refer to the Image:\n",
    "\n",
    "Input format :\n",
    "The first line contains an Integer 't' which denotes the number of test cases or queries to be run. Then the test cases follow.\n",
    "\n",
    "First line of each test case or query contains two integer values, 'N' and 'M', separated by a single space. They represent the 'rows' and 'columns' respectively, for the two-dimensional array/list.\n",
    "\n",
    "Second line onwards, the next 'N' lines or rows represent the ith row values.\n",
    "\n",
    "Each of the ith row constitutes 'M' column values separated by a single space.\n",
    "Output format :\n",
    "For each test case, print the elements of the two-dimensional array/list in the spiral form in a single line, separated by a single space.\n",
    "\n",
    "Output for every test case will be printed in a seperate line.\n",
    "Constraints :\n",
    "1 <= t <= 10^2\n",
    "0 <= N <= 10^3\n",
    "0 <= M <= 10^3\n",
    "Time Limit: 1sec\n",
    "Sample Input 1:\n",
    "1\n",
    "4 4 \n",
    "1 2 3 4 \n",
    "5 6 7 8 \n",
    "9 10 11 12 \n",
    "13 14 15 16\n",
    "Sample Output 1:\n",
    "1 2 3 4 8 12 16 15 14 13 9 5 6 7 11 10 \n",
    "Sample Input 2:\n",
    "2\n",
    "3 3 \n",
    "1 2 3 \n",
    "4 5 6 \n",
    "7 8 9\n",
    "3 1\n",
    "10\n",
    "20\n",
    "30\n",
    "Sample Output 2:\n",
    "1 2 3 6 9 8 7 4 5 \n",
    "10 20 30 \n",
    "\n",
    "\n",
    "\n",
    "\n",
    "\n",
    "\n",
    "\n",
    "\n",
    "\n"
   ]
  },
  {
   "cell_type": "code",
   "execution_count": 37,
   "id": "da8823f5",
   "metadata": {},
   "outputs": [
    {
     "name": "stdout",
     "output_type": "stream",
     "text": [
      "1 2 3 4 5 \n",
      "6 7 8 9 10 \n",
      "11 12 13 14 15 \n",
      "16 17 18 19 20 \n",
      "21 22 23 24 25 \n",
      "\n",
      "1 2 3 4 5 10 15 20 25 24 23 22 21 16 11 6 7 8 9 14 19 18 17 12 13 "
     ]
    }
   ],
   "source": [
    "def spiral(arr,n,m):\n",
    "    j=0 #row starting\n",
    "    k=0 #col starting\n",
    "    \n",
    "    while (j<n) and (k<m):\n",
    "        \n",
    "        #row\n",
    "        for i in range(k,m):\n",
    "            print(arr[j][i],end=' ')\n",
    "        j+=1\n",
    "        \n",
    "        #col\n",
    "        for i in range(j,n):\n",
    "            print(arr[i][m-1],end=' ')\n",
    "        m-=1\n",
    "        \n",
    "        #row\n",
    "        if (j<n):\n",
    "            for i in range(m-1,k-1,-1):\n",
    "                print(arr[n-1][i],end=' ')\n",
    "            n-=1\n",
    "        #col\n",
    "        if (k<m):\n",
    "            for i in range(n-1,j-1,-1):\n",
    "                print(arr[i][k],end=' ')\n",
    "            k+=1\n",
    "    \n",
    "n=5\n",
    "m=5\n",
    "arr=[[1,2,3,4,5],[6,7,8,9,10],[11,12,13,14,15],[16,17,18,19,20],[21,22,23,24,25]]\n",
    "for ele in arr:\n",
    "    for elem in ele:\n",
    "        print(elem,end=' ')\n",
    "    print()\n",
    "print()\n",
    "spiral(arr,int(n),int(m))"
   ]
  },
  {
   "cell_type": "code",
   "execution_count": 49,
   "id": "faa12e77",
   "metadata": {},
   "outputs": [
    {
     "name": "stdout",
     "output_type": "stream",
     "text": [
      "1 2 3 4 5\n",
      "6 7 8 9 10\n",
      "11 12 13 14 15\n",
      "16 17 18 19 20\n",
      "21 22 23 24 25\n"
     ]
    }
   ],
   "source": [
    "arr=[[1,2,3,4,5],[6,7,8,9,10],[11,12,13,14,15],[16,17,18,19,20],[21,22,23,24,25]]\n",
    "for row in arr:\n",
    "    output=' '.join([str(col) for col in row])\n",
    "    print(output)"
   ]
  },
  {
   "cell_type": "markdown",
   "id": "dcce2ea2",
   "metadata": {},
   "source": [
    "### Tuples"
   ]
  },
  {
   "cell_type": "code",
   "execution_count": 51,
   "id": "63ab741e",
   "metadata": {},
   "outputs": [
    {
     "name": "stdout",
     "output_type": "stream",
     "text": [
      "21\n"
     ]
    }
   ],
   "source": [
    "#take variable inputs = use * with the variable name to accomodate more \n",
    "def add(a,b,*more):\n",
    "    summ=a+b\n",
    "    for ele in more:\n",
    "        summ+=ele\n",
    "    return summ\n",
    "\n",
    "a=add(1,2,3,4,5,6)\n",
    "print(a)"
   ]
  },
  {
   "cell_type": "markdown",
   "id": "c6465afb",
   "metadata": {},
   "source": [
    "### Dictionaries"
   ]
  },
  {
   "cell_type": "code",
   "execution_count": 1,
   "id": "569a7884",
   "metadata": {},
   "outputs": [],
   "source": [
    "a={\"the\":1,\"abcd\":2,2342:\"he\"}"
   ]
  },
  {
   "cell_type": "code",
   "execution_count": 3,
   "id": "dc910cdd",
   "metadata": {},
   "outputs": [
    {
     "name": "stdout",
     "output_type": "stream",
     "text": [
      "<class 'dict'>\n"
     ]
    },
    {
     "data": {
      "text/plain": [
       "{'the': 1, 'abcd': 2, 2342: 'he'}"
      ]
     },
     "execution_count": 3,
     "metadata": {},
     "output_type": "execute_result"
    }
   ],
   "source": [
    "print(type(a))\n",
    "a"
   ]
  },
  {
   "cell_type": "code",
   "execution_count": 9,
   "id": "ba8d4db9",
   "metadata": {},
   "outputs": [
    {
     "name": "stdout",
     "output_type": "stream",
     "text": [
      "{'the': 1, 'abcd': 2, 2342: 'he'}\n",
      "<class 'dict'>\n"
     ]
    }
   ],
   "source": [
    "b=a.copy()\n",
    "print(b)\n",
    "print(type(b))"
   ]
  },
  {
   "cell_type": "code",
   "execution_count": 10,
   "id": "546ee251",
   "metadata": {},
   "outputs": [
    {
     "name": "stdout",
     "output_type": "stream",
     "text": [
      "{'the': 12, 'hker': 920}\n",
      "<class 'dict'>\n"
     ]
    }
   ],
   "source": [
    "c=dict([(\"the\",12),(\"hker\",920)])\n",
    "print(c)\n",
    "print(type(c))"
   ]
  },
  {
   "cell_type": "code",
   "execution_count": 3,
   "id": "25b1c9da",
   "metadata": {},
   "outputs": [
    {
     "name": "stdout",
     "output_type": "stream",
     "text": [
      "{'the': 10, 'uoiu': 10, '0oopw': 10}\n"
     ]
    },
    {
     "data": {
      "text/plain": [
       "dict"
      ]
     },
     "execution_count": 3,
     "metadata": {},
     "output_type": "execute_result"
    }
   ],
   "source": [
    "d=dict.fromkeys([\"the\",\"uoiu\",\"0oopw\"],10)\n",
    "print(d)\n",
    "type(d)"
   ]
  },
  {
   "cell_type": "code",
   "execution_count": 12,
   "id": "6a8b9146",
   "metadata": {},
   "outputs": [
    {
     "data": {
      "text/plain": [
       "dict_values([10, 10, 10])"
      ]
     },
     "execution_count": 12,
     "metadata": {},
     "output_type": "execute_result"
    }
   ],
   "source": [
    "d.values()"
   ]
  },
  {
   "cell_type": "code",
   "execution_count": 13,
   "id": "12c9bce7",
   "metadata": {},
   "outputs": [
    {
     "data": {
      "text/plain": [
       "dict_keys(['the', 'uoiu', '0oopw'])"
      ]
     },
     "execution_count": 13,
     "metadata": {},
     "output_type": "execute_result"
    }
   ],
   "source": [
    "d.keys()"
   ]
  },
  {
   "cell_type": "code",
   "execution_count": 15,
   "id": "6f0cc8a7",
   "metadata": {},
   "outputs": [
    {
     "data": {
      "text/plain": [
       "dict_items([('the', 10), ('uoiu', 10), ('0oopw', 10)])"
      ]
     },
     "execution_count": 15,
     "metadata": {},
     "output_type": "execute_result"
    }
   ],
   "source": [
    "d.items()"
   ]
  },
  {
   "cell_type": "code",
   "execution_count": 17,
   "id": "99cf2b00",
   "metadata": {},
   "outputs": [
    {
     "name": "stdout",
     "output_type": "stream",
     "text": [
      "the 1\n",
      "abcd 2\n",
      "2342 he\n"
     ]
    }
   ],
   "source": [
    "for i in a:\n",
    "    print(i, a[i])"
   ]
  },
  {
   "cell_type": "code",
   "execution_count": 19,
   "id": "634495d3",
   "metadata": {},
   "outputs": [
    {
     "name": "stdout",
     "output_type": "stream",
     "text": [
      "1\n",
      "2\n",
      "he\n"
     ]
    }
   ],
   "source": [
    "for i in a.values():\n",
    "    print(i)"
   ]
  },
  {
   "cell_type": "code",
   "execution_count": 4,
   "id": "ca3ee4c5",
   "metadata": {},
   "outputs": [],
   "source": [
    "d['tuple']=(1,2,3)"
   ]
  },
  {
   "cell_type": "code",
   "execution_count": 5,
   "id": "0aa1c07a",
   "metadata": {},
   "outputs": [
    {
     "data": {
      "text/plain": [
       "{'the': 10, 'uoiu': 10, '0oopw': 10, 'tuple': (1, 2, 3)}"
      ]
     },
     "execution_count": 5,
     "metadata": {},
     "output_type": "execute_result"
    }
   ],
   "source": [
    "d"
   ]
  },
  {
   "cell_type": "code",
   "execution_count": 7,
   "id": "f0f1e4ff",
   "metadata": {},
   "outputs": [
    {
     "name": "stdout",
     "output_type": "stream",
     "text": [
      "{'the': 10, 'uoiu': 10, '0oopw': 10, 'tuple': 'empty', 3: 5, 0: 9, 78: 90}\n"
     ]
    }
   ],
   "source": [
    "z={3:5,'tuple':'empty',0:9,78:90}\n",
    "d.update(z)\n",
    "print(d)"
   ]
  },
  {
   "cell_type": "code",
   "execution_count": 8,
   "id": "8a2e1289",
   "metadata": {},
   "outputs": [
    {
     "data": {
      "text/plain": [
       "10"
      ]
     },
     "execution_count": 8,
     "metadata": {},
     "output_type": "execute_result"
    }
   ],
   "source": [
    "d.pop('the')"
   ]
  },
  {
   "cell_type": "code",
   "execution_count": 9,
   "id": "34e88518",
   "metadata": {},
   "outputs": [
    {
     "data": {
      "text/plain": [
       "{'uoiu': 10, '0oopw': 10, 'tuple': 'empty', 3: 5, 0: 9, 78: 90}"
      ]
     },
     "execution_count": 9,
     "metadata": {},
     "output_type": "execute_result"
    }
   ],
   "source": [
    "d"
   ]
  },
  {
   "cell_type": "code",
   "execution_count": 10,
   "id": "e6b6a224",
   "metadata": {},
   "outputs": [],
   "source": [
    "del d[3]"
   ]
  },
  {
   "cell_type": "code",
   "execution_count": 11,
   "id": "f8f003cb",
   "metadata": {},
   "outputs": [
    {
     "data": {
      "text/plain": [
       "{'uoiu': 10, '0oopw': 10, 'tuple': 'empty', 0: 9, 78: 90}"
      ]
     },
     "execution_count": 11,
     "metadata": {},
     "output_type": "execute_result"
    }
   ],
   "source": [
    "d"
   ]
  },
  {
   "cell_type": "code",
   "execution_count": 12,
   "id": "9a08c76c",
   "metadata": {},
   "outputs": [],
   "source": [
    "d.clear()"
   ]
  },
  {
   "cell_type": "code",
   "execution_count": 13,
   "id": "9a61dd80",
   "metadata": {},
   "outputs": [
    {
     "data": {
      "text/plain": [
       "{}"
      ]
     },
     "execution_count": 13,
     "metadata": {},
     "output_type": "execute_result"
    }
   ],
   "source": [
    "d"
   ]
  },
  {
   "cell_type": "code",
   "execution_count": 14,
   "id": "600f6221",
   "metadata": {},
   "outputs": [],
   "source": [
    "del d"
   ]
  },
  {
   "cell_type": "code",
   "execution_count": 15,
   "id": "750399f7",
   "metadata": {},
   "outputs": [
    {
     "ename": "NameError",
     "evalue": "name 'd' is not defined",
     "output_type": "error",
     "traceback": [
      "\u001b[0;31m---------------------------------------------------------------------------\u001b[0m",
      "\u001b[0;31mNameError\u001b[0m                                 Traceback (most recent call last)",
      "Input \u001b[0;32mIn [15]\u001b[0m, in \u001b[0;36m<cell line: 1>\u001b[0;34m()\u001b[0m\n\u001b[0;32m----> 1\u001b[0m \u001b[43md\u001b[49m\n",
      "\u001b[0;31mNameError\u001b[0m: name 'd' is not defined"
     ]
    }
   ],
   "source": [
    "d"
   ]
  },
  {
   "cell_type": "code",
   "execution_count": 19,
   "id": "b85b2115",
   "metadata": {},
   "outputs": [],
   "source": [
    "def printKFreqWords(s,k):\n",
    "    words =s.split()\n",
    "    d={}\n",
    "    for ele in words:\n",
    "        d[ele]=d.get(ele,0)+1\n",
    "    for ele in d:\n",
    "        if d[ele]==k:\n",
    "            print(ele)\n",
    "    \n"
   ]
  },
  {
   "cell_type": "code",
   "execution_count": 22,
   "id": "04438b86",
   "metadata": {},
   "outputs": [
    {
     "name": "stdout",
     "output_type": "stream",
     "text": [
      "this\n",
      "is\n",
      "a\n",
      "word\n",
      "string\n",
      "having\n",
      "words\n"
     ]
    }
   ],
   "source": [
    "printKFreqWords(\"this is a word string having many many words\",1)"
   ]
  },
  {
   "cell_type": "markdown",
   "id": "36a3275f",
   "metadata": {},
   "source": [
    "##### Sets"
   ]
  },
  {
   "cell_type": "code",
   "execution_count": 23,
   "id": "aaf9a5ad",
   "metadata": {},
   "outputs": [],
   "source": [
    "a={1,2,3,4}\n",
    "b={3,4,5,6}"
   ]
  },
  {
   "cell_type": "code",
   "execution_count": 24,
   "id": "85bfe9b4",
   "metadata": {},
   "outputs": [
    {
     "data": {
      "text/plain": [
       "{3, 4}"
      ]
     },
     "execution_count": 24,
     "metadata": {},
     "output_type": "execute_result"
    }
   ],
   "source": [
    "a.intersection(b)"
   ]
  },
  {
   "cell_type": "code",
   "execution_count": 25,
   "id": "42eaffeb",
   "metadata": {},
   "outputs": [
    {
     "data": {
      "text/plain": [
       "{1, 2, 3, 4, 5, 6}"
      ]
     },
     "execution_count": 25,
     "metadata": {},
     "output_type": "execute_result"
    }
   ],
   "source": [
    "a.union(b)"
   ]
  },
  {
   "cell_type": "code",
   "execution_count": 26,
   "id": "c4463298",
   "metadata": {},
   "outputs": [
    {
     "data": {
      "text/plain": [
       "{1, 2}"
      ]
     },
     "execution_count": 26,
     "metadata": {},
     "output_type": "execute_result"
    }
   ],
   "source": [
    "a.difference(b)"
   ]
  },
  {
   "cell_type": "code",
   "execution_count": 27,
   "id": "3d0c73d1",
   "metadata": {},
   "outputs": [
    {
     "data": {
      "text/plain": [
       "{5, 6}"
      ]
     },
     "execution_count": 27,
     "metadata": {},
     "output_type": "execute_result"
    }
   ],
   "source": [
    "b.difference(a)"
   ]
  },
  {
   "cell_type": "code",
   "execution_count": 29,
   "id": "d49ce3f8",
   "metadata": {},
   "outputs": [
    {
     "data": {
      "text/plain": [
       "{1, 2, 5, 6}"
      ]
     },
     "execution_count": 29,
     "metadata": {},
     "output_type": "execute_result"
    }
   ],
   "source": [
    "a.symmetric_difference(b)"
   ]
  },
  {
   "cell_type": "code",
   "execution_count": 31,
   "id": "131c8cf6",
   "metadata": {},
   "outputs": [
    {
     "name": "stdout",
     "output_type": "stream",
     "text": [
      "5\n",
      "5\n"
     ]
    }
   ],
   "source": [
    "s={1,2,3,4,5,4,3,2,1}\n",
    "print(len(s))\n",
    "s.add(4)\n",
    "s.add(3)\n",
    "print(len(s))"
   ]
  },
  {
   "cell_type": "code",
   "execution_count": 34,
   "id": "d9565df4",
   "metadata": {},
   "outputs": [
    {
     "data": {
      "text/plain": [
       "21"
      ]
     },
     "execution_count": 34,
     "metadata": {},
     "output_type": "execute_result"
    }
   ],
   "source": [
    "# sum of unique elements\n",
    "def addUnique(l):\n",
    "    s=set()\n",
    "    for i in l:\n",
    "        s.add(i)\n",
    "    sum=0\n",
    "    for i in s:\n",
    "        sum+=i\n",
    "    return sum\n",
    "\n",
    "addUnique([1,2,3,3,4,4,5,5,6,6])"
   ]
  },
  {
   "cell_type": "markdown",
   "id": "bbd2811f",
   "metadata": {},
   "source": [
    "##### First non repeating character\n",
    "Send Feedback\n",
    "In a given string, find the first non-repeating character .You are given a string, that can contain repeating characters. Your task is to return the first character in this string that does not repeat. i.e., occurs exactly once. The string will contain characters only from English alphabet set, i.e., ('A' - 'Z') and ('a' - 'z'). If there is no non-repeating character print the first character of string.\n",
    "Input Format :\n",
    "Line 1 : A String , as mentioned above.\n",
    "Output Format :\n",
    "First non-repeating character\n",
    "Sample Input 1 :\n",
    "aDcadhc\n",
    "Sample Output 1:\n",
    "D\n",
    "Sample Input 2 :\n",
    "gdhIgHada\n",
    "Sample Output 2 :\n",
    "h\n",
    "\n",
    "\n"
   ]
  },
  {
   "cell_type": "code",
   "execution_count": 60,
   "id": "40631dab",
   "metadata": {},
   "outputs": [
    {
     "data": {
      "text/plain": [
       "'h'"
      ]
     },
     "execution_count": 60,
     "metadata": {},
     "output_type": "execute_result"
    }
   ],
   "source": [
    "def uniqueChar(string,freq):\n",
    "    #because this is a word and doesn't contain any spaces, we can't use split()\n",
    "    words=[ele for ele in string]\n",
    "    #an empty dictionary\n",
    "    d={}\n",
    "    for ele in words:\n",
    "        d[ele]=d.get(ele,0)+1\n",
    "    #checking for the first elem whose frequence is equal to freq and returning it\n",
    "    for ele in d:\n",
    "        if d[ele]==freq:\n",
    "            return ele\n",
    "    #if no elem found with desired frequence, then return the first word of the string\n",
    "    return words[0]\n",
    "    \n",
    "uniqueChar(\"gdhIgHada \",1)"
   ]
  },
  {
   "cell_type": "markdown",
   "id": "f0f3109b",
   "metadata": {},
   "source": [
    "##### Extract Unique characters\n",
    "Send Feedback\n",
    "Given a string S, you need to remove all the duplicates. That means, the output string should contain each character only once. The respective order of characters should remain same, as in the input string.\n",
    "Input format:\n",
    "The first and only line of input contains a string, that denotes the value of S.\n",
    "Output format :\n",
    "The first and only line of output contains the updated string, as described in the task.\n",
    "Constraints :\n",
    "0 <= Length of S <= 10^8\n",
    "Time Limit: 1 sec\n",
    "Sample Input 1 :\n",
    "ababacd\n",
    "Sample Output 1 :\n",
    "abcd\n",
    "Sample Input 2 :\n",
    "abcde\n",
    "Sample Output 2 :\n",
    "abcde\n",
    "\n"
   ]
  },
  {
   "cell_type": "code",
   "execution_count": 87,
   "id": "f0190e3a",
   "metadata": {},
   "outputs": [
    {
     "data": {
      "text/plain": [
       "'pota'"
      ]
     },
     "execution_count": 87,
     "metadata": {},
     "output_type": "execute_result"
    }
   ],
   "source": [
    "def uniqueChar(string):\n",
    "    #breaking string in to separate letter\n",
    "    words=[ele for ele in string]\n",
    "    d={} #empty dictionary\n",
    "    for ele in words:\n",
    "        if d.get(ele,0)==0:\n",
    "            d[ele]=d.get(ele,0)+1\n",
    "    return ''.join(d.keys())\n",
    "\n",
    "uniqueChar(\"potato\")"
   ]
  },
  {
   "cell_type": "markdown",
   "id": "d01fb1f9",
   "metadata": {},
   "source": [
    "##### Different Names\n",
    "Send Feedback\n",
    "In Little Flowers Public School, there are many students with same first names. You are given a task to find the students with same names. You will be given a string comprising of all the names of students and you have to tell the name and count of those students having same. If all the names are unique, print -1 instead.\n",
    "Note: We don't have to mention names whose frequency is 1.\n",
    "Input Format:\n",
    "The only line of input will have a string ‘str’ with space separated first names of students.\n",
    "Output Format:\n",
    "Print the names of students along with their count if they are repeating. If no name is repeating, print -1\n",
    "Constraints:\n",
    "1 <= |str| <= 10^5\n",
    "Time Limit: 1 second\n",
    "Sample Input 1:\n",
    "Abhishek harshit Ayush harshit Ayush Iti Deepak Ayush Iti\n",
    "Sample Output 1:\n",
    "harshit 2\n",
    "Ayush 3\n",
    "Iti 2\n",
    "Sample Input 2:\n",
    "Abhishek Harshit Ayush Iti\n",
    "Sample Output:\n",
    "-1\n",
    "\n",
    "\n"
   ]
  },
  {
   "cell_type": "code",
   "execution_count": 92,
   "id": "00dbdb98",
   "metadata": {},
   "outputs": [
    {
     "name": "stdout",
     "output_type": "stream",
     "text": [
      "harshit \t 2\n",
      "Ayush \t 3\n",
      "Iti \t 2\n"
     ]
    }
   ],
   "source": [
    "def names(string):\n",
    "    words=string.split()\n",
    "    d={}\n",
    "    flag=False\n",
    "    for ele in words:\n",
    "        d[ele]=d.get(ele,0)+1\n",
    "    for ele in d:\n",
    "        if d[ele]>1:\n",
    "            print(ele,'\\t',d[ele])\n",
    "            flag=True\n",
    "    if not flag:\n",
    "        return -1\n",
    "    \n",
    "string=\"Abhishek harshit Ayush harshit Ayush Iti Deepak Ayush Iti\"\n",
    "names(string)"
   ]
  },
  {
   "cell_type": "markdown",
   "id": "f0edbf18",
   "metadata": {},
   "source": [
    "##### Maximum Frequency Number\n",
    "Send Feedback\n",
    "You are given an array of integers that contain numbers in random order. Write a program to find and return the number which occurs the maximum times in the given input.\n",
    "If two or more elements contend for the maximum frequency, return the element which occurs in the array first.\n",
    "Input Format:\n",
    "The first line of input contains an integer, that denotes the value of the size of the array. Let us denote it with the symbol N.\n",
    "The following line contains N space separated integers, that denote the value of the elements of the array.\n",
    "Output Format :\n",
    "The first and only line of output contains most frequent element in the given array.\n",
    "Constraints:\n",
    "0 <= N <= 10^8\n",
    "Time Limit: 1 sec\n",
    "Sample Input 1 :\n",
    "13\n",
    "2 12 2 11 12 2 1 2 2 11 12 2 6 \n",
    "Sample Output 1 :\n",
    "2\n",
    "Sample Input 2 :\n",
    "3\n",
    "1 4 5\n",
    "Sample Output 2 :\n",
    "1\n",
    "\n",
    "\n"
   ]
  },
  {
   "cell_type": "code",
   "execution_count": 94,
   "id": "5cef4233",
   "metadata": {},
   "outputs": [
    {
     "data": {
      "text/plain": [
       "1"
      ]
     },
     "execution_count": 94,
     "metadata": {},
     "output_type": "execute_result"
    }
   ],
   "source": [
    "def maxnumber(arr):\n",
    "    d={}\n",
    "    for ele in arr:\n",
    "        d[ele]=d.get(ele,0)+1\n",
    "    max=-1\n",
    "    num=-1\n",
    "    for ele in d:\n",
    "        if d[ele]>max:\n",
    "            max=d[ele]\n",
    "            num=ele\n",
    "    return num\n",
    "\n",
    "maxnumber([1, 4, 5])"
   ]
  },
  {
   "cell_type": "code",
   "execution_count": 100,
   "id": "6169f6fa",
   "metadata": {},
   "outputs": [
    {
     "name": "stdout",
     "output_type": "stream",
     "text": [
      "5\n",
      "2 3 4 5 5\n",
      "4\n"
     ]
    }
   ],
   "source": [
    "def bubblesort(arr):\n",
    "    for i in range(len(arr)):\n",
    "        for j in range(len(arr)-1):\n",
    "            if arr[j]>arr[j+1]:\n",
    "                arr[j],arr[j+1]=arr[j+1],arr[j]\n",
    "    return arr\n",
    "    \n",
    "\n",
    "if __name__ == '__main__':\n",
    "    n = int(input())\n",
    "    arr = [int(ele) for ele in input().split()]\n",
    "    arr=bubblesort(arr)\n",
    "    max=arr[-1]\n",
    "    max2=0\n",
    "    for i in range(len(arr)):\n",
    "        if max2<arr[i]<max:\n",
    "            max2=arr[i]\n",
    "    print(max2)\n",
    "    "
   ]
  },
  {
   "cell_type": "code",
   "execution_count": null,
   "id": "76d25144",
   "metadata": {},
   "outputs": [],
   "source": [
    "if __name__ == '__main__':\n",
    "    for i in range(int(input())):\n",
    "        name = input()\n",
    "        score = float(input())\n",
    "    print(list)\n",
    "#empty dictionary\n",
    "new=dict(list)\n"
   ]
  }
 ],
 "metadata": {
  "kernelspec": {
   "display_name": "Python 3 (ipykernel)",
   "language": "python",
   "name": "python3"
  },
  "language_info": {
   "codemirror_mode": {
    "name": "ipython",
    "version": 3
   },
   "file_extension": ".py",
   "mimetype": "text/x-python",
   "name": "python",
   "nbconvert_exporter": "python",
   "pygments_lexer": "ipython3",
   "version": "3.9.13"
  }
 },
 "nbformat": 4,
 "nbformat_minor": 5
}
