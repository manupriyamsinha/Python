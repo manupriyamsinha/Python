{
 "cells": [
  {
   "cell_type": "markdown",
   "id": "73b00833",
   "metadata": {},
   "source": [
    "##### Find power of a number\n",
    "\n",
    "Write a program to find x to the power n (i.e. x^n). Take x and n from the user. You need to print the answer.\n",
    "Note : For this question, you can assume that 0 raised to the power of 0 is 1\n",
    "\n",
    "Input format :\n",
    "Two integers x and n (separated by space)\n",
    "Output Format :\n",
    "x^n (i.e. x raise to the power n)\n",
    "Constraints:\n",
    "0 <= x <= 8 \n",
    "0 <= n <= 9\n",
    "Sample Input 1 :\n",
    " 3 4\n",
    "Sample Output 1 :\n",
    "81\n",
    "Sample Input 2 :\n",
    " 2 5\n",
    "Sample Output 2 :\n",
    "32"
   ]
  },
  {
   "cell_type": "code",
   "execution_count": 9,
   "id": "f4957220",
   "metadata": {},
   "outputs": [
    {
     "name": "stdout",
     "output_type": "stream",
     "text": [
      "Enter the number0\n",
      "Enter the power for the number123\n",
      "1\n"
     ]
    }
   ],
   "source": [
    "x = int(input(\"Enter the number\"))\n",
    "n = int(input(\"Enter the power for the number\"))\n",
    "#base case\n",
    "if (x==0 or n==0):\n",
    "    print(1)\n",
    "    \n",
    "else:\n",
    "    print(x**n)"
   ]
  },
  {
   "cell_type": "markdown",
   "id": "0d6d771e",
   "metadata": {},
   "source": [
    "##### Alpha Pattern\n",
    "\n",
    "Print the following pattern for the given N number of rows.\n",
    "Pattern for N = 3\n",
    " A\n",
    " BB\n",
    " CCC\n",
    "Input format :\n",
    "Integer N (Total no. of rows)\n",
    "Output format :\n",
    "Pattern in N lines\n",
    "Constraints\n",
    "0 <= N <= 26\n",
    "Sample Input 1:\n",
    "7\n",
    "Sample Output 1:\n",
    "A\n",
    "BB\n",
    "CCC\n",
    "DDDD\n",
    "EEEEE\n",
    "FFFFFF\n",
    "GGGGGGG\n",
    "\n",
    "Sample Input 2:\n",
    "6\n",
    "Sample Output 2:\n",
    "A\n",
    "BB\n",
    "CCC\n",
    "DDDD\n",
    "EEEEE\n",
    "FFFFFF\n",
    "\n",
    "\n"
   ]
  },
  {
   "cell_type": "code",
   "execution_count": 19,
   "id": "7227c992",
   "metadata": {},
   "outputs": [
    {
     "name": "stdout",
     "output_type": "stream",
     "text": [
      "7\n",
      "A\n",
      "BB\n",
      "CCC\n",
      "DDDD\n",
      "EEEEE\n",
      "FFFFFF\n",
      "GGGGGGG\n"
     ]
    }
   ],
   "source": [
    "x = int(input())\n",
    "asci = 65\n",
    "for i in range(1,x+1):\n",
    "    for j in range(1,i+1):\n",
    "        print(chr(i+64),end='')\n",
    "    print()"
   ]
  },
  {
   "cell_type": "markdown",
   "id": "dfe649db",
   "metadata": {},
   "source": [
    "##### All prime numbers\n",
    "\n",
    "Given an integer N, print all the prime numbers that lie in the range 2 to N (both inclusive).\n",
    "\n",
    "Print the prime numbers in different lines.\n",
    "\n",
    "Input Format :\n",
    "\n",
    "Integer N\n",
    "\n",
    "Output Format :\n",
    "\n",
    "Prime numbers in different lines\n",
    "\n",
    "Constraints :\n",
    "\n",
    "1 <= N <= 100\n",
    "\n",
    "Sample Input 1:\n",
    "\n",
    "9\n",
    "\n",
    "Sample Output 1:\n",
    "\n",
    "2\n",
    "\n",
    "3\n",
    "\n",
    "5\n",
    "\n",
    "7\n",
    "\n",
    "\n",
    "\n",
    "\n",
    "\n",
    "\n",
    "\n",
    "\n",
    "\n",
    "Sample Input 2:\n",
    "\n",
    "20\n",
    "\n",
    "Sample Output 2:\n",
    "\n",
    "2\n",
    "\n",
    "3\n",
    "\n",
    "5\n",
    "\n",
    "7\n",
    "\n",
    "11\n",
    "\n",
    "13\n",
    "\n",
    "17\n",
    "\n",
    "19"
   ]
  },
  {
   "cell_type": "code",
   "execution_count": 23,
   "id": "d220a033",
   "metadata": {},
   "outputs": [
    {
     "name": "stdout",
     "output_type": "stream",
     "text": [
      "9\n",
      "2\n",
      "3\n",
      "5\n",
      "7\n",
      "9\n"
     ]
    }
   ],
   "source": [
    "def isPrime(n):\n",
    "    if n==2 or n==3:\n",
    "        return n\n",
    "    for i in range(2,n):\n",
    "        if n%i ==0:\n",
    "            return False\n",
    "        return True\n",
    "    \n",
    "\n",
    "a = int(input())\n",
    "for i in range(2,a+1):\n",
    "        if isPrime(i):\n",
    "            print(i)\n",
    "        "
   ]
  },
  {
   "cell_type": "markdown",
   "id": "bf0192b6",
   "metadata": {},
   "source": [
    "##### Arithmetic Progression\n",
    "\n",
    "You are given first three entries of an arithmetic progression. You have to calculate the common difference and print it.\n",
    "Input format:\n",
    "The first line of input contains an integer a (1 <= a <= 100)\n",
    "The second line of input contains an integer b (1 <= b <= 100) \n",
    "The third line of input contains an integer c (1 <= c <= 100) \n",
    "Constraints:\n",
    "Time Limit: 1 second\n",
    "Output format:\n",
    "The first and only line of output contains the result.  \n",
    "Sample Input:\n",
    "1\n",
    "3\n",
    "5\n",
    "Sample Output:\n",
    "2"
   ]
  },
  {
   "cell_type": "code",
   "execution_count": 29,
   "id": "cd31e511",
   "metadata": {},
   "outputs": [
    {
     "name": "stdout",
     "output_type": "stream",
     "text": [
      "5\n",
      "10\n",
      "15\n",
      "5\n"
     ]
    }
   ],
   "source": [
    "\n",
    "def ap(a,b,c):\n",
    "    x = b-a\n",
    "    y = c-b\n",
    "    if x == y:\n",
    "        return x\n",
    "    \n",
    "    \n",
    "a = int(input())\n",
    "b = int(input())\n",
    "c = int(input())\n",
    "\n",
    "print(ap(a,b,c))\n",
    "\n"
   ]
  },
  {
   "cell_type": "markdown",
   "id": "321c5ad7",
   "metadata": {},
   "source": [
    "##### Rectangular Area\n",
    "\n",
    "You are given a rectangle in a plane. The corner coordinates of this rectangle is provided to you. You have to print the amount of area of the plane covered by this rectangles.\n",
    "The end coordinates are provided as four integral values: x1, y1, x2, y2. It is given that x1 < x2 and y1 < y2.\n",
    "Input format:\n",
    "The first line of input contains an integer x1 (1 <= x1 <= 10)\n",
    "The second line of input contains an integer y1 (1 <= y1 <= 10) \n",
    "The third line of input contains an integer x2 (1 <= x2 <= 10)\n",
    "The fourth line of input contains an integer y2 (1 <= y2 <= 10) \n",
    "Constraints:\n",
    "Time Limit: 1 second\n",
    "Output format:\n",
    "The first and only line of output contains the result.  \n",
    "Sample Input:\n",
    "1\n",
    "1\n",
    "3\n",
    "3\n",
    "Sample Output:\n",
    "4\n"
   ]
  },
  {
   "cell_type": "code",
   "execution_count": 32,
   "id": "53697039",
   "metadata": {},
   "outputs": [
    {
     "name": "stdout",
     "output_type": "stream",
     "text": [
      "3\n",
      "10\n",
      "8\n",
      "15\n",
      "25\n"
     ]
    }
   ],
   "source": [
    "def rect(a,b,c,d):\n",
    "    length = c-a\n",
    "    breadth = d-b\n",
    "    return length*breadth\n",
    "\n",
    "x1 = int(input())\n",
    "y1 = int(input())\n",
    "x2 = int(input())\n",
    "y2 = int(input())\n",
    "print(rect(x1,y1,x2,y2))"
   ]
  },
  {
   "cell_type": "markdown",
   "id": "aa4f2e41",
   "metadata": {},
   "source": [
    "##### Sum of n numbers\n",
    "\n",
    "Given an integer n, find and print the sum of numbers from 1 to n.\n",
    "Note : Use while loop only.\n",
    "Input Format :\n",
    "Integer n\n",
    "Output Format :\n",
    "Sum\n",
    "Constraints :\n",
    "1 <= n <= 100\n",
    "Sample Input :\n",
    "10\n",
    "Sample Output :\n",
    "55"
   ]
  },
  {
   "cell_type": "code",
   "execution_count": 34,
   "id": "8ae15d4f",
   "metadata": {},
   "outputs": [
    {
     "name": "stdout",
     "output_type": "stream",
     "text": [
      "10\n",
      "55\n"
     ]
    }
   ],
   "source": [
    "def sumof(n):\n",
    "    total = 0\n",
    "    i=1\n",
    "    while i<=n:\n",
    "        total+=i\n",
    "        i+=1\n",
    "    return total\n",
    "\n",
    "x = int(input())\n",
    "print(sumof(x))"
   ]
  },
  {
   "cell_type": "markdown",
   "id": "85f72047",
   "metadata": {},
   "source": [
    "##### Sum of Even Numbers\n",
    "\n",
    "Given a number N, print sum of all even numbers from 1 to N.\n",
    "Input Format :\n",
    "Integer N\n",
    "Output Format :\n",
    "Required Sum \n",
    "Sample Input 1 :\n",
    " 6\n",
    "Sample Output 1 :\n",
    "12\n"
   ]
  },
  {
   "cell_type": "code",
   "execution_count": 36,
   "id": "9a3c6881",
   "metadata": {},
   "outputs": [
    {
     "name": "stdout",
     "output_type": "stream",
     "text": [
      "6\n",
      "12\n"
     ]
    }
   ],
   "source": [
    "def evenSum(n):\n",
    "    total = 0\n",
    "    for i in range(n+1):\n",
    "        if i%2==0:\n",
    "            total+=i\n",
    "    return total\n",
    "\n",
    "x = int(input())\n",
    "print(evenSum(x))"
   ]
  },
  {
   "cell_type": "markdown",
   "id": "63bc7e59",
   "metadata": {},
   "source": [
    "##### Fahrenheit to Celsius\n",
    "\n",
    "Given three values - Start Fahrenheit Value (S), End Fahrenheit value (E) and Step Size (W), you need to convert \n",
    "all Fahrenheit values from Start to End at the gap of W, into their corresponding Celsius values and print the \n",
    "table.\n",
    "\n",
    "Input Format :\n",
    "\n",
    "3 integers - S, E and W respectively \n",
    "\n",
    "Output Format :\n",
    "\n",
    "Fahrenheit to Celsius conversion table. One line for every Fahrenheit and corresponding Celsius value. On \n",
    "Fahrenheit value and its corresponding Celsius value should be separate by tab (\"\\t\")\n",
    "\n",
    "Constraints :\n",
    "\n",
    "0 <= S <= 80\n",
    "\n",
    "S <= E <=  900\n",
    "\n",
    "0 <= W <= 40 \n",
    "\n",
    "Sample Input 1:\n",
    "\n",
    "0 \n",
    "\n",
    "100 \n",
    "\n",
    "20\n",
    "\n",
    "Sample Output 1:\n",
    "\n",
    "0   -17\n",
    "\n",
    "20  -6\n",
    "\n",
    "40  4\n",
    "\n",
    "60  15\n",
    "\n",
    "80  26\n",
    "\n",
    "100 37\n",
    "\n",
    "Sample Input 2:\n",
    "\n",
    "20\n",
    "\n",
    "119\n",
    "\n",
    "13\n",
    "\n",
    "Sample Output 2:\n",
    "\n",
    "20  -6\n",
    "\n",
    "33  0 \n",
    "\n",
    "46  7\n",
    "\n",
    "59  15\n",
    "\n",
    "72  22\n",
    "\n",
    "85  29\n",
    "\n",
    "98  36\n",
    "\n",
    "111 43\n",
    "\n",
    "Explanation For Input 2:\n",
    "\n",
    "We need need to start calculating the Celsius values for each of the Fahrenheit Value which starts from 20. \n",
    "So starting from 20 which is the given Fahrenheit start value, we need to compute its corresponding Celsius \n",
    "value which computes to -6. We print this information as <Fahrenheit Value> a tab space\"\\t\" <Celsius Value> on \n",
    "each line for each step of 13 we take to get the next value of Fahrenheit and extend this idea till we reach \n",
    "the end that is till 119 in this case. You may or may not exactly land on the end value depending on the \n",
    "steps you are taking."
   ]
  },
  {
   "cell_type": "code",
   "execution_count": 50,
   "id": "d8a93533",
   "metadata": {},
   "outputs": [
    {
     "name": "stdout",
     "output_type": "stream",
     "text": [
      "20\n",
      "119\n",
      "13\n",
      "20 \t -6.666666666666667\n",
      "33 \t 0.5555555555555556\n",
      "46 \t 7.777777777777778\n",
      "59 \t 15.0\n",
      "72 \t 22.22222222222222\n",
      "85 \t 29.444444444444443\n",
      "98 \t 36.666666666666664\n",
      "111 \t 43.888888888888886\n"
     ]
    }
   ],
   "source": [
    "def tempConversion(S,E,W):\n",
    "    for i in range(S,E+1,W):\n",
    "        celsius = ((i-32)*5)/9\n",
    "        #celsius = ((i-32))/1.8\n",
    "        print(i,\"\\t\",(celsius))\n",
    "\n",
    "s = int(input())\n",
    "e = int(input())\n",
    "w = int(input())\n",
    "tempConversion(s,e,w)"
   ]
  },
  {
   "cell_type": "markdown",
   "id": "37fa37a3",
   "metadata": {},
   "source": [
    "##### Sum of n numbers\n",
    "\n",
    "Given an integer n, find and print the sum of numbers from 1 to n.\n",
    "Note : Use while loop only.\n",
    "Input Format :\n",
    "Integer n\n",
    "Output Format :\n",
    "Sum\n",
    "Constraints :\n",
    "1 <= n <= 100\n",
    "Sample Input :\n",
    "10\n",
    "Sample Output :\n",
    "55\n",
    "\n"
   ]
  },
  {
   "cell_type": "code",
   "execution_count": 4,
   "id": "2c250144",
   "metadata": {},
   "outputs": [
    {
     "data": {
      "text/plain": [
       "5050"
      ]
     },
     "execution_count": 4,
     "metadata": {},
     "output_type": "execute_result"
    }
   ],
   "source": [
    "def sum_n(n):\n",
    "    res = 0\n",
    "    i=0\n",
    "    while i<= n:\n",
    "        res +=i\n",
    "        i+=1\n",
    "    return res\n",
    "\n",
    "result = sum_n(100)\n",
    "result"
   ]
  },
  {
   "cell_type": "markdown",
   "id": "0483e2e2",
   "metadata": {},
   "source": [
    "##### Sum of n even numbers"
   ]
  },
  {
   "cell_type": "code",
   "execution_count": 8,
   "id": "e3d95798",
   "metadata": {},
   "outputs": [
    {
     "data": {
      "text/plain": [
       "12"
      ]
     },
     "execution_count": 8,
     "metadata": {},
     "output_type": "execute_result"
    }
   ],
   "source": [
    "def evenSum(n):\n",
    "    res = 0\n",
    "    i = 1\n",
    "    while i<=n:\n",
    "        if i%2==0:\n",
    "            res+=i\n",
    "            i+=1\n",
    "        else:\n",
    "            i+=1\n",
    "    return res\n",
    "\n",
    "result = evenSum(6)\n",
    "result"
   ]
  },
  {
   "cell_type": "markdown",
   "id": "357d0255",
   "metadata": {},
   "source": [
    "##### Primality Checking"
   ]
  },
  {
   "cell_type": "code",
   "execution_count": 20,
   "id": "74eaaf98",
   "metadata": {},
   "outputs": [
    {
     "name": "stdout",
     "output_type": "stream",
     "text": [
      "Not Prime\n"
     ]
    }
   ],
   "source": [
    "def checkPrime(n):\n",
    "    if n>2:\n",
    "        d = 2\n",
    "        flag = False\n",
    "        while d<n:\n",
    "            if n%d==0:\n",
    "                flag=True\n",
    "            d+=1\n",
    "        if flag:\n",
    "            print(\"Not Prime\")\n",
    "        else:\n",
    "            print(\"Prime\")\n",
    "    \n",
    "    else:\n",
    "        if (n==2 or n==1):\n",
    "            print(\"Prime \")\n",
    "            \n",
    "checkPrime(10)"
   ]
  },
  {
   "cell_type": "code",
   "execution_count": 16,
   "id": "ebc1ca42",
   "metadata": {},
   "outputs": [
    {
     "data": {
      "text/plain": [
       "'Not Prime'"
      ]
     },
     "execution_count": 16,
     "metadata": {},
     "output_type": "execute_result"
    }
   ],
   "source": [
    "def primality(num):\n",
    "    if num==1 or num==2 or num==3:\n",
    "        return 'Prime Number'\n",
    "    else:\n",
    "        if (num%2==0) or (num%3==0) or (num%15==0):\n",
    "            return 'Not Prime'\n",
    "        else:\n",
    "            return 'Prime Number'\n",
    "    \n",
    "    \n",
    "result = primality(15)\n",
    "result"
   ]
  },
  {
   "cell_type": "markdown",
   "id": "6ff2f054",
   "metadata": {},
   "source": [
    "##### Calculator\n",
    "\n",
    "Write a program that performs the tasks of a simple calculator. The program should first take an integer as \n",
    "input and then based on that integer perform the task as given below.\n",
    "\n",
    "1. If the input is 1, then 2 integers are taken from the user and their sum is printed.\n",
    "\n",
    "2. If the input is 2, then 2 integers are taken from the user and their difference(1st number - 2nd number) is \n",
    "printed.\n",
    "\n",
    "3. If the input is 3, then 2 integers are taken from the user and their product is printed.\n",
    "\n",
    "4. If the input is 4, then 2 integers are taken from the user and the quotient obtained (on dividing 1st number \n",
    "   by 2nd number) is printed.\n",
    "\n",
    "5. If the input is 5, then 2 integers are taken from the user and their remainder(1st number mod 2nd number) is    printed.\n",
    "\n",
    "6. If the input is 6, then the program exits.\n",
    "\n",
    "7. For any other input, then print \"Invalid Operation\".\n",
    "\n",
    "Note: Each answer in next line.\n",
    "\n",
    "Input format:\n",
    "\n",
    "Take integers as input, in accordance to the description of the question. \n",
    "\n",
    "Constraints:\n",
    "\n",
    "Time Limit: 1 second\n",
    "\n",
    "Output format:\n",
    "\n",
    "The output lines must be as prescribed in the description of the question.\n",
    "\n",
    "Sample Input:\n",
    "\n",
    "3\n",
    "\n",
    "1\n",
    "\n",
    "2\n",
    "\n",
    "4\n",
    "\n",
    "4\n",
    "\n",
    "2\n",
    "\n",
    "1\n",
    "\n",
    "3\n",
    "\n",
    "2\n",
    "\n",
    "7\n",
    "\n",
    "6\n",
    "\n",
    "Sample Output:\n",
    "\n",
    "2\n",
    "\n",
    "2\n",
    "\n",
    "5\n",
    "\n",
    "Invalid Operation\n",
    "\n",
    "Explanation of the sample input\n",
    "\n",
    "The first number given is 3, so that means two more numbers will be given and we'll have to multiply them and \n",
    "show the result. The two numbers are 1 and 2. Their product is 2, so 2 is displayed first in the output. \n",
    "Similarly, all the numbers are processed in groups of three. The first number tells the operation and the next \n",
    "two numbers tell on which numbers the operation is done. This applies to numbers from 1 to 5. If the input is 6 \n",
    "(like it is at the end), two more numbers will NOT be provided, you simply have to exit the program. Also, if \n",
    "the input is any number except 1 to 6 (like 7 which is at the second last), then you simply have to print \n",
    "\"Invalid Operation\"\n",
    "\n"
   ]
  },
  {
   "cell_type": "code",
   "execution_count": 32,
   "id": "bb2b9869",
   "metadata": {},
   "outputs": [],
   "source": [
    "\n",
    "def calc(a,b,c):\n",
    "    if (a==1):\n",
    "        print(b+c)\n",
    "    elif (a==2):\n",
    "        print(b-c)\n",
    "    elif (a==3):\n",
    "        print(b*c)\n",
    "    elif (a==4):\n",
    "        print(b//c)\n",
    "    elif (a==5):\n",
    "        print(b%c)\n",
    "    elif (a==6):\n",
    "        return\n",
    "    else:\n",
    "        print(\"Invalid Operation\")"
   ]
  },
  {
   "cell_type": "code",
   "execution_count": 35,
   "id": "430d10cc",
   "metadata": {},
   "outputs": [
    {
     "name": "stdout",
     "output_type": "stream",
     "text": [
      "Enter the number as per below:\n",
      "        1: sum\n",
      "     2:difference\n",
      "     3:multiply\n",
      "     4: quotient\n",
      "     5: remainder\n",
      "     6: exit1\n",
      "First number: 2\n",
      "Second number: 2\n",
      "4\n"
     ]
    }
   ],
   "source": [
    "n = int(input(\"\"\"Enter the number as per below:\n",
    "        1: sum\n",
    "     2:difference\n",
    "     3:multiply\n",
    "     4: quotient\n",
    "     5: remainder\n",
    "     6: exit\"\"\"))\n",
    "a = int(input(\"First number: \"))\n",
    "b = int(input(\"Second number: \"))\n",
    "calc(n,a,b)"
   ]
  },
  {
   "cell_type": "markdown",
   "id": "9a222326",
   "metadata": {},
   "source": [
    "##### Reverse of a number\n",
    "\n",
    "Write a program to generate the reverse of a given number N. Print the corresponding reverse number.\n",
    "Note : If a number has trailing zeros, then its reverse will not include them. For e.g., reverse of 10400 will \n",
    "be 401 instead of 00401.\n",
    "\n",
    "Input format :\n",
    "Integer N\n",
    "Output format :\n",
    "Corresponding reverse number\n",
    "Constraints:\n",
    "0 <= N < 10^8\n",
    "Sample Input 1 :\n",
    "1234\n",
    "Sample Output 1 :\n",
    "4321\n",
    "Sample Input 2 :\n",
    "1980\n",
    "Sample Output 2 :\n",
    "891\n",
    "\n"
   ]
  },
  {
   "cell_type": "code",
   "execution_count": 2,
   "id": "2af7377e",
   "metadata": {},
   "outputs": [
    {
     "name": "stdout",
     "output_type": "stream",
     "text": [
      "1900100\n",
      "10091\n"
     ]
    }
   ],
   "source": [
    "def reverse(n):\n",
    "    result=0\n",
    "    temp = n\n",
    "    while temp>0:\n",
    "        lastdigit=temp%10\n",
    "        temp=temp//10\n",
    "        result = result*10+lastdigit\n",
    "    print(result)\n",
    "\n",
    "num = int(input())\n",
    "reverse(num)"
   ]
  },
  {
   "cell_type": "markdown",
   "id": "8fd4fb26",
   "metadata": {},
   "source": [
    "##### Remove Character (Practice) "
   ]
  },
  {
   "cell_type": "code",
   "execution_count": 9,
   "id": "eb1509ce",
   "metadata": {},
   "outputs": [],
   "source": [
    "def removeChar(a,x):\n",
    "    \n",
    "    if(len(a)==0):\n",
    "        return a\n",
    "    new = removeChar(a[1:],x)\n",
    "    if a[0]==x:\n",
    "        return \"\"+new\n",
    "    else:\n",
    "        return a[0]+new\n"
   ]
  },
  {
   "cell_type": "code",
   "execution_count": 12,
   "id": "ce623eb5",
   "metadata": {},
   "outputs": [
    {
     "data": {
      "text/plain": [
       "'bnmui'"
      ]
     },
     "execution_count": 12,
     "metadata": {},
     "output_type": "execute_result"
    }
   ],
   "source": [
    "removeChar(\"abanamauaia\",\"a\")"
   ]
  },
  {
   "cell_type": "code",
   "execution_count": 16,
   "id": "00de6ead",
   "metadata": {},
   "outputs": [
    {
     "data": {
      "text/plain": [
       "'nmol bnsl'"
      ]
     },
     "execution_count": 16,
     "metadata": {},
     "output_type": "execute_result"
    }
   ],
   "source": [
    "def throw(a,x):\n",
    "    if len(a)==0:\n",
    "        return a\n",
    "    new = \"\"\n",
    "    for i in range(len(a)):\n",
    "        if a[i]==x:\n",
    "            new+=\"\"\n",
    "        else:\n",
    "            new+=a[i]\n",
    "    return new\n",
    "\n",
    "a=\"anmol bansal\"\n",
    "result = throw(a,\"a\")\n",
    "result"
   ]
  },
  {
   "cell_type": "markdown",
   "id": "5bb8ed05",
   "metadata": {},
   "source": [
    "##### Palindrome checker\n",
    "\n",
    "Write a program to determine if given number is palindrome or not. Print true if it is palindrome, false otherwise.\n",
    "Palindrome are the numbers for which reverse is exactly same as the original one. For eg. 121\n",
    "Sample Input 1 :\n",
    "121\n",
    "Sample Output 1 :\n",
    "true\n",
    "Sample Input 2 :\n",
    "1032\n",
    "Sample Output 2 :\n",
    "false\n",
    "\n"
   ]
  },
  {
   "cell_type": "code",
   "execution_count": 31,
   "id": "84ad9285",
   "metadata": {},
   "outputs": [],
   "source": [
    "#created a reverse copy of the num and then compared it with the original num\n",
    "def isPalindrome(n):\n",
    "    rev=\"\"\n",
    "    for i in range(len(n)-1,-1,-1):\n",
    "        rev+=n[i]\n",
    "    if rev == n:\n",
    "        return True\n",
    "    else:\n",
    "        return False"
   ]
  },
  {
   "cell_type": "code",
   "execution_count": 37,
   "id": "0b8791fc",
   "metadata": {},
   "outputs": [
    {
     "data": {
      "text/plain": [
       "False"
      ]
     },
     "execution_count": 37,
     "metadata": {},
     "output_type": "execute_result"
    }
   ],
   "source": [
    "isPalindrome(\"123021\")"
   ]
  },
  {
   "cell_type": "markdown",
   "id": "a2a8f352",
   "metadata": {},
   "source": [
    "##### Sum of even & odd\n",
    "\n",
    "Write a program to input an integer N and print the sum of all its even digits and sum of all its odd digits separately.\n",
    "Digits mean numbers, not the places! That is, if the given integer is \"13245\", even digits are 2 & 4 and odd digits are 1, 3 & 5.\n",
    "Input format :\n",
    " Integer N\n",
    "Output format :\n",
    "Sum_of_Even_Digits Sum_of_Odd_Digits\n",
    "(Print first even sum and then odd sum separated by space)\n",
    "Constraints\n",
    "0 <= N <= 10^8\n",
    "Sample Input 1:\n",
    "1234\n",
    "Sample Output 1:\n",
    "6 4\n",
    "Sample Input 2:\n",
    "552245\n",
    "Sample Output 2:\n",
    "8 15\n",
    "Explanation for Input 2:\n",
    "For the given input, the even digits are 2, 2 and 4 and if we take the sum of these digits it will come out to be 8(2 + 2 + 4) and similarly, if we look at the odd digits, they are, 5, 5 and 5 which makes a sum of 15(5 + 5 + 5). Hence the answer would be, 8(evenSum) <single space> 15(oddSum)\n",
    "\n"
   ]
  },
  {
   "cell_type": "code",
   "execution_count": 40,
   "id": "69086370",
   "metadata": {},
   "outputs": [],
   "source": [
    "def Even_Odd(n):\n",
    "    even=0\n",
    "    odd=0\n",
    "    temp = n\n",
    "    num=''\n",
    "    while temp>0:\n",
    "        num = temp%10\n",
    "        temp=temp//10\n",
    "        if num%2==0:\n",
    "            even+=num\n",
    "        else:\n",
    "            odd+=num\n",
    "    return even, odd"
   ]
  },
  {
   "cell_type": "code",
   "execution_count": 42,
   "id": "8fbf4a3b",
   "metadata": {},
   "outputs": [
    {
     "data": {
      "text/plain": [
       "(6, 9)"
      ]
     },
     "execution_count": 42,
     "metadata": {},
     "output_type": "execute_result"
    }
   ],
   "source": [
    "Even_Odd(12345)"
   ]
  },
  {
   "cell_type": "markdown",
   "id": "db18d33c",
   "metadata": {},
   "source": [
    "##### Nth Fibonacci number\n",
    "\n",
    "Nth term of fibonacci series F(n) is calculated using following formula -\n",
    "    F(n) = F(n-1) + F(n-2), \n",
    "    Where, F(1) = F(2) = 1\n",
    "Provided N you have to find out the Nth Fibonacci Number.\n",
    "Input Format :\n",
    "Integer n\n",
    "Output Format :\n",
    "Nth Fibonacci term i.e. F(n)\n",
    "Constraints:\n",
    "1 <= n <= 25\n",
    "Sample Input 1:\n",
    "4\n",
    "Sample Output 2:\n",
    "3 \n",
    "Sample Input 1:\n",
    "6\n",
    "Sample Output 2:\n",
    "8\n"
   ]
  },
  {
   "cell_type": "code",
   "execution_count": 56,
   "id": "afc1ee9d",
   "metadata": {},
   "outputs": [
    {
     "name": "stdout",
     "output_type": "stream",
     "text": [
      "7\n"
     ]
    },
    {
     "data": {
      "text/plain": [
       "13"
      ]
     },
     "execution_count": 56,
     "metadata": {},
     "output_type": "execute_result"
    }
   ],
   "source": [
    "def NthFib(n):\n",
    "    if n==1 or n==2:\n",
    "        return 1\n",
    "    elif n<=0:\n",
    "        return \n",
    "    #finding nth fib using recursion\n",
    "    a = NthFib(n-1)\n",
    "    b = NthFib(n-2)\n",
    "    return a+b\n",
    "\n",
    "NthFib(int(input()))"
   ]
  },
  {
   "cell_type": "code",
   "execution_count": 63,
   "id": "f8752889",
   "metadata": {},
   "outputs": [
    {
     "data": {
      "text/plain": [
       "13"
      ]
     },
     "execution_count": 63,
     "metadata": {},
     "output_type": "execute_result"
    }
   ],
   "source": [
    "#without recursion\n",
    "def nFib(n):\n",
    "    a = 1 \n",
    "    b=1\n",
    "    for i in range(1,n):\n",
    "        c=a+b\n",
    "        a=b\n",
    "        b=c\n",
    "    return a\n",
    "\n",
    "nFib(7)"
   ]
  },
  {
   "cell_type": "markdown",
   "id": "5a9a625d",
   "metadata": {},
   "source": [
    "##### Code : Square Pattern\n",
    "\n",
    "Print the following pattern for the given N number of rows.\n",
    "Pattern for N = 4\n",
    "4444\n",
    "4444\n",
    "4444\n",
    "4444\n",
    "Input format :\n",
    "Integer N (Total no. of rows)\n",
    "Output format :\n",
    "Pattern in N lines\n",
    "Constraints\n",
    "0 <= N <= 50\n",
    "Sample Input 1:\n",
    "7\n",
    "Sample Output 1:\n",
    "7777777\n",
    "7777777\n",
    "7777777\n",
    "7777777\n",
    "7777777\n",
    "7777777\n",
    "7777777\n",
    "Sample Input 1:\n",
    "6\n",
    "Sample Output 1:\n",
    "666666\n",
    "666666\n",
    "666666\n",
    "666666\n",
    "666666\n",
    "666666\n"
   ]
  },
  {
   "cell_type": "code",
   "execution_count": 3,
   "id": "92cf5a18",
   "metadata": {},
   "outputs": [
    {
     "name": "stdout",
     "output_type": "stream",
     "text": [
      "4\n",
      "4444\n",
      "4444\n",
      "4444\n",
      "4444\n"
     ]
    }
   ],
   "source": [
    "n=int(input())\n",
    "for i in range(n):\n",
    "    for j in range(n):\n",
    "        print(n,end='')\n",
    "    print()"
   ]
  },
  {
   "cell_type": "markdown",
   "id": "f9610258",
   "metadata": {},
   "source": [
    "1\n",
    "\n",
    "12\n",
    "\n",
    "123\n",
    "\n",
    "1234"
   ]
  },
  {
   "cell_type": "code",
   "execution_count": 8,
   "id": "58c3aa39",
   "metadata": {},
   "outputs": [
    {
     "name": "stdout",
     "output_type": "stream",
     "text": [
      "4\n",
      "1\n",
      "12\n",
      "123\n",
      "1234\n"
     ]
    }
   ],
   "source": [
    "n=int(input())\n",
    "for i in range(1,n+1):\n",
    "    for j in range(1,i+1):\n",
    "        print(j,end='')\n",
    "    print()"
   ]
  },
  {
   "cell_type": "markdown",
   "id": "6dc7598e",
   "metadata": {},
   "source": [
    "1\n",
    "\n",
    "23\n",
    "\n",
    "345\n",
    "\n",
    "4567"
   ]
  },
  {
   "cell_type": "code",
   "execution_count": 9,
   "id": "03f7a43b",
   "metadata": {},
   "outputs": [
    {
     "name": "stdout",
     "output_type": "stream",
     "text": [
      "4\n",
      "1\n",
      "23\n",
      "345\n",
      "4567\n"
     ]
    }
   ],
   "source": [
    "n=int(input())\n",
    "for i in range(1,n+1):\n",
    "    for j in range(i):\n",
    "        print(i+j,end='')\n",
    "    print()"
   ]
  },
  {
   "cell_type": "markdown",
   "id": "302d115a",
   "metadata": {},
   "source": [
    "1\n",
    "\n",
    "23\n",
    "\n",
    "456\n",
    "\n",
    "78910"
   ]
  },
  {
   "cell_type": "code",
   "execution_count": 10,
   "id": "5bd17c48",
   "metadata": {},
   "outputs": [
    {
     "name": "stdout",
     "output_type": "stream",
     "text": [
      "4\n",
      "1\n",
      "23\n",
      "456\n",
      "78910\n"
     ]
    }
   ],
   "source": [
    "n=int(input())\n",
    "num=1\n",
    "for i in range(1,n+1):\n",
    "    for j in range(1,i+1):\n",
    "        print(num,end='')\n",
    "        num+=1\n",
    "    print()"
   ]
  },
  {
   "cell_type": "markdown",
   "id": "7a723f2c",
   "metadata": {},
   "source": [
    "##### Code : Triangular Star Pattern\n",
    "\n",
    "Print the following pattern for the given N number of rows.\n",
    "Pattern for N = 4\n",
    "\n",
    "*\n",
    "\n",
    "**\n",
    "\n",
    "***\n",
    "\n",
    "****\n",
    "\n",
    "Note : There are no spaces between the stars (*).\n",
    "Input format :\n",
    "Integer N (Total no. of rows)\n",
    "Output format :\n",
    "Pattern in N lines\n",
    "Constraints\n",
    "0 <= N <= 50\n",
    "Sample Input 1:\n",
    "5\n",
    "\n",
    "Sample Output 1:\n",
    "\n",
    "*\n",
    "\n",
    "**\n",
    "\n",
    "***\n",
    "\n",
    "****\n",
    "\n",
    "*****\n",
    "\n",
    "Sample Input 2:\n",
    "6\n",
    "Sample Output 2:\n",
    "\n",
    "*\n",
    "\n",
    "**\n",
    "\n",
    "***\n",
    "\n",
    "****\n",
    "\n",
    "*****\n",
    "\n",
    "******"
   ]
  },
  {
   "cell_type": "code",
   "execution_count": 15,
   "id": "ceeb78f8",
   "metadata": {},
   "outputs": [
    {
     "name": "stdout",
     "output_type": "stream",
     "text": [
      "6\n",
      "*\n",
      "**\n",
      "***\n",
      "****\n",
      "*****\n",
      "******\n"
     ]
    }
   ],
   "source": [
    "n=int(input())\n",
    "for i in range(1,n+1):\n",
    "    for j in range(1,i+1):\n",
    "        print(\"*\",end='')\n",
    "    print()"
   ]
  },
  {
   "cell_type": "code",
   "execution_count": 16,
   "id": "347e9e74",
   "metadata": {},
   "outputs": [
    {
     "name": "stdout",
     "output_type": "stream",
     "text": [
      "4\n",
      "1\n",
      "22\n",
      "333\n",
      "4444\n"
     ]
    }
   ],
   "source": [
    "n=int(input())\n",
    "for i in range(1,n+1):\n",
    "    for j in range(1,i+1):\n",
    "        print(i,end='')\n",
    "    print()"
   ]
  },
  {
   "cell_type": "markdown",
   "id": "b2024a11",
   "metadata": {},
   "source": [
    "##### Code : Reverse Number Pattern\n",
    "\n",
    "Print the following pattern for the given N number of rows.\n",
    "Pattern for N = 4\n",
    "1\n",
    "21\n",
    "321\n",
    "4321\n",
    "Input format :\n",
    "Integer N (Total no. of rows)\n",
    "Output format :\n",
    "Pattern in N lines\n",
    "Constraints\n",
    "0 <= N <= 50\n",
    "Sample Input 1:\n",
    "5\n",
    "Sample Output 1:\n",
    "1\n",
    "21\n",
    "321\n",
    "4321\n",
    "54321\n",
    "Sample Input 2:\n",
    "6\n",
    "Sample Output 2:\n",
    "1\n",
    "21\n",
    "321\n",
    "4321\n",
    "54321\n",
    "654321\n"
   ]
  },
  {
   "cell_type": "code",
   "execution_count": 18,
   "id": "37aeda7c",
   "metadata": {},
   "outputs": [
    {
     "name": "stdout",
     "output_type": "stream",
     "text": [
      "4\n",
      "1\n",
      "21\n",
      "321\n",
      "4321\n"
     ]
    }
   ],
   "source": [
    "n=int(input())\n",
    "for i in range(1,n+1):\n",
    "    for j in range(1,i+1):\n",
    "        print(i-j+1,end='')\n",
    "    print()"
   ]
  },
  {
   "cell_type": "markdown",
   "id": "c324fcb3",
   "metadata": {},
   "source": [
    "#### Character Patterns"
   ]
  },
  {
   "cell_type": "code",
   "execution_count": 19,
   "id": "5a278fd9",
   "metadata": {},
   "outputs": [
    {
     "name": "stdout",
     "output_type": "stream",
     "text": [
      "4\n",
      "ABCD\n",
      "ABCD\n",
      "ABCD\n",
      "ABCD\n"
     ]
    }
   ],
   "source": [
    "n=int(input())\n",
    "x=ord(\"A\")\n",
    "for i in range(1,n+1):\n",
    "    for j in range(1,n+1):\n",
    "        print(chr(x+j-1),end='')\n",
    "    print()"
   ]
  },
  {
   "cell_type": "code",
   "execution_count": 33,
   "id": "9ae04f89",
   "metadata": {},
   "outputs": [
    {
     "name": "stdout",
     "output_type": "stream",
     "text": [
      "4\n",
      "ABCD\n",
      "BCDE\n",
      "CDEF\n",
      "DEFG\n"
     ]
    }
   ],
   "source": [
    "n=int(input())\n",
    "x=ord(\"A\")\n",
    "for i in range(1,n+1):\n",
    "    for j in range(1,n+1):\n",
    "        print(chr(x+i+j-2),end='')\n",
    "    print()"
   ]
  },
  {
   "cell_type": "code",
   "execution_count": 36,
   "id": "63ef439b",
   "metadata": {},
   "outputs": [
    {
     "name": "stdout",
     "output_type": "stream",
     "text": [
      "4\n",
      "ABCD\n",
      "BCDE\n",
      "CDEF\n",
      "DEFG\n"
     ]
    }
   ],
   "source": [
    "n=int(input())\n",
    "i=1\n",
    "while i<=n:\n",
    "    startChar=chr(ord(\"A\")+i-1)\n",
    "    j=1\n",
    "    while j<=n:\n",
    "        print(chr(ord(startChar)+j-1),end='')\n",
    "        j+=1\n",
    "    i+=1\n",
    "    print()"
   ]
  },
  {
   "cell_type": "markdown",
   "id": "ee42d4da",
   "metadata": {},
   "source": [
    "##### Code : Character Pattern\n",
    "\n",
    "Print the following pattern for the given N number of rows.\n",
    "Pattern for N = 4\n",
    "A\n",
    "BC\n",
    "CDE\n",
    "DEFG\n",
    "Input format :\n",
    "Integer N (Total no. of rows)\n",
    "Output format :\n",
    "Pattern in N lines\n",
    "Constraints\n",
    "0 <= N <= 13\n",
    "Sample Input 1:\n",
    "5\n",
    "Sample Output 1:\n",
    "A\n",
    "BC\n",
    "CDE\n",
    "DEFG\n",
    "EFGHI\n",
    "Sample Input 2:\n",
    "6\n",
    "Sample Output 2:\n",
    "A\n",
    "BC\n",
    "CDE\n",
    "DEFG\n",
    "EFGHI\n",
    "FGHIJK\n"
   ]
  },
  {
   "cell_type": "code",
   "execution_count": 11,
   "id": "d37b0786",
   "metadata": {},
   "outputs": [
    {
     "name": "stdout",
     "output_type": "stream",
     "text": [
      "5\n",
      "A\n",
      "BC\n",
      "CDE\n",
      "DEFG\n",
      "EFGHI\n"
     ]
    }
   ],
   "source": [
    "n=int(input())\n",
    "for i in range(1,n+1):\n",
    "    for j in range(1,i+1):\n",
    "        print(chr(ord(\"A\")+i+j-2),end='')\n",
    "    print()"
   ]
  },
  {
   "cell_type": "markdown",
   "id": "14f7aa61",
   "metadata": {},
   "source": [
    "##### Code : Interesting Alphabets\n",
    "\n",
    "Print the following pattern for the given number of rows.\n",
    "Pattern for N = 5\n",
    "E\n",
    "DE\n",
    "CDE\n",
    "BCDE\n",
    "ABCDE\n",
    "Input format :\n",
    "N (Total no. of rows)\n",
    "Output format :\n",
    "Pattern in N lines\n",
    "Constraints\n",
    "0 <= N <= 26\n",
    "\n",
    "\n",
    "\n",
    "\n",
    "\n",
    "\n",
    "\n",
    "\n",
    "\n",
    "\n",
    "\n",
    "\n",
    "\n",
    "\n",
    "Sample Input 1:\n",
    "8\n",
    "Sample Output 1:\n",
    "H\n",
    "GH\n",
    "FGH\n",
    "EFGH\n",
    "DEFGH\n",
    "CDEFGH\n",
    "BCDEFGH\n",
    "ABCDEFGH\n",
    "Sample Input 2:\n",
    "7\n",
    "Sample Output 2:\n",
    "G\n",
    "FG\n",
    "EFG\n",
    "DEFG\n",
    "CDEFG\n",
    "BCDEFG\n",
    "ABCDEFG"
   ]
  },
  {
   "cell_type": "code",
   "execution_count": 4,
   "id": "cfff3579",
   "metadata": {},
   "outputs": [
    {
     "name": "stdout",
     "output_type": "stream",
     "text": [
      "5\n",
      "E\n",
      "DE\n",
      "CDE\n",
      "BCDE\n",
      "ABCDE\n"
     ]
    }
   ],
   "source": [
    "n=int(input())\n",
    "for i in range(1,n+1):\n",
    "    for j in range(n-i+1,n+1):\n",
    "        print(chr(ord(\"A\")+j-1),end='')\n",
    "    print()"
   ]
  },
  {
   "cell_type": "markdown",
   "id": "19981a93",
   "metadata": {},
   "source": [
    "##### Number Pattern 1\n",
    "\n",
    "Print the following pattern for the given N number of rows.\n",
    "Pattern for N = 4\n",
    "\n",
    "1\n",
    "\n",
    "11\n",
    "\n",
    "111\n",
    "\n",
    "1111\n",
    "\n",
    "Input format :\n",
    "Integer N (Total no. of rows)\n",
    "Output format :\n",
    "Pattern in N lines\n",
    "Sample Input :\n",
    "5\n",
    "Sample Output :\n",
    "\n",
    "1\n",
    "\n",
    "11\n",
    "\n",
    "111\n",
    "\n",
    "1111\n",
    "\n",
    "11111\n",
    "\n"
   ]
  },
  {
   "cell_type": "code",
   "execution_count": 12,
   "id": "4017a80b",
   "metadata": {},
   "outputs": [
    {
     "name": "stdout",
     "output_type": "stream",
     "text": [
      "5\n",
      "1\n",
      "11\n",
      "111\n",
      "1111\n",
      "11111\n"
     ]
    }
   ],
   "source": [
    "n=int(input())\n",
    "for i in range(1,n+1):\n",
    "    for j in range(1,i+1):\n",
    "        print(1,end='')\n",
    "    print()"
   ]
  },
  {
   "cell_type": "markdown",
   "id": "6e63bfb1",
   "metadata": {},
   "source": [
    "##### Number Pattern 2\n",
    "\n",
    "Print the following pattern for the given N number of rows.\n",
    "Pattern for N = 4\n",
    "\n",
    "1\n",
    "\n",
    "11\n",
    "\n",
    "202\n",
    "\n",
    "3003\n",
    "\n",
    "Input format :\n",
    "Integer N (Total no. of rows)\n",
    "Contraints:\n",
    "1 <= n <= 50\n",
    "Output format :\n",
    "Pattern in N lines\n",
    "Sample Input :\n",
    "5\n",
    "Sample Output :\n",
    "\n",
    "1\n",
    "\n",
    "11\n",
    "\n",
    "\n",
    "202\n",
    "\n",
    "3003\n",
    "\n",
    "40004\n",
    "\n"
   ]
  },
  {
   "cell_type": "code",
   "execution_count": 21,
   "id": "39a8dfef",
   "metadata": {},
   "outputs": [
    {
     "name": "stdout",
     "output_type": "stream",
     "text": [
      "5\n",
      "1\n",
      "11\n",
      "202\n",
      "3003\n",
      "40004\n"
     ]
    }
   ],
   "source": [
    "n=int(input())\n",
    "for i in range(0,n):\n",
    "    if i==0:\n",
    "        #to print 1 at the first line\n",
    "        print(1,end='')\n",
    "    else:\n",
    "        print(i,end='')\n",
    "        #to print 0s\n",
    "        for j in range(0,i-1):\n",
    "            print(0,end='')\n",
    "        #to print i at the last \n",
    "        for k in range(i-1,i):\n",
    "            print(i,end='')\n",
    "    print()"
   ]
  },
  {
   "cell_type": "markdown",
   "id": "4030432c",
   "metadata": {},
   "source": [
    "##### Number Pattern 3\n",
    "\n",
    "Print the following pattern for the given N number of rows.\n",
    "Pattern for N = 4\n",
    "\n",
    "1\n",
    "\n",
    "11\n",
    "\n",
    "121\n",
    "\n",
    "1221\n",
    "\n",
    "Input format :\n",
    "Integer N (Total no. of rows)\n",
    "Output format :\n",
    "Pattern in N lines\n",
    "Sample Input :\n",
    "5\n",
    "Sample Output :\n",
    "\n",
    "1\n",
    "\n",
    "11\n",
    "\n",
    "121\n",
    "\n",
    "1221\n",
    "\n",
    "12221\n",
    "\n"
   ]
  },
  {
   "cell_type": "code",
   "execution_count": 20,
   "id": "5a05c01b",
   "metadata": {},
   "outputs": [
    {
     "name": "stdout",
     "output_type": "stream",
     "text": [
      "5\n",
      "1\n",
      "11\n",
      "121\n",
      "1221\n",
      "12221\n"
     ]
    }
   ],
   "source": [
    "n=int(input())\n",
    "for i in range(0,n):\n",
    "    if i==0:\n",
    "        #to print just 1 at the first line\n",
    "        print(1,end='')\n",
    "    else:\n",
    "        print(1,end='')\n",
    "        #printing 2s\n",
    "        for j in range(0,i-1):\n",
    "            print(2,end='')\n",
    "        #printing 1 at the last \n",
    "        for k in range(i-1,i):\n",
    "            print(1,end='')\n",
    "    print()"
   ]
  },
  {
   "cell_type": "markdown",
   "id": "604b8c62",
   "metadata": {},
   "source": [
    "##### Number Pattern\n",
    "\n",
    "Print the following pattern for the given N number of rows.\n",
    "Pattern for N = 4\n",
    "\n",
    "1234\n",
    "\n",
    "123\n",
    "\n",
    "12\n",
    "\n",
    "1\n",
    "\n",
    "Input format :\n",
    "Integer N (Total no. of rows)\n",
    "Output format :\n",
    "Pattern in N lines\n",
    "Sample Input :\n",
    "5\n",
    "Sample Output :\n",
    "\n",
    "12345\n",
    "\n",
    "1234\n",
    "\n",
    "123\n",
    "\n",
    "12\n",
    "\n",
    "1\n"
   ]
  },
  {
   "cell_type": "code",
   "execution_count": 25,
   "id": "aa898254",
   "metadata": {},
   "outputs": [
    {
     "name": "stdout",
     "output_type": "stream",
     "text": [
      "5\n",
      "12345\n",
      "1234\n",
      "123\n",
      "12\n",
      "1\n"
     ]
    }
   ],
   "source": [
    "n=int(input())\n",
    "for i in range(0,n):\n",
    "    for j in range(1,n-i+1):\n",
    "        print(j,end='')\n",
    "    print()"
   ]
  },
  {
   "cell_type": "markdown",
   "id": "69f8eec0",
   "metadata": {},
   "source": [
    "##### Alpha Pattern\n",
    "\n",
    "Print the following pattern for the given N number of rows.\n",
    "Pattern for N = 3\n",
    "\n",
    "A\n",
    "\n",
    "BB\n",
    "\n",
    "CCC\n",
    "\n",
    "Input format :\n",
    "Integer N (Total no. of rows)\n",
    "Output format :\n",
    "Pattern in N lines\n",
    "Constraints\n",
    "0 <= N <= 26\n",
    "Sample Input 1:\n",
    "7\n",
    "Sample Output 1:\n",
    "\n",
    "A\n",
    "\n",
    "BB\n",
    "\n",
    "CCC\n",
    "\n",
    "DDDD\n",
    "\n",
    "EEEEE\n",
    "\n",
    "FFFFFF\n",
    "\n",
    "GGGGGGG\n",
    "\n",
    "Sample Input 2:\n",
    "6\n",
    "Sample Output 2:\n",
    "\n",
    "A\n",
    "\n",
    "BB\n",
    "\n",
    "CCC\n",
    "\n",
    "DDDD\n",
    "\n",
    "EEEEE\n",
    "\n",
    "FFFFFF\n"
   ]
  },
  {
   "cell_type": "code",
   "execution_count": 29,
   "id": "02422502",
   "metadata": {},
   "outputs": [
    {
     "name": "stdout",
     "output_type": "stream",
     "text": [
      "6\n",
      "A\n",
      "BB\n",
      "CCC\n",
      "DDDD\n",
      "EEEEE\n",
      "FFFFFF\n"
     ]
    }
   ],
   "source": [
    "n=int(input())\n",
    "for i in range(0,n):\n",
    "    for j in range(0,i+1):\n",
    "        print(chr(ord(\"A\")+i),end='')\n",
    "    print()"
   ]
  },
  {
   "cell_type": "code",
   "execution_count": 2,
   "id": "b2c4d255",
   "metadata": {},
   "outputs": [
    {
     "name": "stdout",
     "output_type": "stream",
     "text": [
      "5\n",
      "****\n",
      "***\n",
      "**\n",
      "*\n",
      "\n"
     ]
    }
   ],
   "source": [
    "n=int(input())\n",
    "for i in range(1,n+1):\n",
    "    for j in range(1,n-i+1):\n",
    "        print(\"*\",end='')\n",
    "    print()"
   ]
  },
  {
   "cell_type": "code",
   "execution_count": 8,
   "id": "44733422",
   "metadata": {},
   "outputs": [
    {
     "name": "stdout",
     "output_type": "stream",
     "text": [
      "4\n",
      "   *\n",
      "  **\n",
      " ***\n",
      "****\n"
     ]
    }
   ],
   "source": [
    "#Mirror pattern using for loop\n",
    "n=int(input())\n",
    "for i in range(1,n+1):\n",
    "    #for spaces\n",
    "    for j in range(1,n-i+1):\n",
    "        print(\" \",end='')\n",
    "    #for stars\n",
    "    for k in range(1,i+1):\n",
    "        print(\"*\",end='')\n",
    "    print()"
   ]
  },
  {
   "cell_type": "code",
   "execution_count": 13,
   "id": "0845e353",
   "metadata": {},
   "outputs": [
    {
     "name": "stdout",
     "output_type": "stream",
     "text": [
      "4\n",
      "   *\n",
      "  **\n",
      " ***\n",
      "****\n"
     ]
    }
   ],
   "source": [
    "#Mirror pattern using while loop\n",
    "n=int(input())\n",
    "i=1\n",
    "while i<=n:\n",
    "    spaces=1\n",
    "    while spaces<=n-i:\n",
    "        print(\" \",end='')\n",
    "        spaces+=1;\n",
    "    stars=1\n",
    "    while stars<=i:\n",
    "        print(\"*\",end='')\n",
    "        stars+=1;\n",
    "    print()\n",
    "    i+=1"
   ]
  },
  {
   "cell_type": "markdown",
   "id": "0d5366e0",
   "metadata": {},
   "source": [
    "##### Isosceles Triangle "
   ]
  },
  {
   "cell_type": "code",
   "execution_count": 29,
   "id": "aafb3910",
   "metadata": {},
   "outputs": [
    {
     "name": "stdout",
     "output_type": "stream",
     "text": [
      "5\n",
      "    1\n",
      "   121\n",
      "  12321\n",
      " 1234321\n",
      "123454321\n"
     ]
    }
   ],
   "source": [
    "#Isosceles Triangle\n",
    "n=int(input())\n",
    "for i in range(1,n+1):\n",
    "    #spaces\n",
    "    for spc in range(1,n-i+1):\n",
    "        print(\" \",end='')\n",
    "    #increasing number\n",
    "    for inc in range(1,i+1):\n",
    "        print(inc,end='')\n",
    "    #decreasing number\n",
    "    for dec in range(1,i):\n",
    "        print(i-dec,end='')\n",
    "    print()\n"
   ]
  },
  {
   "cell_type": "markdown",
   "id": "b04d007e",
   "metadata": {},
   "source": [
    "##### Isosceles Triangle While loop"
   ]
  },
  {
   "cell_type": "code",
   "execution_count": 25,
   "id": "bf003400",
   "metadata": {},
   "outputs": [
    {
     "name": "stdout",
     "output_type": "stream",
     "text": [
      "5\n",
      "    1\n",
      "   121\n",
      "  12321\n",
      " 1234321\n",
      "123454321\n"
     ]
    }
   ],
   "source": [
    "#Isosceles Triangle While loop\n",
    "\n",
    "n=int(input())\n",
    "i=1\n",
    "while i<=n:\n",
    "    spaces=1\n",
    "    while spaces<=n-i:\n",
    "        print(\" \",end='')\n",
    "        spaces+=1\n",
    "    increasing_num =1\n",
    "    while increasing_num<=i:\n",
    "        print(increasing_num,end='')\n",
    "        increasing_num+=1\n",
    "    decreasing_num=1\n",
    "    while decreasing_num<i:\n",
    "        print(i-decreasing_num,end='')\n",
    "        decreasing_num+=1\n",
    "    print()\n",
    "    i+=1"
   ]
  },
  {
   "cell_type": "markdown",
   "id": "e46480af",
   "metadata": {},
   "source": [
    "##### Diamond pattern"
   ]
  },
  {
   "cell_type": "code",
   "execution_count": 9,
   "id": "48c3d369",
   "metadata": {},
   "outputs": [
    {
     "name": "stdout",
     "output_type": "stream",
     "text": [
      "6\n",
      "  *\n",
      " ***\n",
      "*****\n",
      " ***\n",
      "  *\n"
     ]
    }
   ],
   "source": [
    "n=int(input())\n",
    "if n%2!=0:\n",
    "    n1=(n+1)//2\n",
    "    n2=n-n1\n",
    "else:\n",
    "    n1=n//2\n",
    "    n2=n1-1\n",
    "\n",
    "#Upper half pattern\n",
    "for i in range(1,n1+1):\n",
    "    for spaces in range(1,n1-i+1):\n",
    "        print(\" \",end='')\n",
    "    for stars in range(1,(2*i)):\n",
    "        print(\"*\",end='')\n",
    "    print()\n",
    "\n",
    "#Bottom half pattern\n",
    "for i in range(n2,0,-1):\n",
    "    for spaces in range(1,n2-i+2):\n",
    "        print(\" \",end='')\n",
    "    for stars in range(1,(2*i)):\n",
    "        print(\"*\",end='')\n",
    "    print()"
   ]
  },
  {
   "cell_type": "code",
   "execution_count": 22,
   "id": "6cebaa4c",
   "metadata": {},
   "outputs": [
    {
     "name": "stdout",
     "output_type": "stream",
     "text": [
      "7\n",
      "1            1\n",
      "12          21\n",
      "123        321\n",
      "1234      4321\n",
      "12345    54321\n",
      "123456  654321\n",
      "12345677654321\n"
     ]
    }
   ],
   "source": [
    "n=int(input())\n",
    "for i in range(1,n+1):\n",
    "    #for printing the left side of the pattern, the triangle\n",
    "    for j in range(1,i+1):\n",
    "        print(j,end='')\n",
    "    #for printing the spaces pattern\n",
    "    for spaces in range(1,((2*n)-(2*i)+1)):\n",
    "        print(\" \",end='')\n",
    "    #for printing the reverse triangle pattern\n",
    "    for j in range(1,i+1):\n",
    "        print(i-j+1,end='')\n",
    "    print()"
   ]
  },
  {
   "cell_type": "code",
   "execution_count": 43,
   "id": "62bb7744",
   "metadata": {},
   "outputs": [
    {
     "name": "stdout",
     "output_type": "stream",
     "text": [
      "10\n",
      "* \n",
      " * * \n",
      "  * * * \n",
      "   * * * * \n",
      "    * * * * * \n",
      "     * * * * * * \n",
      "      * * * * * * * \n",
      "       * * * * * * * * \n",
      "        * * * * * * * * * \n",
      "         * * * * * * * * * * \n",
      "        * * * * * * * * * \n",
      "       * * * * * * * * \n",
      "      * * * * * * * \n",
      "     * * * * * * \n",
      "    * * * * * \n",
      "   * * * * \n",
      "  * * * \n",
      " * * \n",
      "* \n"
     ]
    }
   ],
   "source": [
    "n=int(input())\n",
    "#top half\n",
    "for i in range(1,n+1):\n",
    "    for spaces in range(1,i):\n",
    "        print(\" \",end='')\n",
    "    for j in range(1,i+1):\n",
    "        print(\"* \",end='')\n",
    "    print()\n",
    "#bottom half\n",
    "for i in range(n-1,0,-1):\n",
    "    for spaces in range(1,i):\n",
    "        print(\" \",end='')\n",
    "    for j in range(1,i+1):\n",
    "        print(\"* \",end='')\n",
    "    print()"
   ]
  },
  {
   "cell_type": "markdown",
   "id": "e2938a86",
   "metadata": {},
   "source": [
    "##### Binary Pattern"
   ]
  },
  {
   "cell_type": "code",
   "execution_count": 3,
   "id": "afaab0b0",
   "metadata": {},
   "outputs": [
    {
     "name": "stdout",
     "output_type": "stream",
     "text": [
      "5\n",
      "1111\n",
      "000\n",
      "11\n",
      "0\n",
      "\n"
     ]
    }
   ],
   "source": [
    "n=int(input())\n",
    "for i in range(1,n+1):\n",
    "    for j in range(1,n-i+1):\n",
    "        if (i%2==0):\n",
    "            print(0,end='')\n",
    "        else:\n",
    "            print(1,end='')\n",
    "    print()"
   ]
  },
  {
   "cell_type": "code",
   "execution_count": 10,
   "id": "ee596589",
   "metadata": {},
   "outputs": [
    {
     "name": "stdout",
     "output_type": "stream",
     "text": [
      "4\n",
      "   1 \n",
      "  2 3 \n",
      " 4 5 6 \n",
      "7 8 9 10 \n"
     ]
    }
   ],
   "source": [
    "n=int(input())\n",
    "count=1\n",
    "for i in range(1,n+1):\n",
    "    for spaces in range(1,n-i+1):\n",
    "        print(\" \",end='')\n",
    "    for j in range(1,i+1):\n",
    "        print(count,end=' ')\n",
    "        count+=1\n",
    "    print()"
   ]
  },
  {
   "cell_type": "markdown",
   "id": "a1f4db97",
   "metadata": {},
   "source": [
    "##### Print concentric rectangular pattern in a 2d matrix"
   ]
  },
  {
   "cell_type": "code",
   "execution_count": 25,
   "id": "0de936d1",
   "metadata": {},
   "outputs": [
    {
     "name": "stdout",
     "output_type": "stream",
     "text": [
      "4\n",
      "4444444\n",
      "4333334\n",
      "4322234\n",
      "4321234\n",
      "4322234\n",
      "4333334\n",
      "4444444\n"
     ]
    }
   ],
   "source": [
    "n=int(input())\n",
    "n1=(2*n//2)\n",
    "n2=n1-1\n",
    "for i in range(1,n1+1):\n",
    "    temp = n\n",
    "    for decreasing in range(1,i):\n",
    "        print(temp,end='')\n",
    "        temp-=1\n",
    "    for const in range(1,(2*n-2*i+2)):\n",
    "        print(n-i+1,end='')\n",
    "    for increasing in range(1,i):\n",
    "        temp+=1\n",
    "        print(temp,end='')\n",
    "    print()\n",
    "\n",
    "for i in range(n2,0,-1):\n",
    "    temp=n\n",
    "    for decreasing in range(1,i):\n",
    "        print(temp,end='')\n",
    "        temp-=1\n",
    "    for const in range(1,(2*n-2*i+2)):\n",
    "        print(n-i+1,end='')\n",
    "    for increasing in range(1,i):\n",
    "        temp+=1\n",
    "        print(temp,end='')\n",
    "    print()"
   ]
  },
  {
   "cell_type": "markdown",
   "id": "ff65b3bd",
   "metadata": {},
   "source": [
    "RANGOLI PATTERN"
   ]
  },
  {
   "cell_type": "code",
   "execution_count": 3,
   "id": "f21896ab",
   "metadata": {},
   "outputs": [
    {
     "name": "stdout",
     "output_type": "stream",
     "text": [
      "----\n",
      "--\n"
     ]
    }
   ],
   "source": [
    "n=3\n",
    "for i in range((2*n-1),1,-2):\n",
    "    for j in range(i,1,-1):\n",
    "        print('-',end='')\n",
    "    print()\n",
    "    "
   ]
  },
  {
   "cell_type": "code",
   "execution_count": 4,
   "id": "c029cff4",
   "metadata": {},
   "outputs": [
    {
     "name": "stdout",
     "output_type": "stream",
     "text": [
      "4444444\n",
      "4333334\n",
      "4322234\n",
      "4321234\n",
      "4322234\n",
      "4333334\n",
      "4444444\n"
     ]
    }
   ],
   "source": [
    "n=4\n",
    "#dividing the pattern into two parts n1 and n2\n",
    "n1= 2*n//2\n",
    "n2=n1-1\n",
    "\n",
    "#first half\n",
    "for i in range(1,n1+1):\n",
    "    temp=n\n",
    "    for decreasing in range(1,i):\n",
    "        print(temp,end='')\n",
    "        #reducing value of temp after printing\n",
    "        temp-=1\n",
    "    for constant in range(1, (2*n - 2*i + 2)):\n",
    "        print(n-i+1,end='')\n",
    "    for increasing in range(1,i):\n",
    "        #first increasing value of temp and then printing it\n",
    "        temp+=1\n",
    "        print(temp,end='')\n",
    "    print()\n",
    "#second half\n",
    "#reverse the numbering of lower rows. Start from n2 and end at 1\n",
    "for i in range(n2,0,-1):\n",
    "    temp=n\n",
    "    for decreasing in range(1,i):\n",
    "        print(temp,end='')\n",
    "        temp-=1\n",
    "    for constant in range(1, (2*n - 2*i +2)):\n",
    "        print(n-i+1,end='')\n",
    "    for increasing in range(1,i):\n",
    "        temp+=1\n",
    "        print(temp,end='')\n",
    "    print()"
   ]
  },
  {
   "cell_type": "markdown",
   "id": "11e26f2a",
   "metadata": {},
   "source": [
    "Rangoli Pattern: \n",
    "#size 3\n",
    "\n",
    "----c----\n",
    "\n",
    "--c-b-c--\n",
    "\n",
    "c-b-a-b-c\n",
    "\n",
    "--c-b-c--\n",
    "\n",
    "----c----\n"
   ]
  },
  {
   "cell_type": "code",
   "execution_count": 41,
   "id": "09cbdd82",
   "metadata": {},
   "outputs": [
    {
     "name": "stdout",
     "output_type": "stream",
     "text": [
      "----c-----\n",
      "--c-b-c---\n",
      "c-b-a-b-c-\n"
     ]
    }
   ],
   "source": [
    "n=3\n",
    "for rows in range(1,n+1):\n",
    "    for _ in range(2*n-2*rows,0,-1):\n",
    "        print(\"-\",end='')\n",
    "    for i in range(1,rows+1):\n",
    "        print(chr(ord('a')+n-i)+'-',end='')\n",
    "    for j in range(rows-1,0,-1):\n",
    "        print(chr(ord('a')+n-j)+'-',end='')\n",
    "    for _ in range(2*n-2*rows,0,-1):\n",
    "        print(\"-\",end='')\n",
    "    print()\n",
    "for rows in range(n,1,-1):\n",
    "    for _ in range(2,(2*n-2),2):\n",
    "        print(\"-\",end='')\n",
    "    for i in range(rows):\n",
    "        "
   ]
  },
  {
   "cell_type": "code",
   "execution_count": 2,
   "id": "71b2fd67",
   "metadata": {},
   "outputs": [
    {
     "name": "stdout",
     "output_type": "stream",
     "text": [
      "----a----\n",
      "--b-a-b--\n",
      "c-b-a-b-c\n",
      "--b-a-b--\n",
      "----a----\n"
     ]
    }
   ],
   "source": [
    "#chat gpt generated\n",
    "n = 3\n",
    "\n",
    "# Generating the top half of the pattern\n",
    "for rows in range(1, n+1):\n",
    "    for _ in range(2*n - 2*rows):\n",
    "        print(\"-\", end='')\n",
    "    for i in range(rows, 0, -1):\n",
    "        print(chr(ord('a') + i - 1), end='')\n",
    "        if i != 1:\n",
    "            print(\"-\", end='')\n",
    "    for i in range(2, rows+1):\n",
    "        print(\"-\", end='')\n",
    "        print(chr(ord('a') + i - 1), end='')\n",
    "    for _ in range(2*n - 2*rows):\n",
    "        print(\"-\", end='')\n",
    "    print()\n",
    "\n",
    "# Generating the bottom half of the pattern\n",
    "for rows in range(n-1, 0, -1):\n",
    "    for _ in range(2*n - 2*rows):\n",
    "        print(\"-\", end='')\n",
    "    for i in range(rows, 0, -1):\n",
    "        print(chr(ord('a') + i - 1), end='')\n",
    "        if i != 1:\n",
    "            print(\"-\", end='')\n",
    "    for i in range(2, rows+1):\n",
    "        print(\"-\", end='')\n",
    "        print(chr(ord('a') + i - 1), end='')\n",
    "    for _ in range(2*n - 2*rows):\n",
    "        print(\"-\", end='')\n",
    "    print()\n"
   ]
  },
  {
   "cell_type": "code",
   "execution_count": 42,
   "id": "98fcf8cf",
   "metadata": {},
   "outputs": [
    {
     "name": "stdout",
     "output_type": "stream",
     "text": [
      "------d------\n",
      "----d-c-d----\n",
      "--d-c-b-c-d--\n",
      "d-c-b-a-b-c-d\n",
      "--d-c-b-c-d--\n",
      "----d-c-d----\n",
      "------d------\n"
     ]
    }
   ],
   "source": [
    "import string\n",
    "\n",
    "def rangoli_pattern(size):\n",
    "    #assign all lowercase alphabets\n",
    "    alphabet=string.ascii_lowercase\n",
    "    rows=[]\n",
    "    \n",
    "    for i in range(size):\n",
    "        row='-'.join(alphabet[size-i-1:size])\n",
    "        rows.append((row[::-1]+row[1:]).center(size*4-3,'-'))\n",
    "    return '\\n'.join(rows+rows[:-1][::-1])\n",
    "\n",
    "print(rangoli_pattern(4))"
   ]
  },
  {
   "cell_type": "code",
   "execution_count": 46,
   "id": "8a35a2b5",
   "metadata": {},
   "outputs": [
    {
     "name": "stdout",
     "output_type": "stream",
     "text": [
      "--------e--------\n",
      "------e-d-e------\n",
      "----e-d-c-d-e----\n",
      "--e-d-c-b-c-d-e--\n",
      "e-d-c-b-a-b-c-d-e\n",
      "--e-d-c-b-c-d-e--\n",
      "----e-d-c-d-e----\n",
      "------e-d-e------\n",
      "--------e--------\n"
     ]
    }
   ],
   "source": [
    "import string\n",
    "def print_rangoli(size):\n",
    "   \n",
    "    # your code goes here\n",
    "    alphabet=string.ascii_lowercase\n",
    "    rows=[]\n",
    "    \n",
    "    for i in range(size):\n",
    "        row='-'.join(alphabet[size-i-1:size])\n",
    "        rows.append((row[::-1]+row[1:]).center(size*4-3,'-'))\n",
    "    print('\\n'.join(rows+rows[:-1][::-1]))\n",
    "\n",
    "if __name__ == '__main__':\n",
    "    print_rangoli(5)"
   ]
  }
 ],
 "metadata": {
  "kernelspec": {
   "display_name": "Python 3 (ipykernel)",
   "language": "python",
   "name": "python3"
  },
  "language_info": {
   "codemirror_mode": {
    "name": "ipython",
    "version": 3
   },
   "file_extension": ".py",
   "mimetype": "text/x-python",
   "name": "python",
   "nbconvert_exporter": "python",
   "pygments_lexer": "ipython3",
   "version": "3.9.13"
  }
 },
 "nbformat": 4,
 "nbformat_minor": 5
}
